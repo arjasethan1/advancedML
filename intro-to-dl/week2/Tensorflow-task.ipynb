{
 "cells": [
  {
   "cell_type": "markdown",
   "metadata": {
    "slideshow": {
     "slide_type": "slide"
    }
   },
   "source": [
    "# Going deeper with Tensorflow\n",
    "\n",
    "In this video, we're going to study the tools you'll use to build deep learning models. Namely, [Tensorflow](https://www.tensorflow.org/).\n",
    "\n",
    "If you're running this notebook outside the course environment, you'll need to install tensorflow:\n",
    "* `pip install tensorflow` should install cpu-only TF on Linux & Mac OS\n",
    "* If you want GPU support from offset, see [TF install page](https://www.tensorflow.org/install/)"
   ]
  },
  {
   "cell_type": "code",
   "execution_count": 31,
   "metadata": {
    "collapsed": true
   },
   "outputs": [],
   "source": [
    "import sys\n",
    "sys.path.append(\"..\")\n",
    "import grading"
   ]
  },
  {
   "cell_type": "markdown",
   "metadata": {},
   "source": [
    "# Visualization"
   ]
  },
  {
   "cell_type": "markdown",
   "metadata": {},
   "source": [
    "Plase note that if you are running on the Coursera platform, you won't be able to access the tensorboard instance due to the network setup there. If you run the notebook locally, you should be able to access TensorBoard on http://127.0.0.1:7007/"
   ]
  },
  {
   "cell_type": "code",
   "execution_count": 32,
   "metadata": {},
   "outputs": [
    {
     "name": "stdout",
     "output_type": "stream",
     "text": [
      "/bin/sh: 1: killall: not found\r\n"
     ]
    }
   ],
   "source": [
    "! killall tensorboard\n",
    "import os\n",
    "os.system(\"tensorboard --logdir=/tmp/tboard --port=7007 &\");"
   ]
  },
  {
   "cell_type": "code",
   "execution_count": 33,
   "metadata": {
    "collapsed": true
   },
   "outputs": [],
   "source": [
    "import tensorflow as tf\n",
    "s = tf.InteractiveSession()"
   ]
  },
  {
   "cell_type": "markdown",
   "metadata": {},
   "source": [
    "# Warming up\n",
    "For starters, let's implement a python function that computes the sum of squares of numbers from 0 to N-1."
   ]
  },
  {
   "cell_type": "code",
   "execution_count": 4,
   "metadata": {
    "collapsed": true
   },
   "outputs": [],
   "source": [
    "import numpy as np\n",
    "def sum_sin(N):\n",
    "    return np.sum(np.arange(N)**2)"
   ]
  },
  {
   "cell_type": "code",
   "execution_count": 5,
   "metadata": {},
   "outputs": [
    {
     "name": "stdout",
     "output_type": "stream",
     "text": [
      "CPU times: user 260 ms, sys: 3.47 s, total: 3.73 s\n",
      "Wall time: 4.37 s\n"
     ]
    },
    {
     "data": {
      "text/plain": [
       "662921401752298880"
      ]
     },
     "execution_count": 5,
     "metadata": {},
     "output_type": "execute_result"
    }
   ],
   "source": [
    "%%time\n",
    "sum_sin(10**8)"
   ]
  },
  {
   "cell_type": "markdown",
   "metadata": {},
   "source": [
    "# Tensoflow teaser\n",
    "\n",
    "Doing the very same thing"
   ]
  },
  {
   "cell_type": "code",
   "execution_count": 8,
   "metadata": {
    "collapsed": true
   },
   "outputs": [],
   "source": [
    "# An integer parameter\n",
    "N = tf.placeholder('int64', name=\"input_to_your_function\")\n",
    "\n",
    "# A recipe on how to produce the same result\n",
    "result = tf.reduce_sum(tf.range(N)**2)"
   ]
  },
  {
   "cell_type": "code",
   "execution_count": 9,
   "metadata": {},
   "outputs": [
    {
     "data": {
      "text/plain": [
       "<tf.Tensor 'Sum:0' shape=() dtype=int64>"
      ]
     },
     "execution_count": 9,
     "metadata": {},
     "output_type": "execute_result"
    }
   ],
   "source": [
    "result"
   ]
  },
  {
   "cell_type": "code",
   "execution_count": 10,
   "metadata": {},
   "outputs": [
    {
     "name": "stdout",
     "output_type": "stream",
     "text": [
      "CPU times: user 476 ms, sys: 232 ms, total: 708 ms\n",
      "Wall time: 458 ms\n"
     ]
    },
    {
     "data": {
      "text/plain": [
       "662921401752298880"
      ]
     },
     "execution_count": 10,
     "metadata": {},
     "output_type": "execute_result"
    }
   ],
   "source": [
    "%%time\n",
    "result.eval({N: 10**8})"
   ]
  },
  {
   "cell_type": "code",
   "execution_count": 6,
   "metadata": {
    "collapsed": true
   },
   "outputs": [],
   "source": [
    "writer = tf.summary.FileWriter(\"/tmp/tboard\", graph=s.graph)"
   ]
  },
  {
   "cell_type": "markdown",
   "metadata": {},
   "source": [
    "# How does it work?\n",
    "1. Define placeholders where you'll send inputs\n",
    "2. Make symbolic graph: a recipe for mathematical transformation of those placeholders\n",
    "3. Compute outputs of your graph with particular values for each placeholder\n",
    "  * `output.eval({placeholder:value})`\n",
    "  * `s.run(output, {placeholder:value})`\n",
    "\n",
    "So far there are two main entities: \"placeholder\" and \"transformation\"\n",
    "* Both can be numbers, vectors, matrices, tensors, etc.\n",
    "* Both can be int32/64, floats, booleans (uint8) of various size.\n",
    "\n",
    "* You can define new transformations as an arbitrary operation on placeholders and other transformations\n",
    " * `tf.reduce_sum(tf.arange(N)**2)` are 3 sequential transformations of placeholder `N`\n",
    " * There's a tensorflow symbolic version for every numpy function\n",
    "   * `a+b, a/b, a**b, ...` behave just like in numpy\n",
    "   * `np.mean` -> `tf.reduce_mean`\n",
    "   * `np.arange` -> `tf.range`\n",
    "   * `np.cumsum` -> `tf.cumsum`\n",
    "   * If if you can't find the op you need, see the [docs](https://www.tensorflow.org/api_docs/python).\n",
    "   \n",
    "`tf.contrib` has many high-level features, may be worth a look."
   ]
  },
  {
   "cell_type": "code",
   "execution_count": 7,
   "metadata": {
    "collapsed": true
   },
   "outputs": [],
   "source": [
    "with tf.name_scope(\"Placeholders_examples\"):\n",
    "    # Default placeholder that can be arbitrary float32\n",
    "    # scalar, vertor, matrix, etc.\n",
    "    arbitrary_input = tf.placeholder('float32')\n",
    "\n",
    "    # Input vector of arbitrary length\n",
    "    input_vector = tf.placeholder('float32', shape=(None,))\n",
    "\n",
    "    # Input vector that _must_ have 10 elements and integer type\n",
    "    fixed_vector = tf.placeholder('int32', shape=(10,))\n",
    "\n",
    "    # Matrix of arbitrary n_rows and 15 columns\n",
    "    # (e.g. a minibatch your data table)\n",
    "    input_matrix = tf.placeholder('float32', shape=(None, 15))\n",
    "    \n",
    "    # You can generally use None whenever you don't need a specific shape\n",
    "    input1 = tf.placeholder('float64', shape=(None, 100, None))\n",
    "    input2 = tf.placeholder('int32', shape=(None, None, 3, 224, 224))\n",
    "\n",
    "    # elementwise multiplication\n",
    "    double_the_vector = input_vector*2\n",
    "\n",
    "    # elementwise cosine\n",
    "    elementwise_cosine = tf.cos(input_vector)\n",
    "\n",
    "    # difference between squared vector and vector itself plus one\n",
    "    vector_squares = input_vector**2 - input_vector + 1"
   ]
  },
  {
   "cell_type": "code",
   "execution_count": 11,
   "metadata": {
    "collapsed": true
   },
   "outputs": [],
   "source": [
    "my_vector =  tf.placeholder('float32', shape=(None,), name=\"VECTOR_1\")\n",
    "my_vector2 = tf.placeholder('float32', shape=(None,))\n",
    "my_transformation = my_vector * my_vector2 / (tf.sin(my_vector) + 1)"
   ]
  },
  {
   "cell_type": "code",
   "execution_count": 12,
   "metadata": {},
   "outputs": [
    {
     "name": "stdout",
     "output_type": "stream",
     "text": [
      "Tensor(\"truediv_1:0\", shape=(?,), dtype=float32)\n"
     ]
    }
   ],
   "source": [
    "print(my_transformation)"
   ]
  },
  {
   "cell_type": "code",
   "execution_count": 14,
   "metadata": {},
   "outputs": [
    {
     "name": "stdout",
     "output_type": "stream",
     "text": [
      "[ 0.  1.  2.  3.  4.]\n"
     ]
    },
    {
     "data": {
      "text/plain": [
       "array([ 0.        ,  1.62913239,  2.09501147,  2.62899613,  0.        ], dtype=float32)"
      ]
     },
     "execution_count": 14,
     "metadata": {},
     "output_type": "execute_result"
    }
   ],
   "source": [
    "dummy = np.arange(5).astype('float32')\n",
    "print(dummy)\n",
    "my_transformation.eval({my_vector:dummy, my_vector2:dummy[::-1]})"
   ]
  },
  {
   "cell_type": "code",
   "execution_count": 15,
   "metadata": {
    "collapsed": true
   },
   "outputs": [],
   "source": [
    "writer.add_graph(my_transformation.graph)\n",
    "writer.flush()"
   ]
  },
  {
   "cell_type": "markdown",
   "metadata": {},
   "source": [
    "TensorBoard allows writing scalars, images, audio, histogram. You can read more on tensorboard usage [here](https://www.tensorflow.org/get_started/graph_viz)."
   ]
  },
  {
   "cell_type": "markdown",
   "metadata": {},
   "source": [
    "# Summary\n",
    "* Tensorflow is based on computation graphs\n",
    "* The graphs consist of placehlders and transformations"
   ]
  },
  {
   "cell_type": "markdown",
   "metadata": {},
   "source": [
    "# Mean squared error\n",
    "\n",
    "Your assignment is to implement mean squared error in tensorflow."
   ]
  },
  {
   "cell_type": "code",
   "execution_count": 21,
   "metadata": {
    "collapsed": true
   },
   "outputs": [],
   "source": [
    "with tf.name_scope(\"MSE\"):\n",
    "    y_true = tf.placeholder(\"float32\", shape=(None,), name=\"y_true\")\n",
    "    y_predicted = tf.placeholder(\"float32\", shape=(None,), name=\"y_predicted\")\n",
    "    # Your code goes here\n",
    "    # You want to use tf.reduce_mean\n",
    "    mse = tf.reduce_mean((y_true - y_predicted)**2)\n",
    "def compute_mse(vector1, vector2):\n",
    "    return mse.eval({y_true: vector1, y_predicted: vector2})"
   ]
  },
  {
   "cell_type": "code",
   "execution_count": 22,
   "metadata": {
    "collapsed": true
   },
   "outputs": [],
   "source": [
    "writer.add_graph(mse.graph)\n",
    "writer.flush()"
   ]
  },
  {
   "cell_type": "markdown",
   "metadata": {},
   "source": [
    "Tests and result submission. Please use the credentials obtained from the Coursera assignment page."
   ]
  },
  {
   "cell_type": "code",
   "execution_count": 23,
   "metadata": {
    "collapsed": true
   },
   "outputs": [],
   "source": [
    "import submit"
   ]
  },
  {
   "cell_type": "code",
   "execution_count": 27,
   "metadata": {},
   "outputs": [
    {
     "name": "stdout",
     "output_type": "stream",
     "text": [
      "Submitted to Coursera platform. See results on assignment page!\n"
     ]
    }
   ],
   "source": [
    "submit.submit_mse(compute_mse, 'arjasethan@gmail.com', 'IPWxhVFPnLAXahBv')"
   ]
  },
  {
   "cell_type": "markdown",
   "metadata": {},
   "source": [
    "# Variables\n",
    "\n",
    "The inputs and transformations have no value outside function call. This isn't too comfortable if you want your model to have parameters (e.g. network weights) that are always present, but can change their value over time.\n",
    "\n",
    "Tensorflow solves this with `tf.Variable` objects.\n",
    "* You can assign variable a value at any time in your graph\n",
    "* Unlike placeholders, there's no need to explicitly pass values to variables when `s.run(...)`-ing\n",
    "* You can use variables the same way you use transformations \n",
    " "
   ]
  },
  {
   "cell_type": "code",
   "execution_count": 28,
   "metadata": {
    "collapsed": true
   },
   "outputs": [],
   "source": [
    "# Creating a shared variable\n",
    "shared_vector_1 = tf.Variable(initial_value=np.ones(5),\n",
    "                              name=\"example_variable\")"
   ]
  },
  {
   "cell_type": "code",
   "execution_count": 34,
   "metadata": {},
   "outputs": [
    {
     "name": "stdout",
     "output_type": "stream",
     "text": [
      "Initial value [ 1.  1.  1.  1.  1.]\n"
     ]
    }
   ],
   "source": [
    "# Initialize variable(s) with initial values\n",
    "s.run(tf.global_variables_initializer())\n",
    "\n",
    "# Evaluating shared variable (outside symbolicd graph)\n",
    "print(\"Initial value\", s.run(shared_vector_1))\n",
    "\n",
    "# Within symbolic graph you use them just\n",
    "# as any other inout or transformation, not \"get value\" needed"
   ]
  },
  {
   "cell_type": "code",
   "execution_count": 19,
   "metadata": {},
   "outputs": [
    {
     "name": "stdout",
     "output_type": "stream",
     "text": [
      "New value [ 0.  1.  2.  3.  4.]\n"
     ]
    }
   ],
   "source": [
    "# Setting a new value\n",
    "s.run(shared_vector_1.assign(np.arange(5)))\n",
    "\n",
    "# Getting that new value\n",
    "print(\"New value\", s.run(shared_vector_1))"
   ]
  },
  {
   "cell_type": "markdown",
   "metadata": {},
   "source": [
    "# tf.gradients - why graphs matter\n",
    "* Tensorflow can compute derivatives and gradients automatically using the computation graph\n",
    "* True to its name it can manage matrix derivatives\n",
    "* Gradients are computed as a product of elementary derivatives via the chain rule:\n",
    "\n",
    "$$ {\\partial f(g(x)) \\over \\partial x} = {\\partial f(g(x)) \\over \\partial g(x)}\\cdot {\\partial g(x) \\over \\partial x} $$\n",
    "\n",
    "It can get you the derivative of any graph as long as it knows how to differentiate elementary operations"
   ]
  },
  {
   "cell_type": "code",
   "execution_count": 37,
   "metadata": {
    "collapsed": true
   },
   "outputs": [],
   "source": [
    "my_scalar = tf.placeholder('float32')\n",
    "\n",
    "scalar_squared = my_scalar**2\n",
    "\n",
    "# A derivative of scalar_squared by my_scalar\n",
    "derivative = tf.gradients(scalar_squared, [my_scalar ])"
   ]
  },
  {
   "cell_type": "code",
   "execution_count": 38,
   "metadata": {},
   "outputs": [
    {
     "data": {
      "text/plain": [
       "[<tf.Tensor 'gradients_1/pow_1_grad/Reshape:0' shape=<unknown> dtype=float32>]"
      ]
     },
     "execution_count": 38,
     "metadata": {},
     "output_type": "execute_result"
    }
   ],
   "source": [
    "derivative"
   ]
  },
  {
   "cell_type": "code",
   "execution_count": 39,
   "metadata": {},
   "outputs": [
    {
     "data": {
      "image/png": "[encoded data removed]",
      "text/plain": [
       "<matplotlib.figure.Figure at 0x7f57ecb59198>"
      ]
     },
     "metadata": {},
     "output_type": "display_data"
    }
   ],
   "source": [
    "import matplotlib.pyplot as plt\n",
    "%matplotlib inline\n",
    "\n",
    "x = np.linspace(-3, 3)\n",
    "x_squared, x_squared_der = s.run([scalar_squared, derivative[0]],\n",
    "                                 {my_scalar:x})\n",
    "\n",
    "plt.plot(x, x_squared,label=\"$x^2$\")\n",
    "plt.plot(x, x_squared_der, label=r\"$\\frac{dx^2}{dx}$\")\n",
    "plt.legend();"
   ]
  },
  {
   "cell_type": "markdown",
   "metadata": {},
   "source": [
    "# Why that rocks"
   ]
  },
  {
   "cell_type": "code",
   "execution_count": 40,
   "metadata": {
    "collapsed": true
   },
   "outputs": [],
   "source": [
    "my_vector = tf.placeholder('float32', [None])\n",
    "# Compute the gradient of the next weird function over my_scalar and my_vector\n",
    "# Warning! Trying to understand the meaning of that function may result in permanent brain damage\n",
    "weird_psychotic_function = tf.reduce_mean(\n",
    "    (my_vector+my_scalar)**(1+tf.nn.moments(my_vector,[0])[1]) + \n",
    "    1./ tf.atan(my_scalar))/(my_scalar**2 + 1) + 0.01*tf.sin(\n",
    "    2*my_scalar**1.5)*(tf.reduce_sum(my_vector)* my_scalar**2\n",
    "                      )*tf.exp((my_scalar-4)**2)/(\n",
    "    1+tf.exp((my_scalar-4)**2))*(1.-(tf.exp(-(my_scalar-4)**2)\n",
    "                                    )/(1+tf.exp(-(my_scalar-4)**2)))**2\n",
    "\n",
    "der_by_scalar = tf.gradients(weird_psychotic_function, my_scalar)\n",
    "der_by_vector = tf.gradients(weird_psychotic_function, my_vector)"
   ]
  },
  {
   "cell_type": "code",
   "execution_count": 41,
   "metadata": {},
   "outputs": [
    {
     "data": {
      "image/png": "[encoded data removed]",
      "text/plain": [
       "<matplotlib.figure.Figure at 0x7f57eb18b588>"
      ]
     },
     "metadata": {},
     "output_type": "display_data"
    }
   ],
   "source": [
    "# Plotting the derivative\n",
    "scalar_space = np.linspace(1, 7, 100)\n",
    "\n",
    "y = [s.run(weird_psychotic_function, {my_scalar:x, my_vector:[1, 2, 3]})\n",
    "     for x in scalar_space]\n",
    "\n",
    "plt.plot(scalar_space, y, label='function')\n",
    "\n",
    "y_der_by_scalar = [s.run(der_by_scalar,\n",
    "                         {my_scalar:x, my_vector:[1, 2, 3]})\n",
    "                   for x in scalar_space]\n",
    "\n",
    "plt.plot(scalar_space, y_der_by_scalar, label='derivative')\n",
    "plt.grid()\n",
    "plt.legend();"
   ]
  },
  {
   "cell_type": "markdown",
   "metadata": {},
   "source": [
    "# Almost done - optimizers\n",
    "\n",
    "While you can perform gradient descent by hand with automatic grads from above, tensorflow also has some optimization methods implemented for you. Recall momentum & rmsprop?"
   ]
  },
  {
   "cell_type": "code",
   "execution_count": 48,
   "metadata": {
    "collapsed": true
   },
   "outputs": [],
   "source": [
    "y_guess = tf.Variable(np.zeros(2, dtype='float32'))\n",
    "y_true = tf.range(1, 3, dtype='float32')\n",
    "loss = tf.reduce_mean((y_guess - y_true + tf.random_normal([2]))**2) \n",
    "#loss = tf.reduce_mean((y_guess - y_true)**2) \n",
    "optimizer = tf.train.MomentumOptimizer(0.01, 0.5).minimize(\n",
    "    loss, var_list=y_guess)"
   ]
  },
  {
   "cell_type": "code",
   "execution_count": 43,
   "metadata": {},
   "outputs": [
    {
     "data": {
      "image/png": "[encoded data removed]",
      "text/plain": [
       "<matplotlib.figure.Figure at 0x7f57e8bfd588>"
      ]
     },
     "metadata": {},
     "output_type": "display_data"
    }
   ],
   "source": [
    "from matplotlib import animation, rc\n",
    "import matplotlib_utils\n",
    "from IPython.display import HTML, display_html\n",
    "\n",
    "fig, ax = plt.subplots()\n",
    "y_true_value = s.run(y_true)\n",
    "level_x = np.arange(0, 2, 0.02)\n",
    "level_y = np.arange(0, 3, 0.02)\n",
    "X, Y = np.meshgrid(level_x, level_y)\n",
    "Z = (X - y_true_value[0])**2 + (Y - y_true_value[1])**2\n",
    "ax.set_xlim(-0.02, 2)\n",
    "ax.set_ylim(-0.02, 3)\n",
    "s.run(tf.global_variables_initializer())\n",
    "ax.scatter(*s.run(y_true), c='red')\n",
    "contour = ax.contour(X, Y, Z, 10)\n",
    "ax.clabel(contour, inline=1, fontsize=10)\n",
    "line, = ax.plot([], [], lw=2)\n",
    "\n",
    "def init():\n",
    "    line.set_data([], [])\n",
    "    return (line,)\n",
    "\n",
    "guesses = [s.run(y_guess)]\n",
    "\n",
    "def animate(i):\n",
    "    s.run(optimizer)\n",
    "    guesses.append(s.run(y_guess))\n",
    "    line.set_data(*zip(*guesses))\n",
    "    return (line,)\n",
    "\n",
    "anim = animation.FuncAnimation(fig, animate, init_func=init,\n",
    "                               frames=400, interval=20, blit=True)"
   ]
  },
  {
   "cell_type": "code",
   "execution_count": 44,
   "metadata": {},
   "outputs": [
    {
     "data": {
      "text/html": [
       "<video width=\"432\" height=\"288\" controls autoplay loop>\n",
       "  <source type=\"video/mp4\" src=\"data:video/mp4;base64,AAAAHGZ0eXBNNFYgAAACAGlzb21pc28yYXZjMQAAAAhmcmVlAAC3bm1kYXQAAAKuBgX//6rcRem9\n",
       "5tlIt5Ys2CDZI+7veDI2NCAtIGNvcmUgMTQ4IHIyNjQzIDVjNjU3MDQgLSBILjI2NC9NUEVHLTQg\n",
       "QVZDIGNvZGVjIC0gQ29weWxlZnQgMjAwMy0yMDE1IC0gaHR0cDovL3d3dy52aWRlb2xhbi5vcmcv\n",
       "eDI2NC5odG1sIC0gb3B0aW9uczogY2FiYWM9MSByZWY9MyBkZWJsb2NrPTE6MDowIGFuYWx5c2U9\n",
       "MHgzOjB4MTEzIG1lPWhleCBzdWJtZT03IHBzeT0xIHBzeV9yZD0xLjAwOjAuMDAgbWl4ZWRfcmVm\n",
       "PTEgbWVfcmFuZ2U9MTYgY2hyb21hX21lPTEgdHJlbGxpcz0xIDh4OGRjdD0xIGNxbT0wIGRlYWR6\n",
       "b25lPTIxLDExIGZhc3RfcHNraXA9MSBjaHJvbWFfcXBfb2Zmc2V0PS0yIHRocmVhZHM9NiBsb29r\n",
       "YWhlYWRfdGhyZWFkcz0xIHNsaWNlZF90aHJlYWRzPTAgbnI9MCBkZWNpbWF0ZT0xIGludGVybGFj\n",
       "ZWQ9MCBibHVyYXlfY29tcGF0PTAgY29uc3RyYWluZWRfaW50cmE9MCBiZnJhbWVzPTMgYl9weXJh\n",
       "bWlkPTIgYl9hZGFwdD0xIGJfYmlhcz0wIGRpcmVjdD0xIHdlaWdodGI9MSBvcGVuX2dvcD0wIHdl\n",
       "aWdodHA9MiBrZXlpbnQ9MjUwIGtleWludF9taW49MjUgc2NlbmVjdXQ9NDAgaW50cmFfcmVmcmVz\n",
       "aD0wIHJjX2xvb2thaGVhZD00MCByYz1jcmYgbWJ0cmVlPTEgY3JmPTIzLjAgcWNvbXA9MC42MCBx\n",
       "cG1pbj0wIHFwbWF4PTY5IHFwc3RlcD00IGlwX3JhdGlvPTEuNDAgYXE9MToxLjAwAIAAADI/ZYiE\n",
       "ADP//vbsvgU1/Z/QlxEsxdpKcD4qpICAdzTAAAADAAB4He8+UME3qAgRXU+O3+/edMJ0DnCMXWPN\n",
       "eZygE92gs3qdzsl1RjH5VUqIbQW4lbEY1EhCwAAAp+d7WlESNH8y4yoHWdjEy3i5zj0iR5r7oD4c\n",
       "evRGf5YZpSE2T/MqtpALqtLPBV7Di/jhpp/BE5Hr5txSfEu67UvppgZwAi2i8q+512MwmU2ndWiZ\n",
       "0/gy29dsLpujNTmKwjGLSMJz2YilEL4r07flZfkmw/NVWvox9hjJ1m9L6gw8Ob76LAgnuCGgc52d\n",
       "Dha90pVUIyCF8fKxNLt4Gbva9jGQsOR1327NyC2X7ON7gecpbjvz3Mtumnet+DhqiiQX2r6+ex3K\n",
       "UIboAKQlLQfGXbSRo+zfPXXlcAq497i8YsYhV4qxiPAJOu7czM80g4LGjbRY6+1qIA4l9hm/SuOm\n",
       "kJhBZIbKIk9WF7RsjjGFOAdS/rNzWx+Oc4WL30dHn9bymJE+/o6VRBxvsG8BcsmPaAMG1vUannqL\n",
       "i6L3pdl3hHgqFTFNhoreScQKNSVCM7qfSh2BWfXn/oAWuSe5NxbT0yu/Rp2N5gIyqPOjHIlspSgq\n",
       "xbess6Djpl8fXHUGJZbdH+ex4aWjROxi/9c7iGaE8uOMOB9wPXwXhicJjay35RBRf9DvLHwOVQDF\n",
       "8F/3WM2et/+aVVjVA4vGmnd2udW7ZM+XwHTxgp9t74x13KyDl5SEbLup2dMZHg1FjkyM7k3RBxuN\n",
       "wcv99vIZF3502Mtj97eqCA6nq+EFKOvwAak1VMmF6l9o9jHoNBbrKkF5kOoxmxsAZWQ6FHZPGqhA\n",
       "xdZhsFrOSfdS91UjOPCYwd9//mdCThpuQK8y9aR4CYWf0SH6PFBje3T+Uppd2gaZueG8EyMJSsDf\n",
       "3zew6EDyNS6CNWV0M6OMzF7htHJaIBdXPtfaFQSRyC9sgHfoMOKstKQHpfrbK0WLXEeyOtczBE+i\n",
       "LbeT/hflOXKnQuBvXTVP4p2DdqqTzZQcg5iy+dQB0sRzfzKMA9tyrtN3NuT8isMNo53GXkDccYu+\n",
       "jNnUEY5F6d4fN4eD9p+SxlYvhUVi3nkosieWiluS3/2IFUnY4kJ5jky0ldhLl7nRhFt8NPzrW+CF\n",
       "4i3g8vVYe2GaZBHog9VQcUyirOnVBxdG1BM51/LOGAGJFflZU7zm2/z4tr+SY7QexJlgcySU4/dy\n",
       "jlANYfN8kC/bEXOlvjNpYxIWQjrgcRnoKNl1SNoHqljPu/BNaZCeH49BAYbJlhIZRIeXdoh7bSQH\n",
       "ryNnUxZWsPd/MUq9Hj6nGa9NB3gZFy8gwR85mVrB9j0dOqXJ4DEKv0rkG+BtnOtiPZg/8o4B8UOU\n",
       "Jt0HR+SxVCIvgeuWBauvS5UlZq0uxbKQFioxdewXSVcedNh8ZoLgT/234NOxIst3FPuPTYQn8Mlh\n",
       "yDOVtiVbEfJHrszn0YAAGJTn1a+VLpS/jUeaLxxnIzaSWY2AUC4CcBegGkrz13SeKcfhz7/HfPEI\n",
       "0OBXCV35mSEBAs526ysd5XeSM8LSvV+TjcMhPppYKtV8eDNMdF7crn1qwVzJm3Jfi09llA/l6cz9\n",
       "UnmfF6WbX6gGvnzoGC06I3qbQepPsoYythH2w/NnyQ6qwBrJxZaszyyBcMpThd1i1k6eXC3SDmsJ\n",
       "W8q2XEtTOFBeBWCKza/vlyt0q8sb+cKNdMNwv2JntO3rK8Jo30osrz1F3U+xHHQzvVqYKmTYujVp\n",
       "12UDMvJmLCa6rTNIt84pOlV75ThwG0q2FRt3I6jf4pVWCtHBAm3AJkiDxHyXzD6pr1u82tiGTR+C\n",
       "L7ZrCc00c8qSY3sidIJEMTrdOFraZPaUfMD5Ay8pK/tgQ4vg1cuHJKhNOCDrLaUEeli72eyYrew6\n",
       "Xx5vL41axaNHcScR4T6h5hvTefgxmyDHPT+LA6LT12eJfBSLS6webJ4e9ATOXcvZ9Y8bc9gV3yE8\n",
       "SReHlboFRUeyeCh4AjgycvnNM64dvUfEZngvZ+iDxPIp+HliuUknhiIQ9/IxdyXBKTZN8aioAOge\n",
       "ID8do/MGFEOtxsELXSWsmk4qZdxCJC9WFuBBjW82uz1Lbz2NqH1kxdI5Uuf/HrYZ03H4BmZR2w0r\n",
       "F/qhXEu+A2MvJjkZH6C+SZg2nH8NlPkddAhAijN41p2Hib/3UIOXef8NA4tPWIUUom9m9rXqQ8H8\n",
       "SrrHaww3deWaQ7NhtaONoDm+J8qAHKu5qatxsrgVFCEPTLzs/5gXZBtL9XzENRrQZnxF8EIoISEi\n",
       "13fmK1fG/KvSN/58QAm5PA+6HXyrIVQ2d2w4c19opOa3qDFYQyXAQQaXnW1Qq21clLFidddW1N7c\n",
       "DhG0RPvIurSHu2szKUcgulr06HA+Pb3tIfM/OlQns7M2Ku6GWxc9vIdt1DQti1w12fzAmeDwPh+n\n",
       "d3A2SDZsoK+6mKC6HTNgjWuN67PAQ9DydQTD8mCLCFQN8GXCEOmq8AEtqJYUWIgmxxxM5bcu8dio\n",
       "2q/UnVfK0ZodmRthMbrz0cxtV053moWAfPqY5c7OEsgyn6auOQGHMhSpZjwwVry2Q3PwAay8V1Db\n",
       "vsMMFwGhpjQV9bq9msejIe877StnHN++XZUAfY49zLFjUoBWRqIzKD21QmFAILJp4IBpglFkPz3S\n",
       "AquXjCHm4TEXi5ecp+w32pJ4vzvkW+Nx6DolPo/hUkanT3k3jxFmivCIQ3D1jm15f+eU7YJ4ivuB\n",
       "0J2twIU7oM6A/DfTsIvy8Gaor08EnVwlY75cwJUEmsNWzwfaSatInR5J9wV4EzZ4XM2kp5tLK1Hy\n",
       "530PzXt9a6sKimdJkYUh3V++HIO/fEextfjhyTq0vmPijgkUIn16ce5iKS4NpvlOyIMb7gjZgza1\n",
       "NfPl4VSwczsYFLDNvpG/Af7fimLtQUFygdWcApzzQ/fBovXNdSdP7p/50sBKFOEW3L36uy98ySMW\n",
       "V7O2MTiYHbSXk3dGEpEQzt4fCCgiwg4Q3dDhvfgtnkxtOhYkU4XjQgCQJuH8yRw5beEsjLd0c/La\n",
       "HKz+IZaepYAApzfq8YLdGs1L3aHiEABgwHh2SlG7woydxfebFECavAnGVSYck53Vj742FaZMzDfw\n",
       "7uZGoiqDeFiu+47tFaAiVDfvaReIxl6EyGI8fkgsG8iqAP+BGcaKXBGriVXN+Ucr6/6HOPm3VQ5Z\n",
       "F4EX71bFmF9JDmdiOc77NBaEJAM68MHq8Z2Xte3xW2p0gbA5G3Kf7JnpmcAP/F5g6dHYNJoajMkQ\n",
       "68F9yRjzQvp8R0JKJs9AUKgS5ZZTfWqUSHHIVYrhY3uuY+dP9Kb9bTd4M4cG0loo61nnVRUQZyTx\n",
       "lWVQQbuak8MG9ODFMNuX1SLMGLWp0oIFt1kYpcgYcn6tQcZ8Tn6b9zS4NSRICX6VzmYiCBCC4II+\n",
       "MjY0jMyL8Sgcp2fWJ+annKq/XRttLvS6/wU1kBQ0x3HtX2wSkEGq3Oai/MeilMylGozPVF/F6Jrv\n",
       "heItp5SP3K8TxSzq90bjpyhHFqGOTotCln/iLxsAQQLWRW3IzMxc1rLrOuAmhXPCF9jud11nCjQA\n",
       "JVJcka57Bvzu+KAkaEqGZkIQFTViTfFt4NgTeBEgxuASHc1pNOd3aqs/u59elnTMz3DYs5WEg/P+\n",
       "Iz+TqRTu/F6ZxfuTZivy0JAAE+h1l0pwxWXcorR+xT0zlnmGvJBVP2j4/zbmYHuzAxjQN2O5/FMe\n",
       "eD2QBnSoznuJQmgmQ+1TBmE13KTLeV2AnZ4kWhzoXi/KgKGu31/mX1kERF3/+KAp4xZVfWTiiGYs\n",
       "ubEy/a6him7ZQafYXfMA12kPV6HOhOkdGUEh9PH2RcX37y4wv3pPG58o3rlQVDy6blCnjA6iNpmb\n",
       "fRngRIyMCqLEfzDuUU/bbgz+ZFGPb7YHOjkquwz+t3IHp3jnHGBdev0O9KCRf+GvFtYrLCfmHRSy\n",
       "NVu/rZmhWA+1xwZZk8G6KmScfhfFBF1Hm+KKfGFSK9YBYJMdLJQoIKV9ipihpufHPtWDBPuDUwp+\n",
       "gQZXUvZoifp3Wei812KT6WTKG05Ze4fRI7tR+tpk3ysaBXRmdrGztv+CLmczCRTyPra8ikA6FSDO\n",
       "vyXMIjcfQMkoTyU5cQbGdZcjbvVa0BhtesJYRWOq859ZDk4qBSzdAbVoxtalcTPzQm5rQ++TRpCj\n",
       "5r9qkJQVZEU4YBwOOn22CJQy9saXY4cipBkL2hQxbpHT+oFakTMsdNXkNAPgP9h4dujCTDnZ2kBG\n",
       "zHeA8HdEvtIF057r9bISB//mPfWgJMGlEY8Is1xZAE2zZahN3yklHyFPVt3ZBwD35fLxOTy4j6Xp\n",
       "Kt0ufnZRexgXhDuRRruSgZlUoZuAg6bWtleeuKl0VBxCx4ULMqbZyp9aJCfv8qX/6sJlxdPquVuj\n",
       "/5v8Hroc3s0S/uwDgOufcNanbF7I4YKEM6Yjz3ul8GUPCvc9739NyVCIoSOm4aXUBULAKuv9n3TK\n",
       "tgLuBbJYbRf6j7WPyEkuZ4dkHxnf2kwIx4r5JNkfWdseexYvpspLKk4AIOtPJfZGX1MUVtjj422O\n",
       "b3G7V0i8FMJWAgR1K1TaTJ19FNXTI7ZyLswbwr99DI5uwLYKXjETC6KM6lVAxoCRHECxk2RFy9Vo\n",
       "rdSx6F1AbRkyPQ6SslxZoVc8WhR993wfPvYSQ73jEbXv2U2at/bMAvDtreK9GtQCHomOINym7LCD\n",
       "J3C8hH/aci+Y9XIH6E4Cho5PjxMQcnYG2+BBgGtpQFwClEEf/Gyyz6pnvFLBvaH8adbSG5qLz13k\n",
       "hGeY8Q38M30R59JYA6o44Aa1rRzdjzO6BWko9jdUsnziof3AqTvaszlgyj7ZqEJb+jEeg+nOopaV\n",
       "UBwf7pCrCBwr2/vYQH0qjMvvbsKE7OShd2WmxfDYHeQowDKi/Y45zdrisXai2E0yKkdyvjaaHx32\n",
       "x//W80D3bvme3JFqDoTYqPpuDPlv/nHGiT+yynKVT/9lr5J2DnEiW4yHNnRU2J5WMCzmRbR0rpOh\n",
       "gsNUFodI4OGRfGN/5MbApEd7+6TpEDA13CtR4WWd9dDmUHQFRIMWrCdi5Oc7/iZeGhjc7wrTOI2Z\n",
       "dlqYdOqETDFOxM4T17CsUAaOualnc+5/4jnewBsIMXSyHrLwl/DCSZxRCFCoC/RNnofIbp2ZeW3i\n",
       "S7RRarOu8cL9isa2+IEF7NSzEwnFxGeXaK68wvB83CkCWsodl5TM1OMaJ9OmwEp1cjpTf9S7Zdrn\n",
       "dGQ6dE/TJTREmFh4e25/BoYa+KfzcSdsIloNsIv49RA0yv2l4MMMRO11dmYd11xUutMg9H08alOH\n",
       "t3rgN3uvzrJrhi3JvvolX5qxsYcQelTMw4vUtlYL4CUnlFvMwJkGXW3n5KWa4NeFqC6FI8lZXieU\n",
       "OtiZNO/4M2IVHnEFHley3PpLNDD4NlKA9zRakzj7W40PmfQ6QHLGSmtYkuYdRFQP78y7mJS4sR/P\n",
       "Uxxbh9PNO9Ds3Y9qPLMyexW+gZ7NI7A5w51kSju+lK5N62L13Al1vlvHdgdkfy9d/EhF4p9h5t9X\n",
       "9w6aNXLyP9JjIOllIKPkv6NV2YOvm6r58AjMi5dqsqO61ayk1uzds+UfG/sMV8QJN/ellbpvq0sg\n",
       "b2gstt/ICZG+fDQjVcvMDQxs/RbYRdybXXyXTBusOp7Sst7r0ebk6BkDibyuHcE/6NwDFC4SedGe\n",
       "qsik5wiTgpPKIkBHCC4J6tHLlJ1DNBrMW+VsEwLx/wXjoIriFRcVnT2iG4mm4zUuGhIzkWsolvFu\n",
       "DylHvL8PcETDwBRKiJ3hP6LVzBkon3sXW+fNhorpZreM2W2dquEtDQtAJQVWHiC26ofXv+4DyxxR\n",
       "DWdJAKbO+56GpjAUVP7V53+1PqYMQNAyaPsLsSk005Xy50SB7ZL+1u+ZpZFwfZnYOgFqFjj5z3pb\n",
       "g2fJiuRTJK+G6rf0yWdEVUGksx6XomKA9ml40KRgA15HG+kOioL5X2ht3nYUFcbcG1NH1HtKQMol\n",
       "RaZNBESTfN5Fzi40TFvgcrnASEFE8gYXB4PhN3vxrzr6hhDwy3dyGUJjzLOcmTJzWPRy4q4qaB9z\n",
       "85rCLHHuX3BaTpD1PxXKUKXHG5Il/V26PrPTzVN/QOW8QZ8gvB2mSNGZrZ9tVI0FxJpeYW3JMfmg\n",
       "+ZLsaLKtWMPffqu96ByqRgE4OHl7N9viSSK8HXO3eU4zZEc9Mg4JoIcJi2L49DC6Q7KE279+03WF\n",
       "FQ7XEj4EiOnZos2DvaPOYVrZuV/SwYa+vcia8muv7OXkyvxLOmC8qc+W7M3vac/2rHypOFeFt+Dk\n",
       "avLl1aI8B0fMOl/mqyAKDT4A5l3f/tYX6kV2wTJPu9Gj5VZ+bm6nKBvoDV5D3DeBTzFuKoEByVyh\n",
       "qe9alIQ3IbqBp7TKkT20+TCzmjr3L5RCGmEMMblJRZ3dhQQmjkmEYN7dXOFvJfFNmnRtuwWYXeQ7\n",
       "UhGv0T6qnzyCY3XgTJFTA5sMLEqdVYHp3tEnyf4cei/qe4EjTw95eQuEKbArMsB4/cZZds5W/jO7\n",
       "Ib3Xz45MJU+RRaK/BfyXt1jQfV6ydw2K+dDjdiEX2yFQjTi4hN4SPw0QfQkh1nytxYyXvwFZgatP\n",
       "M/D5Ap5AuVrzkU7MWMl5AzIxIl/VaTB57h5LlmzIMOfKNaNPAi/oE52CDC79x6OpoVdulFhOZ6AI\n",
       "n01jHhawVY0EoFMks9hgGbPPHvCrW/yATNFVBrExVxycFhZjyGMbXri88duJ3RVnlkAXFS//08xs\n",
       "vE1XNo7dFtKXGWd6aStmuH6Z9X6TECBT78NybIxTAwVHPdfynMLZxepjcmtvBvjUTdNR2b2fG+H7\n",
       "r+kZUxEyQx/YGMiP9oQ75lUNB5NhQjVMwT2wb4NIU4Ja2fELlC9yS9tSDDsRjBMU0Ae5vEuHx1HQ\n",
       "mvbxgoeA9MEt7PGmLKvZWOC1K54D2vza6kg45RxsYBFANcSz0llYlddtUPnaw2DcxswBnYg/tDa9\n",
       "wXEPi2FCcdb8C+zBGPm9nq/fPQVmculRqMcvGWXTTLVy50yGQDCcWj5wAx4PZGIxz14B6jHXbVam\n",
       "pXimjNj6XX7yZtb8eElDc5fTRRoHpUti7NmnwQHANXe55P/kzKaitUkzc0G8qJejwJcQd+a8qBDa\n",
       "GbF7iZkBGTeHN7dvrPeRPFJ6mCTFFDpF66IvYlfMpNiG8sobgzogdHsrOGiCeOg76a4KvlHcQKJw\n",
       "ZHj+0phQKdtAEG5Vtxvjl0YSkcg1kkcww92jSiyGipP8T3q8uD5wZQPXb6yyBmLNVh4vY8+MrE6w\n",
       "x8ZREc5EucCE4+U/HbbUVzzTa7a85SuNysM0uLRjt+yH/GkQPUS7y9/e/J1zQ6MbV5XLS2n+tNVq\n",
       "/I2y6KvoxcRTsNgJXy+HNoTyjjdTybBTGnLzBwbqP3xLbZ71DmO9aMnK+HujA3m9RIoMLZRZ+/RU\n",
       "AJQp3pNAjguoXk2kBUIytkoAos0uwZ4dNRc0Ektn100c9dSsqEdhxOD6yab2Lo+lK2gvAFA7zswR\n",
       "D4/VflkDHXMFYjybAZOTtlqSR2uRQ3YsY5BopdFjSVh0R+1X1A8XbldRZ/gfbUNgPQjVq/vggzry\n",
       "DYKJ08zZos9hsfd+3hsmDyo4hhIhCgTXyA29fIqYZzDZ81Q4zsqGiynEQy9s2kmV6URjQaEEaV6a\n",
       "EA7CN8B2x7DT1mGiEMrBE+nbT+zCF8094NdxRIkCOxHiqf8x8fuO4sjb8qBB21Lrs1KzwPWXAuv/\n",
       "2b+6s6WRHVuCkIzm5v0vxTMEQU5U6pv76Cy3tZy6khDs9xyFelZ6n3BcuSLc0tyERMJ56oE4knd3\n",
       "D8L5vxJnYFymPBgsOJM+JR0oOGKnZ+IRcLMw3IdibhDnkQ1SB/IUxka1OtQF4raRWwNBQOUc6MDE\n",
       "+CNP2q0H0M3LkAHy+7z4DpP1R6txFX2e7NMTM7i4gT3326C8zeAtIxpAjqAuaFXgK/RxMtXMpSvI\n",
       "tPKxGexom5TIjITeQ0DC2K46rqvIhZPju76DVfdGwuaZ9p3PziyYy6mXRQ/KLe5X3NXwoL91YSJh\n",
       "4TjC3GtI47gkBq8itAu0FLGZbdh9mirIhxq6NT6R/FtT+IRh5vBs0un43A/TE1IpC3k0MvqJfdI0\n",
       "cmXgrSF0UvU8cXCzx+5jUvdg+e3jRpIXT6zhFjD3UVORG6lzJ5qhB64GZ9/8Oo3YmWa5XTs9rvq4\n",
       "E0TohHQOHvJjWgxCuJOSKAkMtfqjD7E0XO85kC9uxc21DZSJi1hmK+JzEL7s+954UkreaHNd2Nti\n",
       "k5llGm1m4JLK6IY+m4BgSL6c9YfzU/r4Wo8uFHWEf8ACE2bAYhvrnMQZERvKmSF+Ok45r29oxcoJ\n",
       "xEYD6gHRi8jf9lpdKRTIVEBntQicw06zsrSnXCNUQMEic/FRTbkH5u0bVWb8nftJ8wR5ftohzBVG\n",
       "4fNBOGOyj88ag6GTcGMsUd70H7jJ14T9vSOnxlCqfQ6pQAOZL3oFbCTL76nwnJ/e3YfnIr8cnq+2\n",
       "mWBcl2lJgK2ipkV1g1lWnrvYUNWERTZu7MASB7q2oyeexD7MkG7Iv7V2qO+GZ55tYSjji6+IMgfO\n",
       "yop6j9rxY7du/dVk9u3aJXb/MZAUcLfSLdcjOHwrUnjzPa3rC8FZT1QLgCwmDZ0Sw+QxPZGSN/xt\n",
       "mHRzFA8+rvgYbU+kzLE22S+i1nBN62LyxZ15T1mVf9ExcWZgpbL5lO6qtto728JcputHrSaNZHGP\n",
       "1DZRgmA0bofpC5uHLIVt1x66M60w8FI/SncCdlpldk5CamPI1O5fKfocu+KRNsN/3Fr3PgiTtPHc\n",
       "0rn026Z1hR8F3jtQ/fWDDeiAYYc4JhfClcLbjQiVxSfo7PuegMcmycQ3aP/xa+9aVHdJ6fHLR46K\n",
       "cC071s1vjr4XJZK/09Bo+HOloxgKIKEt4Ex0qHrh70dEGTCgYYa2LABQ3XecJOGVMy2c21FwOwOD\n",
       "sDlKGYcYtyhj3A0EwG0azpk0TA7DqF0AlMXP2RAs9he6kV8ItkubF6e192GqCqcs6nb3licHEv4x\n",
       "HOvd9AsOwIisAUbYhzW+cHTSLXgcKaAQZ5dm88jmIBAfdiysHUV1unxHbC1B0JxIHlxp1ZwsIxXZ\n",
       "Ag/yDjk9uvAx/RDt2wGJrxrrP2/slCpBQj7OeMAKAfdrlyHkTU1NBNDYEjBcnazKqJ4+aWdr4trY\n",
       "ll7chD/OQRTAEMAFVdgf5zFaII59gfPF3Z6LOYmnl/Wwdr/Qt+mkR1H7AyZ99edDhe9eIBdPh015\n",
       "srXY0C068LiNKr/szoOoHRrLjFlGC896k5C2CDPv2MQhuk95j3yWYvHnfMWzzRVN/BDNQN4T9CaA\n",
       "KihgVMwtiiU+jriPlvOizTaEP5y8NssB1yc3XZPcFJanYSit0vBtIADWvrFS1EIZk7M/2L+u8CXn\n",
       "OA9z724xdauIFqxt1VQhPJ2jEr2Xo89AlgO7vZE+J3gIWqoyB30oai8UaBcVSSlptZEJSnvMFK/o\n",
       "PsVPGX09KuEFbOrev0pCb81NB0T3OR+/B0E6P8ISB2b9b+Xl6WEFNDucOza37fM91kNmZjnitjLp\n",
       "PJUJm/h9igQkmY49UYRX65FVqKDRmBHvVYsdtpi6A9hDfxzH9RuAR2WHoPBdxoPpRudSacV6CGpN\n",
       "i+8mZw4xIpWe2FbWNY0V5zV7qbtilrwHmyi9bVjQdI8RQRzA4YfhPnG0duc0pR+Z7tjsoFlUA850\n",
       "6PRX4K+8YLaiYgScHkXio5WkOIbp4nwLlH3HRVYY2sJf0DZBXcCugIuERT4pwPn+YXy97bl4pbeR\n",
       "mxYQzFzKgXji8ZttEDXPrNirQ7HglR9duDgRyo8KRW4/QPlhdaqaqKXwzAoVZJiCCNex83QLMvd4\n",
       "d/lLaIlFV9wVOg6urDu2D8qEcV6ws2e/C/NtmJKGN1FdC2Vo2JKKuxRQxta4lA8Ghju/tjZde2Hr\n",
       "yixRnHpW045TW2KbTEQ50dq2gN4OJbMtfwyA+5+g8eUdCaBLcGqvoLROQCAN8iZ6exWFbanrr4pR\n",
       "w6kNt6RFL63lk0Hkh9+Ga5qEQSPOTgt5R9j+0dyYHVeqLxIQAn/blyvCZn2/8LfaZ/jx73IMmaOy\n",
       "Sz2rooyTwtASBJeGF/9JHMP+XyAoxc6O7RJT4am3k6T9xvKB8iri1SbACifK4cc9GVslLLtjkw0C\n",
       "nY0zAXJ4/Rq2E6XHW3KXPT9xttO/jUnTgTWJO60cUPWjlRjbWCX4jfzhXhwS7WlBAn+FOlBqustb\n",
       "eV2njv5NdBs68fl0brlFBpMsNnwg2EKIl9ZiZ2lB/+hr5ZujxYIMRgBmFFuNphOUQ2wQHlw9iB7e\n",
       "j6okhhOhjJJC55X6HwEwmUTg5QwIZtpfDFcjYK1CVrE8AHdvNXXp604C5JUTjS0IubIoqvVixScD\n",
       "SbfXyVj6ICR3HV00zG6erRjgc9g3NaLvcPCFWIKJjsb8WnFHDoTP2C/ozew010gEY3ekgiyd2jbz\n",
       "0qjbFJLZlsSTuYuydrW6CvLlsFklTjG560QNmpLDtPfVeNSaPq0bT6IYQrYAo2ZF1ImkmLedn4rx\n",
       "JVb2u+Ddn4bU1RnUczpilNTrCk4WiAdiJrMzoCFfb/5tgN9jRmj9KSsOSFUdHOBoj2I5xk+BLeJ5\n",
       "E2Yx7Kks96b2LokwJBLBCr05KJ7og9ZQsDcUsfqHs43zRH2wzbP/QghrtvJ20lqOHqAlCarvh64U\n",
       "6ZM1GFj6fIbjQtMOKcetqc80QqiE+Pgvdi/47LwUhg94+q+Kj0IqqM28pQWFRh9VWoSY+Jx/+y6y\n",
       "B1/zel4KTMVqTX52VIfb3xSyfZ94e7B/n8yUPHQbo0WyI3LJJOY0E77+VD1h0Fqrpsg7Nb1XOw8c\n",
       "0wQdgqO8RVZxerbVarZ5kNd6xQk2TYa7WfsoUAU3zWkgKrSFnx0E3VThqR9rGalbSX3Zi9F7nBMc\n",
       "byVo+lEzDq7B8FIXJH1HBgpJXgHscx55rhaDCUJ4SJT23NfEYqABDF7XSk6vB4vNZqfI8i52OChQ\n",
       "P6i/Gq5DpLRYs0X0L7LsHb7TeQ9FePy7ntSZUP4b3K7c7CzpGhNf1BgK60BXuusMA3fEY24eTlrc\n",
       "8u/AJNRt8kBkwMk5pxP+wW2wHdws1KqvLZAq8Nv9lDrCUPEJ6pimXPtJ65jpLz2nk8kC6AATIoLH\n",
       "cc4XLLuLDeQ3G5cdMkkFKIQZoK8nhtidwbyU3UWRLCwNv9QMGOipMXTrUFkEx4jhfUGqYDrlmHQ2\n",
       "1bBTBwomKAn2Bn92FJNpLpL813LSl+Y0Vv6TMfMRzUAht8LmRivdlQ08F1oD3NA8ds2jEZDBvUVy\n",
       "irai3lbwkGHmk+tplviiYBas40pCxtOIQTh70hq1B/Yvy0JOTaNg8cu1M/Y0nZpRJ351OP7Tv1w7\n",
       "4nGvse1mM1drFIj2UrprL78wUYUQvkvjL8gCwQ0tgMLpOgrMy1a+IAaoGSuy4pmg8JBLlUyHkJil\n",
       "knoGQUEka37MsOZeIXJzh5Zf/otlw6m7cHvQNECp7CjTfa3IwU+HuMG9Ipwp8znfAdE3PigTsgkd\n",
       "7GIup8+bBaT2Xvnd8G7I+S1rjYSv5RlQEwMPGM9dMPowUVTI/iQ/O87MRmM3EOpXFAoJjCe2oTsd\n",
       "ts+uY1BUd8uNt/WIjgw4K4YNIuZRjWNx5aXRum7hfYd6cT5jfak9nq0iyAojgvgsbwBwBruVNLCl\n",
       "b/GXhQh3ai5RgIZ5ncghPozopW0VEkVPTyBzgPhDeNOQkztwvq4vTpvnb0rRFDue6me87sVIKyL2\n",
       "MV6wWxSgivBfvoH2dUkEGlQ/qnxBvp+OR6Pjaganp8JUHnNmVLuY7yaoqzjRx3dJkPnbz3rL8cMb\n",
       "0Rnq9EuV+udORTXUqz3EyBESzatVCPEY1zkIP3oRzcEsl/DrGu417C6S8c+x1MW8KCWtPP5qOOYy\n",
       "cnz+jV6adGLXuSM8b59bWevLjKhVNf5D5FkQpJHngeRMp79hHYeGb1bsoStLvewTFxhBsUmUsnW5\n",
       "E7TBQoHBeLLRT3Xz/oPqUUBNw3QPcGtzTdFtYGeGg6hV8KPYVbLumBnLJO5RlmU5U3nLTK7nSsKO\n",
       "iLt2fP4x0xXT93cJJag4Jn8F4CcLR/8QgHoejmyv7xjhMJjxN4CkqQTQAf/vnQCA5Af5Xx9s8iMi\n",
       "FcuDCixSTjNRGe6HnAMRyQFzkqYj/9pNqkh3/xJTFTgLBcoDlOx1uJ378gsQfOwrk+vQNDcN7joY\n",
       "JG4rGFlkO8xfoqS/PK6WboeSL7BbvZz9vujTdKBiIZWsYGzmEe3CPoETSczxph83x1hHN1KGielG\n",
       "IiZMBLq2puczuWyUryzRusB+sXP7sVJ0AVcA4z2Q1W7s4YKT3BWKhnTUdmT1A0DOc/PI2i5bYbll\n",
       "cl5Cl+pSOkqTp0ftsW2wtq1ZYWt3eVNnhqxHQK+HXD8K4aBWbHqxet/JI7lKlhNl8wDmwfQT0Jy7\n",
       "GsfHwQrSwk6PKXxPiMq5rNdLUM4sKFeieI/5SA+X3UfinPimt8YwZakhR/hNqYYeKYdQhz5sLsmH\n",
       "pPfr2921f1dVabLcs1YBgOz7e99y8Mn2Mri7tSDTDrouuZ3IuIuWOhT37V+gr7+LQYXLrmAwAy58\n",
       "quIn7pXMCUV58EfBKanlwZD1O7KFWt3pL7mcFaqoKGE9pIQp+GjkuO4aNNd4lnJwbvnWo0DjW5EM\n",
       "1IJzhR+tIzJxfNDjFF+I/9l9S+PlzgjOwrTekNGBH2hr+LDxz9SadbXe/mPDVPGoXPu6P3NVZN+U\n",
       "r9w/dsnDxLsBPw6gqZISRLPmYvxC0JDuXLxyRGyrYr5P1wobN4UbOYNg5CfWr6nak7TxjNy/kfAg\n",
       "BR8gpD+OTT+pIeVLcQEt8p/S4SO2XfT1ervAZQYp2FnBfZEDOKTdO2rLKmfeZlC3Ak+bNR2zlehf\n",
       "S6HVzkDqkkpWbsEI1ioJV992M1cGD+yJymnu2Sk9zmtsREn/Afh1uK8bJLJnnRc302teU1fmPwrV\n",
       "4t7Gl/jP9m6v/6MPREpPXQdHCFmvRD4cfmQ4/ZJHvbv+L9VLHEKU71tj24tvsas9pyu9rwdgdejJ\n",
       "qBSAsOdG0TlQyVFARLlm6YWvIPNpb6kQ7fAXfto9uYUPkOc1GePei54jebufeNu2b1gZ3+X0oJOj\n",
       "ljrL4d+sSAj/SsVzwLi/twirxFT1060U0aHlDq0cWrvxnXMhqZQ1jG4gPs8Wj1SQaM3X5cnj6tpb\n",
       "wO/v1qlxrD+7mXVTwhaYQMUpx+FDzy7NzWkzOBA8RumknIQJTyIPxva9ejYi9ji//PAFIfNSvO5X\n",
       "DlKuodTsEUu9mkyhpBDEqXjtkevIbRA5M2AHPAUfklOKW/59wxeSuOBY6+JWAxcQfvrab/TFKeGA\n",
       "+q9p1RvsN4F0un30qobc+ko6BiJqp5CqqTRztqNwlYFOJPS4HAS1j0P4scT+QXnawc9s/FOlQFPD\n",
       "u03/TqhcDc22DMT1pCwNz4Eh3OvcKBfAjuHNjRxm7R7cWmtW2NfkniJ5EWtz7zfwP612MunrEHg6\n",
       "3QCxIDqrc9v0kFnGXatc0jRQIx0/8SSGsCmR+gMY7SS+o260ie/ThiID40Jul3wc+8g6aTId2yoM\n",
       "ncO34anIb22f879xlJ1cCCjd5p4LgmQ4P6C2GDbZpHsY3Ap9hx83XA7pTf9Z5QEhoYnq4IAML70t\n",
       "jW1wQWlqkqsElgzKknfrEeMuh61SAsw8UAPYUbQ0L2FULFwkfPNViNuhRU0TOWH6X54/tXc/HPvS\n",
       "LHgaMC/ZNoC7O9z0DzOQQoaCVPbLdxLy6yzzgabJ1rz7i5IGexeDk5iDPB4ygQfnPU6wjCJvyo+E\n",
       "TnUOXGQ9ktP3TWWRSamC6+mQCh9/v03EcvW6Uu/1F9w1rmeF6u4us/zmtfiAaxYqTpXXXk/IijK/\n",
       "PDumbASelgzGBc25VJ0PVoLd/e83fpdZYRZVDX80VWfnnjQboMYwzpuEp/rFoukwO9+1h12GH6UO\n",
       "5e0ONwDnrvnyaeUx9SdCWXVakegp10nmkXDFcjsyuqU2rjuIYoK0h7jjhWKqE1/7KVCciK8Yw2A8\n",
       "xgoAFKGjv9h73eqIAeC/+0QVdbCKGcojY0fwi1m3dsnfJkTusY3pV08VuiGdtI16+Y9HploaMkmF\n",
       "Sv3oxbC08gEtRseJluARoY1IpfzchrQSaSz4FRE9ONfIB9XRlABu1K3xN3vlRaOh3RJph7CGHpFH\n",
       "OnOnD0oeiw8TQ/yBfry7B/eiFdAvtC1to9MYOigQlYRn7Zf/8gHqlbImJi9qD7Re3r4Eepx21Z99\n",
       "UmmJQ2ZW4mF9mR04zsJ1FvwgAM7PwCjk/4ZPb3wzocoWq4UPacCUrb/uTzSx8XVtuyPi1uJwlhfq\n",
       "GLQoUMybfk/j1171z6h416rV6wQwmbAVvgbeI6u1tKhMjWp/FAOkSWfGG5DpGc3KxzJGk5baJ7Vz\n",
       "47h/MY3kqLKyO/iWVaayTnCFZGGiuNVnd2gG7Mx1Ax++RNMNcwjYmX0sViu85ltJzFFXjLqRdhWR\n",
       "3RRP9DCGyHmKpxn/SjtFSwjkhnzOnJEiaNda2KB2RfXVywEPwM95mjuerRsJQbHay6JZt4lGqWHM\n",
       "XS6Ih4fWdls5Z+0KgqYgiyXv6kukMMd4cwQzmWL5a1P9yfPXjXTuTQiGUwD/JOqqiE0zXJ7EWbri\n",
       "G7Lw+bCJAA1FcnZQiHbr/+Me/Y6WbvdSYqOd4SPlituUJz+PoWfI3J7DlqiBs9Wiq9Kc63ohJO4p\n",
       "pTlv/TgF30Z0p/jKYADAskuGWLh50fy0rB70U05kG2dZBgCXmkY4Y26A8m+zg/FdLVcdJQ5kO5Yr\n",
       "/OcFLxpt4jocqBDpJlQOXr/gGy+a2GmwSx8HOghCdekDAfo/7+cmptFHCrh5N0n/u5tjUPf+lnok\n",
       "m0+6SsiqsgXQqeD7GLxIHemntqJQGl9L6zs16I0IDVs+TnBB79N3B9JKfF//qNMiSUUbl02xsjWx\n",
       "Hgj3k0lOrLLjNaUEzzi/B4GWbfgy0KDA5KVy/ioYwO6JuMWloDOI/MHw/VE+nsFGHU/ftMsscH/m\n",
       "Q+14oMb4M8Yx1ntvfMfIJN+iUNpOUn/9QaLxX+3XBUZNBwNUcCkvVreIBvV+8zfmNnUOT1CfRfIY\n",
       "AcDm3EomS4DPaVN8L3A/jhuGtZudRqTLUoh/DWhheAE6NsQxvCJNa7bMrC/vOkzqiTvXcmk1yeTx\n",
       "po7aTW8u+IvzL/3L56cZCpd0Y8epqackmYzscDI7kFGlvNzrxf9nBgkwtkmCxvt18aInuVlGjhrw\n",
       "93YT8av3U21FbqCukdkTRRsoD9lpuO1Tdt0lPdQnRtZEyF3Z7LvHQVSuGCuQ1pm5kHHPcPnWDs/3\n",
       "tyyzLEBe5aTptflLBxxAAKHgqiYvQfCvk7oR5vX8Ccaxr64IJ9qVXRt4AS7oNdgTph9lkt7p+sdo\n",
       "KGFl6aYR0l1H46Fj2nYggXm+sqU2TSoDpeAHjp3usaYO5RMJ3vDUmNWTyvWLunSGxj7hAo3PvsLh\n",
       "D4kIFuQu4TYNv394cbeiauJLVpE2zJ9xuaFrrre/hTqPOVNkiK8KxwJiew+khmvsPvRFln4hfEfN\n",
       "Q5JhBXgOr1z+2rlBabbV4pP3KoxbOTqyqeQRhLy2HVjZ8IExpHFQwHJ4/jgnC1GOEppevG8BAE5k\n",
       "wjWVdpUgOD90O9XFiitod/meO/h+OGwoOxw6LtqQ2bOmJxqF8mn6LW1zCZBauNUlg4RFURB4y8RS\n",
       "Uj8L5KSuC0e3+V/nn19Nf2Ed6tERcNohCbAYGs2mTLfvgGFvazLQBGMhb25ocFniIs2WVYq/WO0t\n",
       "JkEPx45IlkLN48Z1rc49rFflFYn6r6j1tGlAcDqlRsDzdI4TGCXjovmh7V9S20nj41YfsB7AlNZk\n",
       "9jYnT51renvXcZCtiRRaFQGDuyVl5DmCiik0jLDVCW22dEJpyzuZB4Q+0fi0I/+PYdkRUNswZiUI\n",
       "3UOSBo8+Lm+jKAh0Mvc44/j1vabarhuIBHGL28FDUQ2Yz4RlUC69W9JcK7TM8Q5qJpJ6D+tDpFdw\n",
       "YXs/SySUT22KO2zptAGN8MJkEBdsATN6I9LDJk95zk9JJ43GGAbiGE/9uKBIw4jUp1L//lMLM3oO\n",
       "exYyK2NgEP7oIR0bJ8qyZH2vxt1QV+wu4WU1R8wPLR0NtAzYDayV1TfZmSkO1gU4/LpOAkXwn7jW\n",
       "8OLh9uaxPND7ScKFWk7t70rwRa+uxt4CaaO/49aaURcNvfgdKvnQPtACZC4gsaLZHiO2zQwZDb++\n",
       "LWxT+p+GMzos+W4IwU2kkoJairWV4dWxZ5kaazxQiZAXz64CfPttZz0EQZnFVe7xoLZ52X3843fa\n",
       "R32Bs7y1i1oxgQvQA/VXs3RLshzlMZFJW4t8Ppzdq4X2XRBS+vDLLLOdbWpUNBQLSzpH2FNZEMYS\n",
       "gl9B9R3qqi3wFPtyjb64P9cKquLpyAGVzvZMsN2HHhP0E8WUFOcGJfo7CjaKNcbWns2i/qYD6Zt/\n",
       "qsfvu92fvLPIfEmNOqDbfHP1GyRnlxVZtaRCFzwyElwLWOoyUGW/oULTd255GHNE30sGw+HzXcAd\n",
       "hOw8wX49YfdlbxLTR3uqVU+lwApwqaha1B0bTwOl3Jt0Ts/Z2sy8KRtUlvE7p5Wx5Oeih8Q8s8jf\n",
       "E35EAqUVNoNOkxzL6DRLoxGPin0fus7GyRa9QC0emzKdyMoE0TjVfOCsu0n0blZgeCH8K9t5wOvk\n",
       "8L1S2RhxAq8IUxOtjWZLlG1FP5zd9dC4cOrxW6v4//T4BQuScOjKo+8L0F8diMSlIkVTN9Yu0+Sw\n",
       "9MTeNJytcz+Ej7B/MVKLcVt3mGc3NJj3PD9BgYk/Czf4OeJ1RMhcPn57+IPTbC/Keu/le36w6yMC\n",
       "7REeQxv/Rd9ioURICfkyz5NV9TijufdgcqoGkvM+9D537S3EK3UJdZh6MyYulNl5fuwgCqyETt5Q\n",
       "3u8Hup8K4OI3IMZeQu+lWL2HpQTHU29oo9AKlpdDxebgAs3xh0Z/r82T89OZuYUEwSYAqgXwi17D\n",
       "n/ZHSBF1KIlFVyJ9O0J1L+JXfU2hocAHSg+g/qStuzTn5AcCT/79/IVjQWrjav/5yX9Z5DiiqOnC\n",
       "GhUQ7f0XHU9M4AucKePf7nZOuz20gAAComGky2wAABbACwkAAAKAQZokbEM//p4QDJcWJg0OW6RC\n",
       "cAGqE9pQCEAZxOAqkqd/Oh1n7T0vQsFJ9+YTWSvWEBzOKCAagCkxqbo4l0UKLbqm20JbqP+HiMCY\n",
       "hgAEKh+9zuFqxaPY82EmxKtaI7HGeEGAcScjomTzcOfyM4XZL6PXzuqE+DXFWTPesmT+E40IUKi9\n",
       "gnOXB4PdzyhfLHW6gyLF5Qbdvt70CW//3IihLSjVEl5eU3eqUI/+RfDAlnZPl9XlD43FdmVnAtjq\n",
       "WNzPVUi7omaa1pbylFSv6RrtZYXPTe5MCB/FbTmxw6ycK1F5Soa7zinLuYIYxcJkuLryz8G3H+dG\n",
       "XDVJyewmyqzescTeeOYpkkGdoVHTA9EUQxFWHQdRO76IN4Oz8AJrEUp8FzGIXNiZri8RqZAYtq2s\n",
       "+qbYQRzT1TncmIN1LZWJYS9XwGQFHrGk0oow/4MmQanEYcj7XED/wTAkl9x9/cPq71TfZGbmiJaF\n",
       "PBKrHuB3dFRqHbmKIbj9yfp8w+7orx1OJ5mhCKLRnJuLTPmOXFqx+pQJU3ErvwEx0gQef8+826r4\n",
       "2gug1TYpM9gPtOZkOgZiOgHHXAkVBs1pqMvG0303zSNL39XjtTcFI9/aij9lOXjykvqNHTT1vToy\n",
       "Rx8S1gX9rSuzeyJNY44UuE1Ls9wjqOFZ+u9sFO1+aFeMmN+ghBY0chLA0auM0xTb9/uQ6bSrS9QJ\n",
       "3/Jd3L3tou2TLuJEnNDdbReRw0niJbkntI//W9ZLAjT/8pJoR0DBmqQIG3adMnZjmtzu1klHev7N\n",
       "sbgSenaeBzVfwXYgN1iPWngDcG2qmbbQBUvQSbHlrO8SiCsDJ52jw/CV0edkh6iy6bYQ8AAAAFBB\n",
       "nkJ4hH8CqPJbNTAmLcDDNiV3aW4zGaXeMguTaI8ZcxOWiiZD6ROdM1Wgo3K32AD8TGpvgx2q/LRC\n",
       "1zJ5dvr8cgac9V+LL75jsu2VG0oFjQAAAEEBnmF0R/8Fxs44Qb+VMG/OH1fGxtNFUwvY5OEqy20e\n",
       "1UPH/ufzFAAfsv1N9MeLA/Q30fDSxPot71hfap83SuhbwAAAACsBnmNqR/8Fx79SB0BYdqKA7joY\n",
       "v/CIMPUjLrngAnF47qNY0qVrYpOYahJrAAAAtUGaaEmoQWiZTAhn//6eEAyXFiYNDlZfNxgCdmaH\n",
       "ICEAYueD921BIP7pEyCjjJkmaAPZ0mpnArn++01qhD41coa8PheigmcB1ZHdsg3AUVzK+vZ5ZEUj\n",
       "fm6Oh2Nx9/7Hdd0EDMGhLezPZm03J0IqbFFgITcpGjqYGiN681NOVQYAgt7lae7KJTkG+44Wjte2\n",
       "FllZUway0IyFx5deuB8VXcz4d+yupdBun1dz5MLneJdASrxSatkAAAA1QZ6GRREsI/8CshNnhD3n\n",
       "f9HiRc5C1jRzEfvAJC6Mdmn1FqYgBYAgYPABEtAGBaZQqjmFJY0AAAAqAZ6ldEf/BDF+/y0eZOOH\n",
       "1VVJ3C1aV2d96CAFoV1hsAOxCej9cKhjY1UzAAAAJQGep2pH/wQz4IDicRxuaAvp5Da7ZvKkR9sT\n",
       "c2ABdRXJDWWKPugAAAByQZqsSahBbJlMCGf//p4QC7dGpg2EfCCoRVucykliukxSABzYAayza4jD\n",
       "erdBYI8gd/hLLYQTje2IXMB3L61O6fAByzc/OB4SUmec4EUveFDS5kBPwZH0EKNDlgib+1AN84jT\n",
       "nVTOpHy8mcF/v9ogOJgYAAAAIEGeykUVLCP/ArITGw4z3xSh794njMBwqkACHArzUfljAAAAHwGe\n",
       "6XRH/wQxfv8xzxD0seYJ+nQ6xj+btIAFakG/4hwAAAAXAZ7rakf/BDPkQhmLk2xlAAud2ccZZOAA\n",
       "AACCQZrwSahBbJlMCF///oywAADUBYlwaADb9Qw5ge3wQNGS9Un2xlacMOQrf15URdVr0UF8S4UQ\n",
       "QDfSHVaLR3BqNwiNIh+9lXUHJcMtqUXXnG+LVzTGlwwjpBg1HfGV1ReC4hzwfz0PuxLWg7OfeMCa\n",
       "GlZjPyuWsABtKXAemW92OMQ/zQAAAB5Bnw5FFSwj/wKyFBweqX7mDBDSpezCuPrvLxPre2EAAAAa\n",
       "AZ8tdEf/BDGI4k63NjZVAAt4RDOyHp1TIiUAAAARAZ8vakf/BDPkQhmLk1POVbMAAACnQZs0SahB\n",
       "bJlMCF///oywAAGeCxTLSALWetsdEpID0erFW/a4MWslBwvnA+8dCLFJGaOJMcqIo1T4UiDGH7Ef\n",
       "bczY5rYHL6qWxJMM0A53p1lP0z1bFW46mTOE1drjQnDMbVHSJbUZb64AGcqzcK/v0ueMfF/1/zCW\n",
       "2q3Ym9HYBgHa/LqtGZNTzboRX2Z70v06gr/gJa7nygHrU97kkl11HFIeG2idE4AAAAAqQZ9SRRUs\n",
       "I/8CshQcHql+5gwQ0s70enACVIA6OvFsJXU8AAFHgwWlEKdFAAAAHwGfcXRH/wQxiOJOt2m3DwAW\n",
       "uZ4DOhBLsBQQRPpU8SAAAAAeAZ9zakf/BDPkQhmLpacIOQ6AFuCh1sAvHcB5teOPAAAAWkGbeEmo\n",
       "QWyZTAhf//6MsAADLKkBNaABt8oAEq2s0dY0oaTc1PV3Ebx1IGZ+mPBTNvZO1vuj5417YHkMOPV2\n",
       "gS+xM1pZ0j6KNcBy/WRC0JJfxIHsfuzb9wDDeQAAAChBn5ZFFSwj/wKyFBweqX7mDBDUvJVz1vLA\n",
       "AfuPX+YZI0j+XZjZtaDgAAAAFQGftXRH/wQxiOJOt80Odtibl0V24QAAABkBn7dqR/8EM+RCGYvJ\n",
       "WKEABcFoyJEMfPJvAAAAOkGbuUmoQWyZTAhn//6eEAADIwye4AWH138Em//EzQKtYpnSZfqxpL1A\n",
       "O/kaMSTMLyggrk34wAuj7UcAAACCQZvdSeEKUmUwIZ/+nhAABkXbjgGr68BKePcVWQ+DesOoGEdV\n",
       "d0T6AwJJMazSekbUL7dG2Kg2vOWMhdpG8zn+Q0FfCBI0hKCFcnZz12Fv+Hf6+ENa47gO5lFeC8a4\n",
       "9n7ZbYgc4CfFzKdp8+TD3do0H0Ye7beG+IECqS87aaRNayboIQAAAC5Bn/tFNEwj/wKx1O9l4EgD\n",
       "idq5WggWfHcALHH3XIUDrDwDDbZkeRE5/gDCt53QAAAAGwGeGnRH/wQxiOJOt8tobkqgAml1lSha\n",
       "P04EKQAAABcBnhxqR/8EM+RCGYwQvOtC9y3j7KciYQAAAHRBmgFJqEFomUwIZ//+nhAABkRXp1zg\n",
       "FJN/SsnW5304OV0V/xWmFy3hqkoHYu73kgDj+cGGmL7xRZ+aqZ2x2T5Yqdsv4aw3P4IH9LCUTfTl\n",
       "Ya9tsKNd3tpBCqO9LZS/3a4OUOc74GtFK+fstrmXjmAF+vJoeAAAAClBnj9FESwj/wKyFBweqX7m\n",
       "DP53uA+gBtpl9iL5+ziadSOf+gZpod2FbAAAABoBnl50R/8EMYjiTribZdBMACdXN7pj3WADgQAA\n",
       "ABEBnkBqR/8EM+RCGYwMzqihwAAAAFtBmkVJqEFsmUwIZ//+nhAABhxnPmXAAHSPqr4fqp4d13WY\n",
       "HyPXnXn/Nwt7U1GSqDU2EI45Maq1147KOXebr8zdCBRXFmLrmMxuCWB76UPb8ZCLVXt+7Ndk/P2L\n",
       "AAAAI0GeY0UVLCP/ArIUHB6pfuYM3ojskkgBbgGwz7fc8RGgZknAAAAAEwGegnRH/wQxiOJOuJIq\n",
       "PHEKmW0AAAARAZ6Eakf/BDPkQhmLjTOhWYEAAAA/QZqJSahBbJlMCGf//p4QAAX2Gg4AAn8QbFl+\n",
       "skx9eD8+cutni722rljcbK35Y2untc/NbPd3udTh8u12XnQ9AAAAJUGep0UVLCP/ArIUHB6pfuYM\n",
       "x/xaAFkR8ec5KbBEmpgz0xapVbMAAAAQAZ7GdEf/BDGI4k63JKZVZgAAABkBnshqR/8EM+RCGYwL\n",
       "f2kACZrwX373WY0wAAAAa0GazUmoQWyZTAhn//6eEAAL686MA1fXgs7AQ+TU/AL/nfdX9MIErHl/\n",
       "tzY7qQTIDRwufQ1KDGKQtASSMutU8uTSYE5dEK8hsmWY92XJioXvYzOml5MHr/WK3H5AveblOKky\n",
       "+bQYyrNbq0O7AAAAI0Ge60UVLCP/ArIUHB6pfuYRCSkYgDmgA2LdYfD2RTFcPNOOAAAAEAGfCnRH\n",
       "/wQxiOJOuIjDSjwAAAAbAZ8Makf/BDPkQhmMkaAngBHZoC5KQStGitphAAAAcEGbEUmoQWyZTAhn\n",
       "//6eEAAL67ccA1fXWrLDf70qXP+Dzo5/qskWGwYAgKoK3JI49oxWyXw9Y8PxUSMiI229d2zNswLp\n",
       "+7LZ9eL66ivdKQPnPbx4rExh749mNvKrYGPCFQkmTSFbysQdj8rM77I8mR8AAAAoQZ8vRRUsI/8C\n",
       "shQcHql+5hD87sXaWABKV+g6GyP+Vzw9HF7FHCS4EQAAABYBn050R/8EMYjiTroQTafIENrLQWm2\n",
       "AAAAEwGfUGpH/wQz5EIZjImdViZ37YAAAABkQZtVSahBbJlMCGf//p4QAAueNxwBxRtWDtHRnXPB\n",
       "14oroQvDijeL/L78o8BOWuDR8k5IJdWzjRjNuD31V/U6j6AyL/GBeLCT1iC2dEHp624dR37F0QAX\n",
       "vh6QcU0lHeyf22fmfQAAACFBn3NFFSwj/wKyFBweqX7mEL0R2SSQAhTGaTmBSIy5CTgAAAAaAZ+S\n",
       "dEf/BDGI4k65+sugmABMlv7Dp/uk+kAAAAAPAZ+Uakf/BDPkQhmLgK2BAAAAQEGbmUmoQWyZTAhn\n",
       "//6eEAALVrP9wBTNaZnH7NKXuC69+KcjkqcQwKkN7guaS6IGxSNLOLX19dUWR8t+F+6CIsoAAAAj\n",
       "QZ+3RRUsI/8CshQcHql+5hB/IPQANVJsgfApLJ18md/ZHzEAAAAZAZ/WdEf/BDGI4k680+EsB0AJ\n",
       "lqd1uC5WtwAAABABn9hqR/8EM+RCGY2KhI4+AAAAUkGb3UmoQWyZTAhn//6eEAAXRjX0gw4D/PK4\n",
       "oleh2f0b2jS+v/hMk3gxakT3bGSp9SrufPhKpqzf0VoNZzM3SfrkYnP8iMgJxaBpcnlU1yCalcUA\n",
       "AAAaQZ/7RRUsI/8CshQcHql+5hkI8yQNyHVnCj4AAAASAZ4adEf/BDGI4k65/Ydjs/Q9AAAAGQGe\n",
       "HGpH/wQz5EIZjZ2MoAOiW54YqLVK90EAAABGQZoBSahBbJlMCGf//p4QABc8bjgP8+2Xvdbd/s8p\n",
       "nhnzK58y/o+lL3PRVOo5VRpEWXrQ3zo6GhEB09LY1f2SAmpvw8/GfAAAACVBnj9FFSwj/wKyFBwe\n",
       "qX7mGPqY6WwAOIFwN3J+DAatKSUZgWFbAAAAGgGeXnRH/wQxiOJOvPWbt0ggAK0o0Fge3xoRAAAA\n",
       "EQGeQGpH/wQz5EIZjYmqsK2AAAAALkGaRUmoQWyZTAhf//6MsAAW3LdEANdFBqldj5/Kdwed+khx\n",
       "e4LxtFZwamglVA0AAAAgQZ5jRRUsI/8CshQcHql+5hh9VaQA4U59qF6pSPf2R8wAAAAZAZ6CdEf/\n",
       "BDGI4k681z5gAV6ZDLClFzBaEQAAABABnoRqR/8EM+RCGY2LtqFbAAAAe0GaiUmoQWyZTAhf//6M\n",
       "sAAW/fHKDMMA/HoAoBgY46VJPGbzzYyRGqu/1+Di8Em0r0h1siLap1sZq7pwdJN33ZQKUHjxBXaH\n",
       "eodk61IiNwjQ4iwEt6CpctCHmUwf23Oz1wzudgXcjsBgBi85Gyr9RKJAWtXvYqK793Q2YQAAACJB\n",
       "nqdFFSwj/wKyFBweqX7mGEfVFgBZEVGjyYvvNxdJmhlxAAAAGwGexnRH/wQxiOJOvMdFqEABcT7+\n",
       "kqWe0pz3MAAAABYBnshqR/8EM+RCGY2DFojFDKIDse2AAAAAQUGazUmoQWyZTAhf//6MsAAW3PN4\n",
       "AbfqBro8Uhviw+zP/AP78NNmFLByRlI1swRKl5VwDYa7/OsTjfWNuDgdvMWBAAAAHUGe60UVLCP/\n",
       "ArIUHB6pfuYYelxVwt1GbsYpKPCAAAAAFQGfCnRH/wQxiOJOvM9L7vJa6RKGHgAAABgBnwxqR/8E\n",
       "M+RCGY18HT1VADjwrXEwsoEAAAApQZsOSahBbJlMCGf//p4QABY5lD9+VHoGALwIscpV89eA4uC6\n",
       "3YxYW0EAAABWQZsySeEKUmUwIZ/+nhAAFiY9fKLYAtJpD/n4khPfqvSDlaboiQOO2y+S7veoF/p+\n",
       "jNPhYS4ekTg0Zf4DLDIfhPIisbziPG/gDv/fNBIOG4GBaN9WlxEAAAAnQZ9QRTRMI/8CsdTvZeBI\n",
       "A46DLDMagEALWmiz4qLqOsSL3LR2+A6YAAAAFQGfb3RH/wQxiOJOwl+ho4IBliTagAAAABQBn3Fq\n",
       "R/8EM+RCGY959qjPeCKl4QAAAE1Bm3ZJqEFomUwIZ//+nhAAFiYZNsAVtgXI5/XCs/B4vYqx+9IY\n",
       "xxZBZzI3Ti6hEeXCSqsn9yJIeDTbNzgr847r8n1U17lOOFbhY58QcAAAACdBn5RFESwj/wKyFBwe\n",
       "qX7mJ2fMc+Z2aAGuZVjYy7PuGQe2BNOQfMAAAAATAZ+zdEf/BDGI4k7CVt/9fN+pgQAAABoBn7Vq\n",
       "R/8EM+RCGY94eIMwABdRKYuX5B9w8AAAADBBm7pJqEFsmUwIZ//+nhAAFhze8AEaBw5L1i7+/psa\n",
       "eFR856psCm7DTsv+ZhWfEHEAAAAbQZ/YRRUsI/8CshQcHql+5ifGm4VDLRbpWnTBAAAAEgGf93RH\n",
       "/wQxiOJOwlbVM7t0PAAAABQBn/lqR/8EM+RCGY94e+R0enXDpwAAAGVBm/5JqEFsmUwIZ//+nhAA\n",
       "LHvv4IuPYAtJvBGcFn3nC3lqV48Y3Dj0TPz2vtJmy+mjxf3rcTNR9Q0PYL6QN0pMV9OAHRxZl3od\n",
       "4HTJslLw/Tc6lHeM+djzAWxfYw0311wSX5VJgwAAABpBnhxFFSwj/wKyFBweqX7mJ8abi8ZUOrOF\n",
       "HwAAABIBnjt0R/8EMYjiTsJW1TO7dD0AAAAUAZ49akf/BDPkQhmPdGxRcjja+YAAAABOQZoiSahB\n",
       "bJlMCF///oywACybTPgCjk0vivULiaSrtNB2XAEJ7MBJSGydXfdi9rmpR5CzhJl9Uj2yytHfyb9e\n",
       "9sSIJ5UD4hMMP1dGhG1AAAAAJUGeQEUVLCP/ArIUHB6pfuYnnOApoAI93VUlXcg1MCPydqGYOmEA\n",
       "AAAbAZ5/dEf/BDGI4k7CUzcdE04AItG0c+6ibHkvAAAAEgGeYWpH/wQz5EIZj3j06wvJeQAAADdB\n",
       "mmZJqEFsmUwIX//+jLAAK356Ph8AEVhsmlNtazejrvh9Ss7+FctQ90EpHvL1duFqstK3VQ8YAAAA\n",
       "JEGehEUVLCP/ArIUHB6pfuYm7V70GMhIAHGBEc9PAnb3NsUDAwAAABgBnqN0R/8EMYjiTsIQ7XCA\n",
       "BFvbo/WHAtsAAAASAZ6lakf/BDPkQhmPXrwWRpeBAAAAXUGaqkmoQWyZTAhf//6MsAAru+Pr0HSW\n",
       "lgBeaSoC1yNb3yGrMzf1r1GhPrD09cVGGqmwNtWPvK8xszOH/KdTiFb94ztYXYkl0UFcwf2soijw\n",
       "sYkBpdmz4QS2V4fBGwAAABtBnshFFSwj/wKyFBweqX7mJusb0DXa+RUSgvIAAAARAZ7ndEf/BDGI\n",
       "4k7CCIfXGl4AAAAQAZ7pakf/BDPkQhmPYMBBbQAAACxBmutJqEFsmUwIZ//+nhAAKxi9AAVLHI8U\n",
       "56WtATOzCO2qE8H4F3dnKeTCggAAAEVBmw9J4QpSZTAhn/6eEAArReWpMZgAWH1aoRQBW7hmVeVu\n",
       "ljmf3DAlLzHfKp1PDwn93D5rQkNCqnSqnbBcZXbkn/hEF3AAAAAkQZ8tRTRMI/8CsdTvZeBIA5TR\n",
       "iOgekAAtXe8TVbueVzMSKUG9AAAAEgGfTHRH/wQxiOJOwglb5jDS8QAAABMBn05qR/8EM+RCGY9V\n",
       "LXKKowW1AAAAWUGbU0moQWiZTAhn//6eEAArEDQVBDgCt+RnzGZbpS8Q3VbNmGOPocEvIzfkJQox\n",
       "hkCAb+a2lNHyVZG3UhX5fNMkxajQpfmEBDbk0ANMj2umi4lrxp+ufCHgAAAAK0GfcUURLCP/ArIU\n",
       "HB6pfuYmqM8s4iAASHsxEhhsEhy9Gx8UAluINQGgrugAAAAaAZ+QdEf/BDGI4k7NL37RMAB6oSdA\n",
       "jc+j+c0AAAAcAZ+Sakf/BDPkQhmTR/VfKgAJ26L4g6WaOjt8CAAAAFBBm5dJqEFsmUwIZ//+nhAA\n",
       "KxnHuAFgmApiyZlWbbdqwZIt80G6xlLe5yN9gd+S+KvbzhwvoXxH09E+nYTfTJD3L8tUNf7Kw5QF\n",
       "Fh994cZUgAAAABxBn7VFFSwj/wKyFBweqX7mJwuQHn0tCJ9ooqODAAAAEgGf1HRH/wQxiOJOwanp\n",
       "rnoLuAAAABkBn9ZqR/8EM+RCGY9ixAYAJ22jzR+/XhvxAAAAUEGb20moQWyZTAhn//6eEAAsOb3g\n",
       "Av9u1ZV98XuhFKg6hZTRb2cwJgtmYSHe0Y2SnDhqfJcGtRMR64qvIIAnnhDFw9gznk3ONVP3kJb3\n",
       "Pw2ZAAAAI0Gf+UUVLCP/ArIUHB6pfuYnu0lJJktmgA/nLcdxG2BRaY1IAAAADgGeGHRH/wQxiOJO\n",
       "twHdAAAAGwGeGmpH/wQz5EIZj3hpC0wAP3Kt3DtO7x+S8AAAADtBmh9JqEFsmUwIZ//+nhAALGVi\n",
       "2zAAB0Db9ahCszDMiRaAugStBoYd/3P5omEbtldkmglq5CcbqkLBbQAAACBBnj1FFSwj/wKyFBwe\n",
       "qX7mJ5VxsSgBpHHrPzfOcShLwQAAABsBnlx0R/8EMYjiTs2/fX+lKaYAErKQSumDmrAAAAAQAZ5e\n",
       "akf/BDPkQhmTbYCBZQAAAFNBmkNJqEFsmUwIZ//+nhAAWPpKJSkABUNZkhw5A8buT8+uwfdo7M9N\n",
       "wmJ/FbYdagczgryVJt3ZPrMwNhctYrLa1+MtCmI1prKBs9UhRHx/ggqRgwAAACRBnmFFFSwj/wKy\n",
       "FBweqX7mRvcpBdnkIAHG6iEJGJW2V5jeQdMAAAASAZ6AdEf/BDGI4k7NL6FMBLSdAAAAHAGegmpH\n",
       "/wQz5EIZk3Di9yQ0ACU887bTLw3aGzAAAABfQZqHSahBbJlMCGf//p4QAFhd/giM4f0Qyn9zAEPj\n",
       "abktuGwncBnJ0XdtGKs4J/PcsqZGuC/uBvJkk28RUjvuJugfGMcmmI/GMk1SM42wm2KPhs8LeMUT\n",
       "ZXoYDJ5bBTUAAAAmQZ6lRRUsI/8CshQcHql+5kTX3NgAcGJVWbvnigGlrJbbF26CcEEAAAAdAZ7E\n",
       "dEf/BDGI4k7NrTiOfsdvgAOKyw7hBz2fzakAAAAaAZ7Gakf/BDPkQhmTQgtQAbXi3xGCFVbXGS8A\n",
       "AAAvQZrLSahBbJlMCGf//p4QAFZPSIcAHAbv0dQGO5K6iXl/TkbyiNB2S8nqcw8jQ2YAAAAZQZ7p\n",
       "RRUsI/8CshQcHql+5kVsWlPnRjh8wAAAABIBnwh0R/8EMYjiTs0viaiz9D0AAAAPAZ8Kakf/BDPk\n",
       "QhmLgK2AAAAAVkGbD0moQWyZTAhn//6eEABY99/BJx7AC81a96USc2Htrv9mQakVvvrVXMFhVQX8\n",
       "ZViBBu59TvPhe6XLqzVCYLb016vDrOtfjly4uRPTvPS761+ufBBwAAAAG0GfLUUVLCP/ArIUHB6p\n",
       "fuZG8ICQCi3Bq5VB8wAAABkBn0x0R/8EMYjiTs2/aF8ABIes0jD8/EvBAAAAEAGfTmpH/wQz5EIZ\n",
       "k22AgWUAAAA3QZtTSahBbJlMCGf//p4QAFh3PjgByBwPQ/DL1au6NcWq/b+fmChHOxo21m/VfhEa\n",
       "IytufPgg4AAAACFBn3FFFSwj/wKyFBweqX7mRzbwAF/sYvXokmsWzFvBB3QAAAAOAZ+QdEf/BDGI\n",
       "4k63Ad0AAAAQAZ+Sakf/BDPkQhmTcPEZJwAAAEVBm5dJqEFsmUwIZ//+nhAAWHG44A5gO96EFwMv\n",
       "d08Jjgo32ow9DbD2dtcIx/lDkhJuQtYku+gKfXa7Avn7K5yWnOc+CDgAAAAaQZ+1RRUsI/8CshQc\n",
       "Hql+5kb3fRvZg4b+oIEAAAASAZ/UdEf/BDGI4k7NHamou3Q8AAAAEAGf1mpH/wQz5EIZk3DxGScA\n",
       "AABGQZvbSahBbJlMCGf//p4QAFhlsjgGSq0zDlBpwf+KS/RDeYwVF/Lekqv2zSBTRuGe3q29lvlJ\n",
       "STPHH5Xeca5QGi2usnBJwQAAACBBn/lFFSwj/wKyFBweqX7mRukygAceekkZMC0AuWYWUAAAABAB\n",
       "nhh0R/8EMYjiTs2tqOPnAAAADwGeGmpH/wQz5EIZi4CtgAAAACdBmh9JqEFsmUwIZ//+nhAAVj4c\n",
       "5AEI8bnj/QDvhS0pxrcpxcwWBd0AAAAZQZ49RRUsI/8CshQcHql+5kWYNSvWrPg+YQAAAA4Bnlx0\n",
       "R/8EMYjiTrcB3QAAABABnl5qR/8EM+RCGZNBgIFtAAAAQEGaQ0moQWyZTAhn//6eEABWMnRgCrLg\n",
       "a4MvqVDAFcg6mQMr0QXRJzJ/+ZIejZqXngETRYwN1PJklJ1kxbCnBL0AAAAlQZ5hRRUsI/8CshQc\n",
       "Hql+5kTWawCycAGABZ0XERtKojbzkgH/PgAAABABnoB0R/8EMYjiTrckplVnAAAAFwGegmpH/wQz\n",
       "5EIZk0q9wAJtppHn4C2gAAAAOEGah0moQWyZTAhn//6eEABWM0HgCt+qOooGR7iWdbnUNlldWkB0\n",
       "zsHrbtUJlz4LIQAj2X458EPBAAAAGkGepUUVLCP/ArIUHB6pfuZFUfQmTiA6dXG9AAAADgGexHRH\n",
       "/wQxiOJOtwHdAAAAEAGexmpH/wQz5EIZkxWAgXcAAAAqQZrLSahBbJlMCGf//p4QAFYe97m3gAju\n",
       "u9Jd1wwEm36hOGHcRB+NWheQAAAAGkGe6UUVLCP/ArIUHB6pfuZFaujb//ndXNSAAAAADgGfCHRH\n",
       "/wQxiOJOtwHdAAAADwGfCmpH/wQz5EIZi4CtgAAAAEJBmw9JqEFsmUwIZ//+nhAAU/J0YAhHtsKy\n",
       "EFN5XvUUSdXUK/IaIwCcCyFLoBQchdoydtJktKyTxY3jxfuz7xAsDAgAAAAiQZ8tRRUsI/8CshQc\n",
       "Hql+5kPCn4wAJmUgRTcfHiEYGKjugQAAABoBn0x0R/8EMYjiTsxTHcgAJxoUOXbUj/AXcQAAABAB\n",
       "n05qR/8EM+RCGZMVgIF3AAAAV0GbU0moQWyZTAhn//6eEABWMXoACKxtFOhqG/Spz3Ix4lXmnzcB\n",
       "b8JEenL4a/svRVVnXyw3bso+9d9ml4B3+O6S3vWDKqo3WCyI7LWAL5cUbBwkHPgh4AAAABpBn3FF\n",
       "FSwj/wKyFBweqX7mRZcQ9vhQZbnhvQAAAA4Bn5B0R/8EMYjiTrcB3QAAABoBn5JqR/8EM+RCGZNE\n",
       "5+iAAS0LRthr2C/E3AAAAD5Bm5dJqEFsmUwIZ//+nhAAVjNB4AiY+p+w7pdzPPTXiqkhOOS2oYaa\n",
       "387VNPBR5ESVwKnLeEKcu/d7Z+DegAAAABpBn7VFFSwj/wKyFBweqX7mRVOKxxtu4mwO6QAAAA4B\n",
       "n9R0R/8EMYjiTrcB3QAAABcBn9ZqR/8EM+RCGZNLbKABOzyWbwBbQQAAADVBm9tJqEFsmUwIZ//+\n",
       "nhAAVh140aL4AHHpAfIgNS9pWgMgh4I5h9+61cqxIHSgy1pscmCggQAAACJBn/lFFSwj/wKyFBwe\n",
       "qX7mRdwXAAuk1SBgXQTOKJFWRj5gAAAAEAGeGHRH/wQxiOJOtySmVWcAAAASAZ4aakf/BDPkQhmT\n",
       "GPEv46LmAAAAIkGaH0moQWyZTAhn//6eEABUTSMuAAXxcWumZh3cV7iwb0EAAAAXQZ49RRUsI/8C\n",
       "shQcHql+5gmAEqeAEfEAAAASAZ5cdEf/BDGI4k7Mjamtu3Q8AAAAEAGeXmpH/wQz5EIZkxWAgXcA\n",
       "AABZQZpDSahBbJlMCGf//p4QAFY0ucAR2u1YzC5TaTqxsJxd1Qs+BcJoEfm+G4wiz4+MBE2J1uGn\n",
       "XJY79+8lYushCbJ49nySmVr/reECilulq+DxT9d/St9EC7kAAAAkQZ5hRRUsI/8CshQcHql+5kUT\n",
       "GJX+AEJwAvDnT247oYwZQO6AAAAAEAGegHRH/wQxiOJOzS+I4/0AAAAVAZ6Cakf/BDPkQhmTKlon\n",
       "4J064uP8AAAARkGah0moQWyZTAhn//6eEACsZVrhEFztZM3Xg/v1zXnX7sBSC0OIzjyVEswQ/hjq\n",
       "nDSv0MTTzayVik8Uua6p8fVgHpAgIOEAAAAlQZ6lRRUsI/8CshQcHql+5u44XvaUAH60ZM78RiOA\n",
       "OHfAmnIPmQAAABABnsR0R/8EMYjiTuNfEcP9AAAAGgGexmpH/wQz5EIZmw/sP4dACTf/DUAc2o/x\n",
       "AAAATEGay0moQWyZTAhn//6eEACsrlFY5RDIACpPOgibNqL9p59mj2tJgnZXKmWRi6eQ3G1OF4F/\n",
       "Y/Imas6SKCL+4PeEAiXHmXs/tikIasAAAAAjQZ7pRRUsI/8CshQcHql+5uu3QeSv5ABcViXZVcrN\n",
       "ufCmVsAAAAAUAZ8IdEf/BDGI4k7jW1tUFXJJ7YEAAAASAZ8Kakf/BDPkQhmTcPEuteLmAAAAPUGb\n",
       "D0moQWyZTAhn//6eEACsbtKwKAj9YaOgRSCHXAD84BYFk2oXdjxVG7w1tu3oAEQgH8pR9imlPQLA\n",
       "toAAAAAhQZ8tRRUsI/8CshQcHql+5kc8FwANqufxq6Qoy8t4IO6BAAAADgGfTHRH/wQxiOJOtwHd\n",
       "AAAADwGfTmpH/wQz5EIZi4CtgQAAADhBm1NJqEFsmUwIZ//+nhAAWGB5JpSSAJ0mOmeSPoaMw7lB\n",
       "+JeIluxkVeWstjl1wdxEQww2TxAtoAAAACBBn3FFFSwj/wKyFBweqX7mRvxlwANtUdxPQo3rJDYP\n",
       "uAAAABABn5B0R/8EMYjiTs2/iOPnAAAAEAGfkmpH/wQz5EIZk3DxGScAAABOQZuXSahBbJlMCGf/\n",
       "/p4QAFhzj3ACuZXT1Ww96O5vY2b/LFdYM82so+VU7TZBZzJwgtWSdI46/HDP07HvwmoShapo6Yyz\n",
       "kt6/jcstWhcQAAAAIEGftUUVLCP/ArIUHB6pfuZG/GXAAuougEts3H8cBmPnAAAAEgGf1HRH/wQx\n",
       "iOJOzR2pL1WbmAAAABEBn9ZqR/8EM+RCGYuNM6FZgQAAAHhBm9tJqEFsmUwIZ//+nhAAWHNB4A5R\n",
       "vBaSTHNFA+tIT8tUYqTErK/zwE7AyGxqlNIZa6A2xIuRVE7sbQJLP97o2+OUcQ13DY1C3eDaf5wA\n",
       "jI1uP+sSwDInQaGM5Z26pBVa+TmQhYvGjfmwYwiVyj2VLEIg0ez8GzEAAAAnQZ/5RRUsI/8CshQc\n",
       "Hql+5kbU7kAJq7kk5tQfrkKiW4Id31Qp6uVsAAAAGwGeGHRH/wQxiOJOzcFdgAJ08SZa31V2zeXH\n",
       "zQAAAB0BnhpqR/8EM+RCGZNtL9M3YdACaXLYToH6sniXgAAAAClBmh9JqEFsmUwIZ//+nhAAVjPk\n",
       "8AEYG7nEr43q5GI33hX5mqnESgsGzQAAABlBnj1FFSwj/wKyFBweqX7mRWxaU+dGOHzBAAAADgGe\n",
       "XHRH/wQxiOJOtwHdAAAADwGeXmpH/wQz5EIZi4CtgAAAAClBmkNJqEFsmUwIZ//+nhAAVjO74AcY\n",
       "rVgQQXWHsmnnyZdz+T+T+CwLuQAAABdBnmFFFSwj/wKyFBweqX7mCYASp4AR8AAAABEBnoB0R/8E\n",
       "MYjiTs0R89EjawAAAA8BnoJqR/8EM+RCGYuArYAAAAA4QZqHSahBbJlMCGf//p4QAFYydGAIfFUV\n",
       "iCAtpkJLHoDJLIh+MAId51zdVqbA0vGJJ6YsFxDLAu8AAAAXQZ6lRRUsI/8CshQcHql+5gmAEqeA\n",
       "EfEAAAAOAZ7EdEf/BDGI4k63Ad0AAAAPAZ7Gakf/BDPkQhmLgK2BAAAAKkGay0moQWyZTAhn//6e\n",
       "EABWHXGf5QAROBfK6v4c0+Rdhx+OpxDpPecEvAAAABlBnulFFSwj/wKyFBweqX7mRWxaU+dGOHzA\n",
       "AAAADgGfCHRH/wQxiOJOtwHdAAAADwGfCmpH/wQz5EIZi4CtgAAAACFBmw9JqEFsmUwIX//+jLAA\n",
       "VvLdEAVhPju6PlC++KdA44AAAAAXQZ8tRRUsI/8CshQcHql+5gmAEqeAEfEAAAAOAZ9MdEf/BDGI\n",
       "4k63Ad0AAAAPAZ9Oakf/BDPkQhmLgK2BAAAAT0GbU0moQWyZTAhf//6MsABW8p0ADpGg+X2K539E\n",
       "3RanTik5quPMFK5z4GYUcIUrAncSDieXEwpIpPHfyqlNy1orGkxNfzCBrvkOVPDgGDAAAAAhQZ9x\n",
       "RRUsI/8CshQcHql+5kTXuGABOsIB52oRrbF0Z4ZcAAAADgGfkHRH/wQxiOJOtwHdAAAAGgGfkmpH\n",
       "/wQz5EIZk0q9wAJ1ctTtDmtCKn+AAAAAOEGbl0moQWyZTAhf//6MsABW8ZkAF/hSmnmURmloDVDw\n",
       "8Sx8WwjZ4PjwuILmM11q4gByxn8z94OOAAAAI0GftUUVLCP/ArIUHB6pfuZFbCOMYAWhFEg5efll\n",
       "bM4rjlbBAAAAEAGf1HRH/wQxiOJOwg7Uc/wAAAAXAZ/Wakf/BDPkQhmPYsQGACbck3S+BbUAAAAr\n",
       "QZvYSahBbJlMCF///oywACt61JEAXmlE3tI8sGQyb2iX6cb/ARnlkoYYsQAAACBBm/lJ4QpSZTAj\n",
       "//yEAAns5cwAPu2IOKYxoZcBQ8DjgAAAQP5liIIAD//+92ifAptaQ3qA5JXFJdtPgf+rZ3B8j+kD\n",
       "AAADAACurTM/vFjYagIEXFPJXx118MlmN7hDYI+Byp98tTgYEnjT6rOQpnp8+6U9yl2Yb8wOrefY\n",
       "56+XyEm5HyAAE1RlrFxqI1f2zbUOJUQSo03Qvydngg74q3SQOCZTCyEYZJA9HDf6pOHEj1NvzB9P\n",
       "7/X9wakBp3FXEts6z2JBmH1meyp7mQIbaS+ECvLpQJ87NwM1xYkxMZYGPig0RaIDRxBvUCRa0AZ7\n",
       "jR+LlAOHdY+3gTrKz5YJh0/2hUyufjL/LABfv04y+Wz7FFSEwMKgPn3KABzoAcRQqfc0cE4eBheK\n",
       "WJ4tCvARb7jp7fVPV68Uen8FS4wqf1UwOiuPb96+MKyOte5n4nf92T6B2IvXFgRD+IMgQ95cynVI\n",
       "VNPVQFp7XJf1eY56wphPIGRSMEmb/ws0nckUT5HYAn8CH4BH2U0uwoaRaBtRIUS/I3iukmLM413E\n",
       "lRIhJkddX43vxYNhTb2oNgkj+Q25xrPh9sBCJTTQ4zDGuBoZtbc23m4Hq1DXray4CqU5/L7PqjDe\n",
       "yXUDRMehOzwPN3kkHrHwLX1+TGjd+1Aj8PsPRCZNw41PAV4bpf8W2V8u7oYyZKufCExi/dhd/Frz\n",
       "y0J0zXglbX/UIOzBEZMXWausgDAP74ohNSInHJe9zSGSCwcGKZT/rqO2dmy+quRFwOxq36htxaZ5\n",
       "aHpW2VFTq/YAH0nmii3k/BEB5b5ptxiwHZ4AsY+ctnCXA03gMLjOjP7VqazO53CCGYJw0Z0Dp3vp\n",
       "VcnW57uN4AY1sTpOMeQkGf9Yj2izTXHLJNfTWNOIEQjI3seO+NQ4EpjrQJfegmkqettIvgzxwUuu\n",
       "eXiF7vv7TBLonXquc8kUX8wfZJ7jEVNXWbt/DiCySrWiRyVtUmKy/3Ev63baeao3mc/EfRHFy4tp\n",
       "hofBRy0v3wwmb21hLbHiqkaFTZkTxZ6gKlVG4GggV4nxlJPdmxIQ2/A0b5rQq2YtSJDNWPkGivp2\n",
       "GVh3xAsflqA28AKX5xCX9YH+4IZP2bPp9na5Snrizvtqcpnu7CpP9WcB6BKnZTDbaRDzpR/b2s0b\n",
       "2NrH1DeYOYNI93pWG4Z/7g2OzM7B+gXesju0lCyrU1ScWhY6wHSTKVdMTA2b7n8y4RrjjEwKKIg4\n",
       "KRzKoN3c0cLLg0LdW9wNRYX2W3Q4S/T0FlCGbVWAQkgUglqniffN6oGcHzHZwkKmqHQhgeZoKyFv\n",
       "xMdsSiVdqniimdwHHFupUCrb67IeWT6pC1URnz/+bguzg1LV75GQbvkMEQSRta1NEWDksFgq1AqI\n",
       "Mou6FKcexbB0XnmwAZCO2KSH76c5lPNo9Qkz1nnmnCm33GIOsRX34FxGEC42COo9ftkzA7wQEiRg\n",
       "SLC7xhVkbFBru5ts3cwoYQHRRjn6g6XVld5oxz+Vq0fSGFxwcTRWkwe282FyB9VIvZkCEAT6h2Co\n",
       "kv9ooe6ajMzbOzKYRlLggTsYjaSwVWzCnRMm+COJuzVLba3gYmXdFWi4aMO+DB0CAe4lcjQW66sf\n",
       "/z2jVnS6Yr8kg1e4LOaQE8KHFy/mXnBLCDivcIJy+pNKKGvdn7q5DwiqLnC6cu5GRGltpr+xap3K\n",
       "V87MJJ+UITl4yyGmvb6Y3bRG1pFf3q8fN+rzmUxfDWfYTHbloJ7rywNsFcB6QQaf/YQGZKz6AWc6\n",
       "RTvP5XEb+Go4zvOqgzVIJrTHtIxnqUzausoOT/IvHyOVe0c8qPaL3SrQkq4ukpfb7k58d0jTyyv+\n",
       "bWQJQx/RsRAHr+P9umkqAubhSUGP6heyGIJ/HRF9yr4asGk76KbMu/kzuVpiI7iDJTLiy5b31f4t\n",
       "L6Eit9err7Kpn6H1fzUEOeiSoQoaoRjNQlx7C2zezoiz4ZP2b4C6ZPbr7BmnSgDdM5tAcsPSRh03\n",
       "wTmG+TzHJFvkT7B2zOGDc1KMRiRgIgcpsLM3qrdyrfBwov8BkMPFYcf5jLlep417zKagK+KyydGt\n",
       "WiRh2wCQoHFWgXmhV5bB+mYwx7DL4BngeA/kUDqt/yxu8acWSCOKwjDrWTOjkeXKKpurdG9+pjbh\n",
       "6nQfOQsRA+icedkgkCoYwsiwCSdFMkC5roSguk569AI33GHrwJ44/pOAmQhEnkC9jJoUhNZD/4q5\n",
       "3E1GV3FrjaUNDoUh5TEZdCbhc7bYK8BQ1xKMGHYM9V3yEvS2zj1gEzHOs7zAcXoOC4ygwbKfPNdx\n",
       "nnbLiQ9KePYaXtOHeBc+IXZM1MgZOAG4S59DALosDgtHSgc6t4835BWFIrY5+JFkZaFlKhwXL5Ui\n",
       "9Dm7PxuHG1IA2i55sOwsh1X4DPRpPBZmwG6curjzTYmsVSI+L1Dz4zGrzJ1dGBrBjOFzAWtW+jis\n",
       "2jLtHUItAtBhqHrC5as4MeTyaSF6ECcNr5md0Wm0YLZ6M2XMw/UG1JWEP6FbeVL8atS49sGBb8J7\n",
       "5nU+yGGTSQWm3Er698eZi4GSAmN8cZ2FktwHPVnei4pFBfKsQy614Cy1i1KL2PFc81uyYJWc5tPL\n",
       "55bmY9U8zdXviWvNd6ynd12pGqtlobLJiOSoktIsllOjW4/9YniRVFG6JaCKoqMLgwRFS47CmdJe\n",
       "YzN3A0xgdcaoPcNXUPCwqc/XFFDILZhDgnqS70k4huZlWtuXVf6BnjwcswBns28BO3cnq8CvNdZr\n",
       "VhYOO1U9ZoDgQ0Lf70fd7zPBHIn3vbx7bv63LHU/Em7DAx72t7Vv22EWb3OgFpZWPYNL0pJfNL80\n",
       "y11JFrhnNigVPNstdNZvxs1BpDmfAla7qSJCZlKmdr4AQnIOeAzxGUQkQwhsW767OZHx6S5Lyn48\n",
       "tRhfujcbdr8xBs08kOHjQm+0IEx6GzNt0hHLXpqB6c/PVhxwYZ6zQRwGOTl9jfoj3Ku9Ctx6vPmu\n",
       "jDKe5Bjl64eu4KEWyZs1B8r/EioTdBKfctlWlxjooYugF5zPsbamEBLirXZzLbpU/wSbjb/1gejv\n",
       "SExVXvEkWMF9nCKF4jN2z4LjRZ/bhqvvTmWWVUN70QxO1myC5R8liREFpdupkU9+Byez+1iqyZBo\n",
       "yEePh3bV4R6tJNx2UUR/EYVK/xbhTlS3ZDMBJs8tWq8fN4mBtHPZrLR7GJuJG6JxLRG03hSXR+zT\n",
       "xWLTyJU3E4V6BzPQD6SXTXeiu7ns8V830yndDSsEzbCMOdD3oetcbGNw0wqkwFYB41lzyzBWjgHc\n",
       "rnfnkJTL28HX6XZrLjzibvfQwiCxKbD9Gxk9D9d+dUGKmp5be81jrKwiuoUAQd45NEaTJ3/kP4J/\n",
       "A2siUCWNlnUgOlJAM31PJoNEg2aTTy6mU5B4E0iowzgDXRspFqcOQvFO2AiiHcwxPYtGFTy+bw+c\n",
       "rxhGcl0HA/7Mb1ICOp2J9R+DLTzB3Hikkundib9QVHr7Gbe0S7vDQsnYWSAYz5iFMgY8cLqK+luI\n",
       "kHyegf2C8INPCHnxvfi/U3Qo26KQek+Ytx4mlJd2wsz8ZuS95m8ocI5mxOzfl1ZNDtcC7hwqweoQ\n",
       "IysVfnkKLI7P9OLdcV9n0mY+7c98U4KoNAjErRQFjobU2UJkQkZqsc/A5Yy1iu5m8BDQbb9wwyUl\n",
       "Ovn1//0GYv8oHHSfNTDhLJQQRDPRs/0OSQzg53c1RiJ6K//Xc+VM2tys7wj2dKVkQQAqbeyiKuPd\n",
       "hcF1++GWv6wztbFZCR79uVevXG1TKnBrD0q4tnRVfIJiF2niCnY2I7bmFmSZrMiBGVtqntnxQuRe\n",
       "htHoi/OPUGrtrP9y0lHRVkAHWnItDXdcO7+yVcjwOoU5SOkq4kpJPJXFK+dl6tSwpt/yj24bDBIm\n",
       "rIyMZImfL++pNtt8SCX0KXoK32OfbxzMInyYUBERzO0tcT7o3Y8KQymGd02FujJINXyGwj7MbD3p\n",
       "Gp6KtTI6WZdT5UKnpgikfspy/QPRJVtP46koYGCOKbE/yUyg7Db7xgNdVDWMnmDE0lo/+JZEuJ/c\n",
       "swTRAt4svfpxCK0twewrpRtNsW9lSgBzRVZB4Q416oLAbKd9GppVDJsuDGBaklTyisNqPICIsV/+\n",
       "osj9LNgRL67GzadGFMFGawT2XmVAcV/c9gDtNYLbs6hbiQ1x8zDUaHhuAE0W7BgAe46xkeZJvOYL\n",
       "HBj12oW5lkHbttMe7WAebFfr8YtDqGeZozWwCJv6Orx6HQfSC2Wfb/HLBQCevmclDQoAMzyb+aWT\n",
       "qUtuYwFk/DdwwFpiwC8QuAemWyDS3OJPnIMCL2MO8P+IRM483UYsjrU9LHV1mSnCCVTDY2CwsxIu\n",
       "QYbBYCQXZOBpy4F61jJQkL8c4R+gkBc37mW8mxOXVrsu9j91EopIALPYdnWT0JItCzlQjbkMFz6z\n",
       "j8elZyYwxPi8XomqSI3VlCx9+7XfjT6x4N2tIC6oHaR7pSaE1umx1vzIHL1RL+I81+Y/1Wi0AI3+\n",
       "pbCqfM7Gt9093idYd9CfuFVlpk+SiMJv2ikfMAKneQ75XgyEPQCs8kNf295rBhDVFh9B2/Uk+Qez\n",
       "W03XP4bUKtZYdQKhQYq8r503kd3fkPEJjjzjx3zKvhSIkynISj3IFuvk8xbLbovgk75UPAugpo+R\n",
       "Jr+e1RoqZ0rfhP++0iS5WrEoZIgAdprjSV14k7Wpzch6XQMSE6W0BrvxjQFGsayZ9GMRbo2Xyiwb\n",
       "jo/txTME7gTc5/nH8wgW9ag5wMefFGctEdMRCJ1LdfACDoExamrZ5XbKGQ498ArSHHFat5Qq9A6x\n",
       "2YxvsTTs/aC1ibzECQNaWhRRAm8KqUQ3B6eupkGI10gE3+bYgF2puoY7clPOxKOVrB8x2gXW23ym\n",
       "jll/4Tu1h0XokrU2FU9SFu2AiN1lbn2vEzQct7tVHAyHYIa6To71bDtB/fk7M4UqkOHBWFbBP5An\n",
       "ttujt2GWKFm4TihRBVXhEbuesaRCAQiUjQkdji84Des6RuN105qXbikXCrSCLi9L7DGY6+d9XX/m\n",
       "3hVSLazpeO2KOTomv+FelplxSmB7aXDvheYC9b4/VM/OcA4ENG/xmCTZN81ic+P8dyRW8gvF8Mqn\n",
       "oSc6OMzuynFIb+2AxoMwv6aSMjH8XQbZTjGiMlUvvc7oGhpQi7gccVU8ejVAFaR5eKhYYngalqKP\n",
       "Q3WyVRKUrWx9Nnr8vSBo4If93wkujAZ2Sp+LukQedtokDKuho+dKtngw4U0QlE03RxON/LemEkdB\n",
       "7MxNssAKQTsOH1f/CoP17ipVmCenSz0SwT+1YAa1BFOunnKDE74xIrFkt3ebhAZ4cEH0zwxo7MQJ\n",
       "ibD/xNPjap1hN0xgaE+uP5aehneShFc6texJrcowB6AXEJLL/UxN5gvstzsYUHnS7HRtn4i1Hjjo\n",
       "2RT4EBEXN/6jmHIWhAoWbp2Z8Cz1ZeNq8lYwKs2OItxYSuaIelcSjkayegWoA/c+/mM7dciU7BPj\n",
       "oREWcASCGsu5Bmi9KlApLkugEaNDwsY+l5uuGyAJqPCAGCHcZv3KY5obFbHXiZ3enEOHqjOr0Wvq\n",
       "JSLab7Hue/F8jgLAsg9xUj1cKR7EpRfJQy2SogTuguHBEebGPsgA1hHXKMf3iidYgwRghSdmUlNs\n",
       "Jj51AfhWYBzF/soHoL2JomIsz++26DYvlsHqkONUbpwGLG/bmFMSxD9TOhpmjjKtZtlBp9+y9n5R\n",
       "vuOtD0GUTylCKe1BaSUeK7nJCwc0LxQElPuB+sbX6LS7QfCV/+iGccKYbQ7xPNcXGlAWJn17Tod0\n",
       "qM6dLlC4C1JOxWOB/xJCJqytmA2KWViKjf4VHWWk8WpEav27EWNyevsFV4n+cSFNhqjMjPAN57lj\n",
       "9TzhIj1jYMWNbt+2mL0yQuKt5zawqrGY9ZEwQfjpiIhktlmGf7ERAATFjwXb5j+juybWrvGiUhsq\n",
       "MCyZvf3V8AExJhFBimg/wFiK3zkhLn0VdxlZr95Up+UqovRPvUVsnfckhBMJBPMkV6lSk2tNWelt\n",
       "U5o0kOTdM5RcAGqOvRuG/5U3K50TbMMmLyvOElC3dtV78bhSveCOhV+fZBlIRy65ln2KVaGahV8c\n",
       "CAHri93UnbrZ8TZr4znKWeMXXOcVH+1lMORSPQHKukGrpmbWVelkvhddT8ZQmk38S84nUa3DxYiU\n",
       "LSi7qQCVeaS9q7GkRNRNygfiYMSYAyqjMXZxHVKnJnlmlnNEyqBBHBLZs/MlDXKJ9uNSGILHMnZY\n",
       "sSWMoNJEjhgiFU8M8icdpw+WpZGRcDsxaGq81cdw3QTlvkEXpb6oraqkaZ1njitL4dPt1KDrtwFM\n",
       "R+//xSbmOGzn+diKtrEau0c77XznacJJeTF3v+wNf5g6t7mFU5yEAKQNqrro+PdeJw3pRs1Y/Id3\n",
       "yRS4znfMePwHAH8+g+O+yzzD5VoHhHL6YRSUvKXoyeIB6so6/cL55hG6/uXeUlTqh9fDbpJMW5Ir\n",
       "hBL7XMNEqISnndqeLrBA1SuLBp6r/Di2XqNKBjLU91EpFPsAMPyj4NM7gJmtoG8yFCofOezD1B4D\n",
       "f9zXHFTfPyEBSPQM20vQAryUxJ7bUAvGxD5ICw4iBM8D5xSzrrDCYghWLtMs3w+tgSdU+K4FVVlO\n",
       "8lA7AoR9XGeW/zJBMU3wj0+oElA9l9HsArHGMSQgmrRvDEr73gQ7vIn7ci3t9Wp168aeCJElgzZ/\n",
       "hnriA6D1FCcx+g5WBFW3STHTF8uIE9lCoQKVsLhObV74bkZzbTgCApR/36jUQWfmRKf0iFXdOnYe\n",
       "D8AGVwI5bizvKB3aJpJjIAoqOY598PKxTROygEiu8sAmOHY7ckVLW3YTQewD41pkSzOxGkosRbQT\n",
       "wF9oALNhE5FgOcJ6CWbHwkLLDqOGcEHyjSDLZDOev5rAs+ZbQe0iYfDyNCkLqc6FSm8F09upsv+H\n",
       "M60qXSJzfyTzFSVnOZFoMGG5DrcgdZLyFo9U1Cc6dO2X3R47ZdNC9BhTx1pLtg3hwgLqyQjdz06c\n",
       "qYjUe9ya6kbhs66MlpQEfygWOC7d8mdEKiDvt/2Uysbo0yRUjAvK58kAM778nKGzd5P2t1ZRBG8X\n",
       "o0Gyz6ahzNnC8Aml9kf8ZQx+9VNZJm6X1ZwLkF+uq27TDHUUJL2ODPOnAsre5sqoCfPp3OytIorH\n",
       "uMbzcJsC70yzRBilXTk3YoFmbq+k+R9PtB8rK9S5nMoEMeTWaPmUt74hK5GQV7RVevw7+kOSucMF\n",
       "Uf8k7e9+V3pv43IG53fESvcRYoICzvUeCVgMqcOdyh1eEyKlRnD49zJq/OZ1mwo/XR7ywtfb27EH\n",
       "DuuE+ONtAMGPE1aTum51/C2gtrShxjlFzMOYW/w/flwWS6qljCKtzHMUsTgBhSty+L2QTva1fxZB\n",
       "EyzobQj9L4Doa9ljy86aNqZ2eu7WopALlrghLOuHRfdewCxYcDXkpJ45tj9ayNO1I4zXJ1ALp/JV\n",
       "322gDv+c9sTMQXnXxgbM7GAqBL+KvWD2KdWHgVCkiE9DthCRWNkLj/iJZ97Seg8JohdLdpz10Bg5\n",
       "2F371LSTc1RR4zFqcBSve/gI2tz8hEdEROmXYZwU/2YvpwEMU85k5M1I599ciUcA1imHe4bRpSNx\n",
       "n2GHPYLVvECAHo1Lje6QM2WIijSBvTHXotmigiY8PI0ymmy7oaL/Cx+n6f9m9NaKUBk3nb3qqBMe\n",
       "kB/OI2E/NGcXq0O1nF/t4Ah0Jv7lNaSfzLdEfoZTkRON2U5MFod9P1AB2DHCCv5cNqfyriu4A3n6\n",
       "PjEz5FedCYTicvhS1eEaTIglaWQtwGIpPI0OOlXrHtnqwZKI2mvE4tc6lX6okCNPWJxcRpc5ECWc\n",
       "+/2yj8AcEAC+Em2Q+V7lPSgW7U3ygv4Y4XLdf/KiDOG8bAMRf0VTYPHyXeLUAgHpt6JyU9XGTZw/\n",
       "UlxHzhQIB16d3YNdyW5xDjjqK5mv+O5HHu4AZ6iWNEuLAUQZNdHLxRGNatVPVSgYWgdgqZdEx1JQ\n",
       "gilHdqYTAINjf1mcJNaKSKVZWJiezdmkWwmEA+rVLRU0ouZm8zy/PdRjGwUfXwy9HRcyUTAQwMpb\n",
       "jm31M4s2x/imbqHOpv7hzPtRLo5sGI/J4g5cVwkO1Kw6pjLtefAMST4ERMu+73EWEGAZshCYCXN7\n",
       "kDO0x0m/cyklnL9b5r0dHcp8Mt21At9BtQxpMDw3VvDqO4pvkLmQl7L5JjlicLb35IIduaGY4Eg1\n",
       "Hl2j0g3CLpFNrFKIZBU+6U/5R5m2XKnnN5EkgBgVOSvvP4ff+kG6bRZRvWJ32My0LbLTdL9VwJaE\n",
       "Onlp9zKm1DpEx/svBTUKW77O58Ei5OCqf1JLh977sBb32cdYQgadwJb+z6oSa5mb1wbaeUFefZQ/\n",
       "HYUdHypunDWdu2GwOe3P/CBxRVtpxaRaoHHtA+9Unp1WoRfZCgmucVC3GK0zhOujLwRoSS5Kyp0F\n",
       "C2zCjWwhjdyYFqUgQILtwUtFJoik/NsLFmTRfSPc32lBONQnJ+xV5U5jXHsZtGVcddEucowb1LMq\n",
       "oS2GxP477OgOrEVP0ri5n/sMoBePQWR4P4iun6YF3pNkyxgvp1CG5w4C5Pkhb3FATAj6e0lSwods\n",
       "S+QlhAQA9xNnkuoMNiF0i+Cjz+jPVCw7kQnzry0+Vl6f7owNNtx102PjTcwW2+VYuVu+YiJPL5Ld\n",
       "qCZm/XPg2vLDHcgUuIj+FJSDy5EWUT/0bGj19NxOBOoT/Z1r0b8/PLikLhcOgZ6ta7l8vcgnzzBp\n",
       "emrUjuz18clyAEOcGZ1LQcbnJOEYZoF2crMLYXU0xnyILtRoqFLFLMiVsx6EMImv49+PZqW0xxz5\n",
       "1Q4J4MFLxu/dzWGfMRTmiERYW35Dd4gVNYR4Uig2eDM6QBhCkbBDrK4Fh9qydQ6UkKbNQvFMRf0n\n",
       "IGesJbgZCZdHIvExnBBLLoR+6R/Vs7DfciI+HfylTebSdSMWcB5cK04tDBh1KLYLsSu4O/08xXDc\n",
       "zsgnTbgrdUlZkysB6wSZ6w2Qx2NjTiRpKIYNOk/E08jpmThdtyVnyxJidzjMq73P45p9piA7angk\n",
       "UsQCUc8G25PU6Yo41XJV7jZ9pP+lp/uAQfcXv6MMkzUX1i2HaMMrFYnnajCptUQuaAX9pyUcMX8v\n",
       "ufBJZh34e355GYY+vSL6YUAiSbsIgbB3FsVaTtJD2+x6IH/wBNRX1HNU80/sm/uHNddmTKSE6d47\n",
       "gA2btovGQFN/qrmwUEbo7Df3CozqLcUz3yzxodTm3Qu4gzl1UGzITFoYRyWcqMxc322tfwtCpgbW\n",
       "Pk5pAalHGJwm93xw2nsRegb24p7CQ1lrppbFgYoBYqAe4I5Id7YcgppwULj5Sum97TQlPTNjXfdJ\n",
       "2RXqm55u1lPeolCcOy5WeUuNjv3d1DvWZuHxvuUFrslxlj8HohiKbVYDsAwB4m/QWl2+ME3U3TAW\n",
       "mnSoqTKf8ZekRt20deKbQP/NB3dl1sxNahNvTFB1KOhzUE0+mkFT6NYfNycZiaLO5V3VZp9wjiwW\n",
       "nQHoS14UfHaCOAR5Ver4RvZg5iZLxYpU/tRdIv6YkwpX0pbZBeLy4WecY3lj+3EN/+q4MRgV3RO2\n",
       "JsEI9LKikCkEJdaeA0Yt8Arb4KVcHKpq3VAdoGOfG3O5XZAY0wbd5lARnDa4nVtgAXY3NzCzWcxb\n",
       "m7MYBCqRYVPPub3BgH7dQ21tWzy0Btl8IpZxePZVdspcPbYjQcJr1XFmZzb2t3ZIqrmczyIACZrr\n",
       "IYsC7YAdY4uoLgaWYq+RTPEjYJanfn5K1m+VLAU8/4lpVK8h+IkrGs5xvx/4ShOIjgS/A8Mt9L8C\n",
       "vFvwbSOcESkwXNV9a3MFrgweVAoULF3SPaY4Sw+2SHKhv51ZNx+MfDg3cfdIrGQ2F/UTOF3erQTl\n",
       "rTPuio2YYPGIbK7h4yqbZVX1zA/mStWIOrE83+EN5BHjyyLANYLIM2gDBKxa1l8tOhoFPs5NFb0A\n",
       "HqDjtZ6a4cKDRC1yUwIzEtHyx6NdDW7Yr1aWRRkMJUbsHDo9Yjn0o3TBXkJyDUpVeHJ0MlXqgaWF\n",
       "Z65PlzyJwP7wq0m2afA+/ME8ncxUHlfeWTCA97EEx9zT1QZ8FX2y1fw7IVgbpVsWXKTM9zBIqX+7\n",
       "p4ZGDdu55jqyRR/W+YfhNTGufs3Lzwov9fQeDP2rQSavJp9cu1IOzNtmMVRYcC0kcJKbPv7zqFoa\n",
       "4biJshE49PZ95H15E3IVegp1GddY0erAfl9P7/UH8kCeduyqzUA00BljKLeQxMsrTUpCbtZyx7WH\n",
       "asHRBviLBhNmRLVt1igClEfjfNC435ujIj5B93npjKlIKeKc0Mk4WRQ64ndngWqxCGGS/zZfY60E\n",
       "f7llsvQPKsKGdC9JPRCaRwI+JxpIpdnyW9r9RIDXXRRuu+YSgtkwOcjBtWmwcu47wXZ+hcLeSSGr\n",
       "vVRAbsxv/FQ8fepTuMZJsoJ0fwuAuPgevN/e9aS0eHGFrs1AH+W5lKMdjLTyDHBLYiFsG+zIoAT6\n",
       "4H7l56+ilvNmdfPK4VAG6ZvmS+csybuheWh5TwCuhViBrgRg2ttSDuH6rjqqVcqIksI/JO9817um\n",
       "zfSATDIlG2nJAcEmJaYJIHhB00zpNnP6XikYjgwGY8x+zEnFemOVbr7jJjFoCzxStB8JZEpyayMF\n",
       "JkB+HYFcgGGhiujR6ks5siHhyc8EF02mEubpza9kjlE5GewuB/sZROgUeWC/u2vbh52dycSWzWZD\n",
       "WO8NqxFZYB3d5q+0bL+sjN6+EsiPc0/R2zCDTvnxzx4qXBQ7Gb97CtkT9ARAcvON5s6CFgo6GYw5\n",
       "Ewn3oPTFEBX4SK1VIVJaKx7Ukw9zz2zMEZVrfu+F8yfmqj/DiJ1CvodK+686G6jLOQ2D3OZbvWQO\n",
       "5pSH9//ui/WLLcSdDhaENF2IF3Q6qXxpVDGz9+sjH9Cjmrts2oIBBFRo7pZXKBa7IK/R7Y1hIIZA\n",
       "3sR/KobHYHwscVDfg3xE/QXCFpEH2nRm8I/bxQO3O4oszkigVtTq1ZNN+BI1SSD16VhfCuQQyg2I\n",
       "u+PvndmDYQ3KuggbPwOUg8zQNlL1ObnZIry3Om1zgvQh1U4/bo4XVf/7AiN+A773bC4iFGuF103Y\n",
       "UJjqjHhJrCre+jwfgLTWEPfP/d312PCxTWiBoixG5pGhxwuZ6GhfN4A1ah3rSxALzRPFKepjjbw1\n",
       "1UkQXwWJKmfdMCfN+osXx5Zb68oD2JLaJVcIcYp99aMpVIV5wAkD+lwGKKtumEfp85u/j+0/B1FA\n",
       "cOPf6aHFmQXIqwFEJ/T0QRPdOvUxxPJFh95ZndOUvq8IKPY81jtPbmTPsYoLQsesIPiC0XWzMX3/\n",
       "UkmHChSBHgEzTk1DY8qrPbKJ1jUeUy7FSju420MJPCFlMvbTP1UqOBL1GDSfA4NNn6jWhyRo26Qe\n",
       "v3zbmIq/+XKW3xb4HptGnCAKzXt2R7LZ6gVJU59Y0MqGjVMFXGpmN7iFd96UZlbLWYmP2PalqjYj\n",
       "cvPwrglJPCDNzEUI8g2x+LLq1j+pz+2vl99NkTHJSUUFtqV/EgJMUpP/LL/VDJ7XwwwAJM3WiqZ/\n",
       "b7I7y8Xc97KV5/glQwQVyuIijGaraNpbcNgh9LSI3e3UlsJcdeieWpBRekQjkpB+WwzAfUJeInkH\n",
       "tRQ+rYppxTgpA6NkiZL3V95ZSRRodPavfXp6i8rXdf3w4DjNi1Db1RfyLyN6BbXe4F6+x/uqxOZI\n",
       "aVT39kJJaYGPiNN2b8sFm+mmFsmzJmNlQuliUFnZ9EiYSJrwKiHg6dYEH8OyP0MuAnXiTSDx2S3A\n",
       "iiOhe4HEbl0QzCixupzbYVBVk06+X5tCrGWJGFFuVCmeztdVoUjr8VCl+8aaHh+TBj2/ciGaAgDh\n",
       "X5Nd3MH47914I0gc1Or4w1pS6DWWl91dGrt3VGDPSACdBJr1FAZ8HCWM4Fi9SwHjng4TdbgAVvBv\n",
       "LEMv9d3kXB7O+8h0Xb+khCANESPOT0par0aC6qDuAIlNPsQiyyaeheKtbWSJ78qdupn7K8mSWHdR\n",
       "x0IrTHF45bIYNoUFoOxi0mFOr/gLqamJq5QTg/Ay48B8fbtpO+x1J+SsKW7ZuHU40nvBGlLtqpeP\n",
       "bnJ/aeMXH1YPE6zfTXuFJrsiM9J4c9fEyQwvIiihmZi7ykOCCSodrr7CD7Oc0ffQ77NZBni56/r2\n",
       "gORen/ro1EFtGWqFFHS++PuiX/MNhUjxQ+Q5YTYhwSCvwevaIG5o/bonUzosI40hG2BeVoBTeZTj\n",
       "dmJkpmrgnWv9BXXHKbgQ2OAFsoIE/rVv3Vm7IGwAs6PaMP/A/LTG2Lvl7ZkXqxR469FZmYI1CZEP\n",
       "pdX43ELUTg0lJL//gabm9e+Gc2bjTjLIPUQLM0jmSkbuBCH0vl71NM0Ca7Hk9au/GIWNyWRpuVmX\n",
       "0bK2hSCLLXjBizywP+Ta/lG8/plO6jFTDBN8+5/cWh3nVnuNIH3+NeJfZdst/Y/DgD4xkcDJb3r7\n",
       "BsCCrOclayy8p027TYY62+E8T2WC4NK4SbDu/v9/FRmrz4GmO97IiqFHZSm1PgOS9DW/alLvJvLY\n",
       "h/bCTj73FCtPDwVunXXgpBA7W3kQDqUnng/fqgiAJTpL4dsrF7ScO3CSTQzm0Pwz43c+h6nmH3YJ\n",
       "gSbvIJkMsNSi7IKU3zGAKaRDKqOR378MeqWjianSgc/aecQCPl4zH9at3LCeggGGsn1wGpN6OJXP\n",
       "CAbOS7Jx9NstCO0lOT/lmRFsR8Itn54NYP5kQWKHw6ahXfXbIEn3VREgz8tOgvMoxSKZiJbnYOZH\n",
       "H9xfhsYfiDgagQTTarZJuJrlIjoN+IkVFSxXSsVCJZ2UK90U0jJ9mH937NcuZxzT2uyNiFzpUejZ\n",
       "6zV+sK6QAUZ+BWYma+4ZO3VhLHvkONfTOI59Hqas1Op+oy61Ya0alJRWwagxG1E76D0/snr0Xcq8\n",
       "URtbKbkqKACIQitwWb/9l4/a+WFx8+ftC5IaPvAxJS7alA+v2hVBrMwajKHYNXUtTAbrSEgvKvxO\n",
       "N+zSMoKtnN50nat5Zhke/CoZerXcHj8cyCRbwdpAFZvglvR5sz4tNksX8t+fJse/31gzZD7KAqq/\n",
       "SwCqvRWKy9ojQ+zj5yrSIsKSNJx9aHJ7sTF9i47nJi83+M+VJMlx8cZ8C+JOjYD8cGOOFFMUFLn9\n",
       "FqjHkIbqXRyq1BHArLsc4h9BRdR0r0D/K6sqGjXGoy9xCYeHcrQOIk3EzoFHjIOwUxXQ640oBdPo\n",
       "ieRlIWUCJazxPsT/y0u58t07DzS/ipbpirx0uzeRLpIfp7FZFZBGmSrSPikrN2hzbOx4xY2iCpBZ\n",
       "fRtcfxvTsLNJSv173FKAFuH1d6NUbQTmXpO1mfOo7WLgFrGr/ht33s5y53sa/TvDWHtE+B15da/2\n",
       "8XmON2KAzuIB3zH7jkM8dOO++55AOtn/CmuHKb3769LgVrtGWxH7TvMeh4K2PetSpY0ny65FLAYi\n",
       "vUn7zTzCon0lQdlGtCI0Lb18R4Ag/A5qqRnLi8TbZb7sjga4qcubwrf19yQFSvzgmfEBwC4CHSvi\n",
       "2NawdLr6RAM7QhwQTH113/1QtUQIwP80zzHhyIZ5KhJPWBILewllNYaQwdP/XHXm69LDrVsCAgri\n",
       "pkEJOwXv+Fvxx0wU3yYyLtQ81oeCKybLoJ1VYWvxuG5gUVSgz2iEbzE91PajaywFCl7goUA2Pk7z\n",
       "eFt+6gkwGLwARC+cu6ymaS1aXFrtYhh1a/mpy0f+7vAROIlxSwyzJ44se0uBtouhcZ1lO6jR9VJJ\n",
       "fzzjCPZtQHYJmwjK+TC38uFX0gonHg/0YbX8L3K/SJuiriG04AomM22Xon6ymFJVaPOnIG7Kv8YZ\n",
       "bTRSX6Zpg77Bh0QFqfst+GXdw5ELQ/0xXHd+mupJQdn8CPV3hOGJpTsdxFA3rTGU3Ogp0KkBbuVU\n",
       "YWZ/YhaR14Jx8CgPXzA9yYga538it83xDtTy01g/0QybwkAadrOaGlfoxRHX7/oyzenMg6VXNy8l\n",
       "5ELR0jGlhQLgJeKaLhq5RLuupaMdWT7Lrwd8V0A9162kiNv79DkEKumI5oav8gPF2C2NGH11gnbT\n",
       "gHX7H+FQk5AwUN4XDAcnVo161ATrM5Pfd67HprdweHx7LcFo87cIH4VgPn4+djFr6vzcpQ0tN1PG\n",
       "RQgvPIqAI0f8AASNA4FVssJiJppfmnFUGqbRYFQKwAic97AnNPCi56HWOwAqJm4vr4jh1JDCWfW3\n",
       "/WBlbdAMFApnADDyRNkt+Vv2Dk3RhjNUOjko0xE3mi7YOTorvxevZ07ZdDnQc3NTQIxcMenoiXQ7\n",
       "07yb1/SSHDO1pHIJVhHufCxGsVBhebA6PHOQYus61C9DlZtNHmDOCeYrUsaZOiaQLakV3L473Hgt\n",
       "+G0bAn6gzpL8zPu0GdElAQyI9gL6s4rnP812BOSyaH9IcJ+B3Ng744NANrtA6EMC7ir5LaVmC1Ms\n",
       "ftUELMrZPQiws/chaTUiTRdxB0BhJyITF++PvgTU2iPP4ymgJwBVPKE6g3y0FSYHktBaopBferjl\n",
       "Q7mUTvm278YS6DkRdvXlWXri3GB2v5KRzFhgoggUFdp3rO1j4ikVLWK2XU+GavhuWokU88ksf/Zy\n",
       "Fi408navJjaVS9xLcGIbMDWf3400JasMHn6d7BugsmNRhC3gyAmnfboRv54bXd63UT289kyb0XW5\n",
       "F1seef/iiuSr6SBSMbJm0vyN9vvIzEkgIkDFnVFJnRt30hSMOSmct7FZhPqWj3g+1sPwc+AiiI2S\n",
       "4V174KswYIziQQ3riOsp2jwTSgfZ3YOL90IMKc5Ajnl0E75G50cbu+HVK19JU/EMEYo2nFIamYOC\n",
       "QifSw1dgOJcJl+Iqh7wN1nWsy+fYXsdQvyeAqeBX6zpggYtPzFdXW92a48s2g0pBxU4WsCJkbOBe\n",
       "3EW8NFmbpeZ6alb4KTURlc2oIsiYGUSu/k1vhVY+Z0gXv7AJdQ9rsOJpOgohBaUQnPWWdcCUXNlZ\n",
       "HmK+o8USp//SWQ3sPc7UaVuzHJSKrayb9E+si0Rhr2UTZ030oX/LA6py4TZSt2yREphLxlxPBz+O\n",
       "KWvhh6XR066lASPtsrJnmyR2N5ZNYggQtKNs1CqnDwNwlkYN873BMgMrenyXld/OHIl/Dw9m7Oxy\n",
       "IWAXu4a2V5qCO81YmqtEkNOfEyfGgtRlexUbH6sHMuLkoExnNnlHjds/VNZJjOWcdfNX+LgIGJy6\n",
       "6qli3a5esDuZfzTXLeDAEn5zFFbcGxhlvFbhNFd5C6RQAToA0knPypS6VT7lGyfV84Vkg2MQ3e9C\n",
       "ICQxLYHk93fgAgmbzJ4+XciemIW9bb3qJwp57X//q4MMBFd0wa9b05TeTZ9OrzXKmZnHzFPfzQEv\n",
       "T2jWHUlXCOYcyWBcsNAP7y7S//N1O07Vf2H1QNhmHGFSs/Q+KcAwnUcK+JYB6HRL5eImTpedfzny\n",
       "DV9LJdTk8FIt2HaEy5ToP95dTV3HQOp/4mbnreId2dzDciyFuVl2Lxl0Aej0xn3NJt+H4GyMTEPO\n",
       "9PrbEbwJcyJW4McYxCDJ2hsF/+DtxvzOiVjrZt2I7nywNrfIRV37hLWAeAeUaeqD02437LQm9gER\n",
       "H5BNpvz7cQ3yx1/QwsksDnigjHcHs9mHAu+h42v1RMNHHrion6nGKIJDCr1oh61yEN5e+VCSmKde\n",
       "Uwu2fp1wSktlR83cARg0XNFyq8kcqpowmjB9VK/Cn7ycHwhOT8HZpfwVCc0Vgb8cWSZIFpmWkPe6\n",
       "KOLSSHFMI5k/AVcuJ/EEpmVhd6vXRVEYDPckMugtrfuf1tjxTrAOyFlYjCqr+nE8CQ1keYRwW21d\n",
       "cZWMS+tm4ZkTPE0UyFeCS3eKzF8PgvgyJLM0Li5xktwiJVkgRsKlch2HnkMdVfEwXEDI8F3hBeHk\n",
       "zjDP0khbdYIkEW/pA/hw8UydJ3g3DAxyzlTQlk4cDOsCa9MPEWDItyM2QxawR31dt9niQpFsK2CC\n",
       "tBB4Vvn1S20AkTJ4K+W9TOt6QoCWyO2GJ5Azn+235QRstxz9ijmsSuGf8bhSYlSslGqhF+cewdyi\n",
       "+n6xin+sx54ByYeVLYfHg9E2LL3b8MgZ/Dsv/zilnbFtlfioHzcQ77TNCjxOVKUM41nNf4By6cPN\n",
       "60tXRCspWWN2aXugExOxYia/NtNNCqMbR9iA7aCro8f82NoNIg4nRm3Iob+OnNLNxDYDsvfXPbOE\n",
       "7V5200OVwlHW7NavaPJ0IxAYDHp3mH1QcybQDhzyKfTGdInGbzHmjtv7HSd0doQ0tUniRjnUDVQ+\n",
       "vB/FOyx2vvSLfbSWkcZJf+3ZtYeP89UbYdfeMh/s4pqskEQcs4cL8uQ5XfSTpgEWDY+gUbGPmgA4\n",
       "sEo9l2kBSQ4qn6KzwIkoaNWhoJCbX/t/lgWfe2rkIcTlg6m+O7qNov2tImwsnJH8BqP5b9x2bR/W\n",
       "3K8ZLkOuovQgB5Wcm5iV64Y2Ee0UoLjsnH6GUtvLka3D4UJwUkOvv8DaDzSm00pNZvvDqNiwwhkG\n",
       "SfdCvTxpTn2iDet2EIEt3ARaInPaiRVxfGifBAaLo3Er1/7e7zY7t6hh3MRAmYDJqzLdhSC7032n\n",
       "rE/TzJ1kl+Dp2h9I34B9qDLJ9yy7j+gMMkJOdnnq7oXaTMGV1RrECcfsa8fQLwD1u7I2r7IhGEgR\n",
       "OLRvOdJhTDuCBVsJFhzLdkLiELulTj9k00I2y3hcqT0iquC2OQgDboPlY9PtWYGG0/bf5rWO2xTp\n",
       "EWVGyw9YB50SUdqeAtBFO12zpW7ZLZt5ATeDLaENW5/IlcVTv+D1fQiAwpSpy1xEHLqwW3HYotxp\n",
       "g8747BVLOl3iCBk4CHFErnZ4c/vqp2km7l0cmr6DcouFoOBxef3eMy2DempvOJprslB8EB3VOiwl\n",
       "1+y4vTHCDjTHp3oAEHN2xfmx9zEzIZCqgCulKMDDgQGS3HSzS8cpl+gPvMpfVYdy0fXEyEkYcXGn\n",
       "l2AfJpWBDoQBNnB5D9AJKcdHeq+gffvDh3A5mQqZ0zSfLxfnyi1SDcTvxVTk5m/yGtu/Q9508/Du\n",
       "bvvllZsJRpN77OHFRWLxevCTXe5L3HpGcSiCexklFn1ti0TiRYeKhlDw3fUFiVMxhfjgrcTrQGjQ\n",
       "tVmVWWV8zdgu4q07yZ6CLczcyXdelMI73x4EUibqU+l+tnVL9ixibWQ9a7KuVZcDVZRVr+Eu/Nfw\n",
       "+KR20v6rk7ha/MtG+KAZ1jkFj7blvTPApAve6unXluNv3b2YMEYvcCPY9R37CMQ7k6/evVtgwqNi\n",
       "hOM42mTo/OkFXQatiMz27wa/aSnoWZYxVAQagWZuQxTgE477vhanVn3QYkNZ54Xs9+YBtw4ko4lK\n",
       "btyT6OMnEB1NQiMtrIMjgjiUV8VqnaW37UM8UAwD8ihh1M7zRA+IeM86uyLk3hKiyzCQHwhoJmhr\n",
       "iKcvcIpD/kdWXO9WA+vBvsGFdbbkQwg6OdAF3pMDmk7ul2oXQNdRH4R3c+iQBrp0kWMvGSahGx5o\n",
       "wHBHOju5hj24oAN+k6MdNagt/U1ByNquNNieHQf+OXoGCOurHtEpb5BcrYrqdYGBnxq+8YHzIB2L\n",
       "y4eKljusciWirqu+txNguepqFmt05lXDCuO5vKQ2lNmsQHzswD7LCzFYdg4YltGBJrK+jKLCybQ3\n",
       "U03K8MFBudEhAzEg7Y0mpK0x31rCh/p093lwoHSy2dAiKWiMEGJaTwFFvnowOMc2ltsPOMFa6wLH\n",
       "fJPMavz8QW8EzGiM1EEKLI4HThAeaLwoyOgspnfslH0SFn4kqwir5Pg0/UuB8Kfszk4ls5vmjSfc\n",
       "ErEWbrTOg+ugXIhV9Bi23rc8roL/7pnKK6ZnHlEfDSM/01xtSgNL4Ixo/4kqEtUP+tER/j94ilj6\n",
       "JYmtHKLCJYgfDxMibCnRWPFW246ba3s11LyCTX+ngoJpkjtwk4PmHnk7Tn2Z0Ssn8ZJo6BJ+vR7C\n",
       "BqY//IQn0Pk0s6uwViidfH7SdqPHAV0tEc/mx+UB0Vs0ewk4fTIO7K+htl9mQNycKUC9elIweXQ8\n",
       "IOsp06M5QddL/djfiedZk/c8IvNL/hQ/KxX/5SzuOfLSC8LdRfXYqJDFAGCutGYiz3Tzk2N3XB9k\n",
       "KuyCPMDAOk5LjGbmfYr+z8BXtOUpL6EOHRofFTZNcryqF1J84+fmVUBScIwOc5oEfG9ksClFFaic\n",
       "9IFfNLuM94/OnbAAMfAkUbuPtGgwSR0EZwUClT8ms9k/Zfpc06wDwuvkinbvTmM5c1YsuBTE5two\n",
       "tRveU/XcP8vH/kK79qtMrH0KO9wJ7eKzT3DUxZvuBkeEPkXhf8M1eRpDPmBcccdU1N3QfuAF08v8\n",
       "yzZkMTPUbK7lDPe1tZ2NGInvsSK/IcMORi9FtPFwtI2Zn9p0sJ5EJT46AU6+6l4xeFb2o2Q0Llhu\n",
       "VxIAH5CZiFb0x/y9sxCuCvLpQJq3IMuz2oeXsOubBA95oq89T+mpZQHcDGvEV7t3Jpvt4f67g74m\n",
       "M3lGcUfUu2ikazXw2HiTqJyOOMgqvfZx964z31hXhvZbO9xU7bXz0yndsG4/J9dEjc95vt7tROvK\n",
       "1mC9cepwrssfamNAWBFxlFubPYJuneNvIt2oPUQ/qED0PiM5LJeJLV/FjvrvRPq64f+evg3v799q\n",
       "LfWTmn9lck4qcUWM07mEKlvs5haBwDUuQlG5WQK3+CX6HkEfuQEiR8/W+0H3he7fM/nRivoz4SMc\n",
       "Bjy/c2dl3QI415h53vC8bP8cE//VXfsBouQA0PDtUts4A911VITHRqgAEFw6ug2ZzAtYBinYTPjK\n",
       "4BQ1MYr8zchM81lfsHY8+ZaTyxaFxiBAs1g8cVhkeqaZYeeCLjSNM5avicd1FFhchyHfJpRyqnvi\n",
       "Vr41DOknKHaNF4p0MCKEgaSNpx5SdIQ04F/q3CDVQe2lezB9TEpQ3zov5z7xmNi6Yv4fEwUa1o6B\n",
       "3hE7hd3o9Qpl8QO3c2cQZgNSXNuNzPdnESHc70DVhACaS0tCWZCLEtkDzarSOMcAZ3WUhCXhKPJX\n",
       "y/QAFQB3DRAhcrKgPIhVkIjmF65aHC9SCrjV8x42WhHMTs8eq+WJ2bRlHrKtI4WMG/PMJcgpAnja\n",
       "uFkMhfXJvkpQKUC816SS0dnXduMYS4qvdj1xb6O5wpV71Lzc2QfyGom4hm/EePQC/MgYCExOEjdR\n",
       "KnANWxGeD+ezjAE4Qp0SDXR6DPbWLta9YSHgtxmhEwi0cB4zlI0KuwjbSKD1GH/Az/E4vrlezAW5\n",
       "nrXW4FOVBtm3O45fkeajBtQ65pBZGgcCV8iGnar2sZUJlThGw+xd0OLYi3jHiDVVTv1bHVvapDqe\n",
       "gtTZ1Wfxp3cvUY0ATT+NchRMa5+hZK3nMOFQwEThbUeNi4R0c80VsR/aklGo1MA31UZY4+sTNGtI\n",
       "MwHYeXBP1QPnYt5maAjMAvSOT+r0JgoLQhPmgqOuI5oKlWrk/w33UHIovCDi11ZcccbhBv/mASZx\n",
       "K30ejR/x7rAEdCSk3KYAgecf3G9RE80JGPNfpYvmjrD/ZeCT+NUTk6a5B+UR2Wv1+jIIEV63oRcW\n",
       "JK3DeHvKS4nnUReNhEZWmVPhejxAJ0yxc1gH//g45rzmoajyZvZywT87eaEVoXJ6BEUcysvF5q/D\n",
       "jEgS49GQ5ROP90oZ2kE8r2md5EdEWjY7eiSMFDidRLF9yLIOwXI2C2bQO+IRoX1XZ+EZzYrQDsIt\n",
       "GHCYyinyk6+jup359VQGgB7YlbLCFFMphbSh+c0CWXpxxiywouccqdi1Gv3IMgZkJhp0D6s0TUHN\n",
       "Dsey4bJX3PGwRMPx67cfcqMKibF/opmylsn74Pbuf8dQObYERvO04k1U/wGgepMqGGCXeGsNGJbt\n",
       "wmcOBrgYVkieB9dUjOC2mCmHW0+RhzhAhnBLLmAplkJkpBurLDIQLnibOuWGxi6iKDGg99W54Z3o\n",
       "ZPHqaVwxW9Mi9Bn5Sdo+wmjJer4cC9xEwaqXMjt6c5GBDgnxq++26KQUPJ3TjA+T9q2dXnDYV8wA\n",
       "Z7sVDrpvDhAgUJO4tbOIyZRp+e5JWnL/sfPjk51vtmJ/syhNX+9x9eFahf4tRy53zV39R3MhJPgT\n",
       "/2RpJjiXkref1IFl/9KT+BjKMqeSoKQVtNXV78vRNlbVh7ideasBofrNJuCha3IJ+rsg8pG8LyvB\n",
       "a/chMWB5vpgyYgez5NG+A9DMjRN8iGp8+9soaRLpXWBOD8LsWXrwAYnoOxgPGPVuUJAvL3OWOTD5\n",
       "8BwuM/Yl2dOoojQXwYyYS+femTpdW1YIb1BZ1ItbfMHxzn05mzNIrfBhTSxN4xII/LHbdn1SdrVI\n",
       "6A6/+mjJQ2sLD1aKQhGlnwagPeeATX+hwXSMZz4uBz4A4qk0Tun5QPc+WPw0m+C4XeIi73bukKyl\n",
       "CB9jWXTMm6LG6f3I/gvVjamiJcgluSiVfnMEDWrdIxpsJS6FuL7QHyd6H47GckvB8/d/FCkRu2OQ\n",
       "ex83vnKUhn7dm2exargZ8JYU2Pf3xGYLJjRfCjKqMkZQTcUyGOAP/c3jDgFDAO7V1FfibbjG4uzO\n",
       "w7+IN3gnzq8WTB7MQmooJO5XXXcBs6TDLRDS0rcG0r+eIztNn4b/uBkzI5IHf1yD84CCBLwqvfmN\n",
       "GqMDw/fLQJkqj6VqbCdbAtkNBPy1eHsbwJ1V9v08Nz2RUe/qZZbAHYq5fA90usffdlYNJFt62FUx\n",
       "zaWMeHjdfwfcgYQ6Nm9PaWzwzONB8cLNr18b4ZJmMpIi7RQiZtC8Es6GysHvM1G1rek0exF9To19\n",
       "T9NGIKlVqdK34/9NYuckLDIIwzwaFScou5UdMs39Qdzsh23xCi2MXgZT8t+b3lppdjCADDwrX2Jz\n",
       "vyZVjGctZYjTQSoW0o320bSFVrk1l+5MEGgyr9V3bm1Rw3okZsxhUNoz+8Cy1rxZIXtD1fJS2vjF\n",
       "eWopm1hvbdusQhXMtNT3/2PvhDqEjOLmIILj5vlpCddLynaZniG2BRGfAWJ1Do7GxoNNUVNTN2MY\n",
       "4OQd2GYbSE3NBOqsrqYjkvUt+5zC2ZSSCWofvVAponhRWM+ZeOeT0jKT7tm8PU+tUCUUkrsMPNT6\n",
       "m77uMEo5tNuPgggIOR6AojjbTL8QL+8BHJ33Z2afix3KFKMEUUwwgeyaDFc5ZpaHGkXr9ZhE4lo1\n",
       "BDOve+l46ZaImXpNhrDF/BS1LeZPJUEcbeKZ5KrJzqm0KFhZH0Qflna/8G6xA9OPz2Cp8v/uWv3I\n",
       "0lfQk0VETO5eeqDEQ2loZ5kmax9bjlQqvMMhf6tB84MXo6W5yE3IFCAM4e1FM0obCI7/lvkrqu0I\n",
       "gbDBHWFj3tzDu22tPMoHYpi49TwDktl/M1rmwEyVpA01cLMZPHnnuz/UKn8/BtHK5c/g8idzflae\n",
       "ivUO04IdNMDvtKxJmaqa4bPFBj5EGjeXxwINlIKXQqDqGv+xt2iL9tuC12ToYDUPc5rMujUGifJt\n",
       "ewejBcmjX5b+fskT8QLPvD+btYY2TFEBT3MVR5+5uU7fEbMNA7TPk37QqlJK/yTurz524PQas9hi\n",
       "rIMq+aGs9OpCyvJZZwVS6jN82zJpC59WAr+qrDqZkeLEscoS8JfRrGfypoWRi35tI53szlJASm6M\n",
       "0psp9ScId9ZdgwfTa7dTVPmJAREWkrvfn4Ebi/QjwDWshdhtSLEaBXabbVdLmfF73r4YOKsVcSKC\n",
       "AWBMLCr/3UUJCJtXXgdEp0fg/SHN5ZEXSFUql9YMFa7WL9/o+S1f2QdRo7mYRJjclHZNN83tAOaz\n",
       "jQqGF2PmkD6eQ3Ou0uaMJKB8CJdca02Lygx2qOcxMTr+SPHI5jQgVxNRVbE8h+LDD6c2ysYVdjd+\n",
       "aF6bcIcGAddv7vrZa7ogwcLacmkoAvJLjg3zoMGIG/fwc+LsNyUeZHWJR9BGx7G6WOdm52iezSO7\n",
       "+kOv6V0xw/fiQsK4HLp+NB+rjIaiKJ08MpjLktWrHvuBkwArGXKUfB4rIFu5eNzkIjiITj4HJE85\n",
       "ei/Vx6XapF1xlQYlxQXmjb5cuV28sjyFE/Vs/7l1teHwfH49/juryWl5HDjAoZyO+WzGlqH8t1u1\n",
       "+yMk/XxHr84/edoRJXeIsKMSxhlsHoegrB1PwvHK+n2d6J/7bA26YAawFq/FOBrWXcWJeAHQj4x+\n",
       "6AGpbw+GPXsfHzNPntkgsFb6FKjl3ZBSdk0MO49Zr5wuXAia7AQS6AgyAMP3jjJ8wHxvjeObNKTj\n",
       "+zEyAAM6nsG7HGAPAWUGCpEVzX8AAAHZQZokbEM//p4QA3PseCCl/AG7zobyRU9mdML6gNTdU1Cp\n",
       "NsYyEWzvRi4PC8D8gS5PJNbIXGev/h9e++IX89jpB5iuI4RwKUcFI9AI3vI7l9QfTLGF52uTd/MG\n",
       "40f38gx2JBIqfhz4q6FJuysgO59v1ba9TJq8uJAVQ6aYUOcXPdL/nOZq8va102PVPifljiNjT6FO\n",
       "oVX94YKb0QnMdHy1OeNzawBCcX8n7co1QrtGlY09S6ndMM8e8dNrXsej+2a9ulIAP4zuJA6YS3ab\n",
       "VG4LXsmPcHrZ0fp7KpTPPUNDeIkD/NuBxktep0y74h3PsBvva4GCHgCQRlB+vNbf/42hFa0uUkJ6\n",
       "8HceMRobt+26E74iL84rqhkGj+3gFAHRzjXTeIKFuF4OgbipgDiEkSaBJU2i/gxnHF9DWCD0DcKP\n",
       "qgGR88FVfx1XM5elGSGf6VwEn4y75LPl4222pDqkiuWdkQ7+aVL6ouqBcUqrB0y7HRMBcOT+6m5f\n",
       "bcI4frV5b61vkavscTbN0b8VWjWnHUnT+2VBXvvWqIsZiJDiDnKLyERORS3Y6cqIs+OPz1r4/Ia5\n",
       "7Zt5bXh1/z/v6CzgExbVLVvqYkro75zpfK9LLk+4rVaI7i1AaEwBkzAAAAAtQZ5CeIR/ARpRUIal\n",
       "oUgPz43/TUC4oMvrXtBUigbsrSPTMClKXoDFq6A2Da05AAAAJwGeYXRH/wHEijaB0StvknTqPDuE\n",
       "IAo+C1AtEd06Rr3JwqZMt/peQQAAABUBnmNqR/8BxYAHVhdgV54XitUnzQcAAACNQZpoSahBaJlM\n",
       "CGf//p4QA3PseFQ2E6UAOLS37koRY5ZsyROJai/EonPdXFN9GdZy5wYuHOKgBXPCR5uWqeVC0yoZ\n",
       "G/TIoyxks763jpho+26xt7xtwVJWeIHQfsoH+OwvffoX92NP4sAtJrBuM6+nHcXPszMe3EGs+xzr\n",
       "UKM+M3GbpDcYzdp8q1+1AOKAAAAAKkGehkURLCP/AR2BjSYQFVACalpoaoB6KsCIO1JwAcaoBNR5\n",
       "NlWvX6A8CQAAABgBnqV0R/8BxIppnUldn4ae/WcsCvgiH0EAAAAXAZ6nakf/ABVQfRIXDKgwt7he\n",
       "N2kcA2EAAABAQZqsSahBbJlMCGf//p4QAFPydGAG5oqTb79Xpw/SjCHAn4z+DcqoQNcuuJj47mf1\n",
       "VcPCrQXQiaPUm66tmWj5gAAAAB1BnspFFSwj/wAbA+IgATprvBCk+kOz/11sHfCOqwAAABIBnul0\n",
       "R/8ABYvPdkZl2HilMWkAAAAUAZ7rakf/ACsqBIHoC+r5KsyilIEAAAA1QZrwSahBbJlMCGf//p4Q\n",
       "AFPyvjgBbhtRFLM+ntQpD9T/nrzEDVXWbByeMrJTnNhfD+oA3oEAAAAUQZ8ORRUsI/8AGwmQRUoI\n",
       "JfaEUXAAAAAOAZ8tdEf/AALELqenXV0AAAAOAZ8vakf/AALFmxkwiOcAAABIQZs0SahBbJlMCGf/\n",
       "/p4QAFYxegAOkUTUGhD1QCzfEiImjTRljlprmkef10V+Jh+3EF4jDkaMvhZ+ndVCv10NoHDjLmCc\n",
       "/BvQAAAAHkGfUkUVLCP/ABuietaoAW4IC5N1SUQqZEzck8OUmAAAABMBn3F0R/8ALEKTbE3nh2vp\n",
       "aHXBAAAAGgGfc2pH/wAq2v0ZgANpLgpJrCwIT4At+CqTAAAAKEGbeEmoQWyZTAhn//6eEABT8dpQ\n",
       "A2tG5Xw/eRndqNeEwAvvJCAsDAkAAAASQZ+WRRUsI/8AAbYABZzDxBtgAAAADgGftXRH/wACxC6n\n",
       "p11dAAAADgGft2pH/wACxZsZMIjnAAAALEGbvEmoQWyZTAhn//6eEABT8nRgCJgizzpLdoUWHTgV\n",
       "mmX2RfarCxXJJwTcAAAAEUGf2kUVLCP/AAG63gsIlCbYAAAADgGf+XRH/wACxC6np11dAAAAEAGf\n",
       "+2pH/wArOa0w8Vh21i4AAAA2QZvgSahBbJlMCGf//p4QAFPxuOAIc+kQGD81Sosm73imAkmdsdO3\n",
       "C7ajCb00FYPrJM69OCbhAAAAEUGeHkUVLCP/AAG63gsIlCbZAAAADgGePXRH/wACxC6np11dAAAA\n",
       "DgGeP2pH/wACxZsZMIjnAAAALEGaJEmoQWyZTAhn//6eEABT8bjgCtUnHxkEbhLhIAF6xp/WWIYc\n",
       "jJCRs4JuAAAAEUGeQkUVLCP/AAG63gsIlCbZAAAADgGeYXRH/wACxC6np11dAAAAEAGeY2pH/wAr\n",
       "KgJh95cgZi4AAAA+QZpoSahBbJlMCGf//p4QAFPydGAN6joB6c0pdyFptfGqjwHTm2tvZb6u2Qij\n",
       "LAsCtiUjdp3ECJAEX5boUEAAAAAYQZ6GRRUsI/8AGwNxyAFhN/Jq6e4jpfVRAAAAEAGepXRH/wAC\n",
       "vRjRwagSA0AAAAAQAZ6nakf/AAK9GNHBqBIDQQAAADlBmqxJqEFsmUwIZ//+nhAAU/HIAAN9b6KR\n",
       "BS4VhXuvTlZLj+CzqwZD14Zp54ByiGM2HlIbGl/JgpIAAAASQZ7KRRUsI/8AAbYABZzDxBthAAAA\n",
       "DgGe6XRH/wACxC6np11dAAAADgGe62pH/wACxZsZMIjnAAAAZkGa8EmoQWyZTAhn//6eEABRsnRg\n",
       "Em0UUACOR8e/ywd2c+kZVGD6In4lxhyiBYlVVK2DD9GbZZ37G4ExLd3fREBvGmzjWv/aQZNwuVJr\n",
       "Q+e1ZpxMxp6HpRU8kKNRl02X+IEsNn4OmQAAAB5Bnw5FFSwj/wAaFbk4AC4uZZFt2C3nA0JSrEVY\n",
       "RcAAAAAQAZ8tdEf/AAK9GNHBqBIDQAAAACABny9qR/8AKgwh4ALgfPycMawVcfY4/K/7ag7FVw31\n",
       "wQAAAChBmzRJqEFsmUwIZ//+nhAAT8oQZc1IAiQ3dOJkmy+wKfwIQHfBYGVAAAAAFUGfUkUVLCP/\n",
       "ABm24RxlrhwTCBIouAAAABIBn3F0R/8AKNBBl5mjnZCx4uEAAAAOAZ9zakf/AALFmxkwiOcAAABA\n",
       "QZt4SahBbJlMCGf//p4QAE/MItEOAIkMv3jntmUaxMO9q5KQABIVNMD/Yyhp16zesznnVx7T+lj1\n",
       "xc4yaiBlQQAAAB1Bn5ZFFSwj/wAZpBMKtAAbwqSXApWpWJtxumLKgAAAABMBn7V0R/8AKK59xssw\n",
       "EkwCtqkwAAAAGgGft2pH/wAo+vBQAXEHvF73561hPgCF4KpNAAAANkGbvEmoQWyZTAhn//6eEABP\n",
       "mPrZORcAEVdLwIiF/P4m18uA6YuxwKY7CK8G0gHbMCQl4sDKgAAAABxBn9pFFSwj/wAZcB/wYcNz\n",
       "dHI8Su9Soja5v9xgAAAAEQGf+XRH/wAoXlPIoDy0LF8XAAAAEgGf+2pH/wAo6ae57+US+gqSLgAA\n",
       "AD5Bm+BJqEFsmUwIZ//+nhAAT6qTKOAIkNG13A3YaP0s4m0zd3jdCtbWV90lorOumKnUQyCpv5cQ\n",
       "vzGM31QekQAAACBBnh5FFSwj/wAZ1veAGdcSCv2srzp27TyRLb5czVnoUwAAABMBnj10R/8AKOIZ\n",
       "1Vw6f9BiO/xnAAAAEgGeP2pH/wAT7Nc1LaieZRCi4QAAAEVBmiRJqEFsmUwIZ//+nhAAT13/Vh2A\n",
       "I4mcyUTWRJJDR3mDr/T+uDOkqK/NMYRZPa4r0VMG1g6Kd9hTV0ZzIfNaPC1DhHwAAAAXQZ5CRRUs\n",
       "I/8AGcJrQEXTaM5f/MRktCkAAAAUAZ5hdEf/ACewnQF+ArK1FYMGDkEAAAAQAZ5jakf/ABR81zDx\n",
       "WHbWLgAAAC1BmmhJqEFsmUwIZ//+nhAAT1105t4AHGMmmS+ZwhrhNIi7zZekqOLruOSoPSAAAAAU\n",
       "QZ6GRRUsI/8AGcKccJAOsJfUfrkAAAAQAZ6ldEf/ABRxc3HultqVJgAAABABnqdqR/8AFHzXMPFY\n",
       "dtYvAAAALEGarEmoQWyZTAhn//6eEABPXWaSJ3UARElI79EE7iGOK8VlvmwcuX+UQMqAAAAAFEGe\n",
       "ykUVLCP/ABnCnHCQDrCX1H65AAAAEQGe6XRH/wAo4t7Q57IstnGdAAAAEAGe62pH/wAUfNcw8Vh2\n",
       "1i8AAAAuQZrwSahBbJlMCGf//p4QAE9yldADgiLvOv/fFjmvKC83it+Rs/YWM4RY4hYOmQAAABNB\n",
       "nw5FFSwj/wAM5vAlJlO5Swi4AAAAEQGfLXRH/wAo4t7Q57IstnGcAAAAEAGfL2pH/wAUfNcw8Vh2\n",
       "1i8AAABIQZs0SahBbJlMCGf//p4QAE9xuOAIN300fYjgILj+Nc4n1nPDoj5Wm0uffmPoUvwlyx6K\n",
       "yIo+Kfoo3+ASEqF8G2mW8j/XPgk4AAAAFUGfUkUVLCP/ABnJg88sDXmGZonQswAAABEBn3F0R/8A\n",
       "FHFchp8JchjQpQAAABQBn3NqR/8AKMN3erzZW0BIQxcS4QAAADRBm3hJqEFsmUwIZ//+nhAATYxQ\n",
       "QtK4sAqtmsHS78PiIF+PawuBPkm5QKpMSTwOCb8V9hSRAAAAI0GflkUVLCP/ABk5dwAKdDQ7vifL\n",
       "+ODskrVqnKWqDqkkpqqTAAAAHAGftXRH/wAnq2HJQAjAYiOg32Or25crPqpH9JgAAAAaAZ+3akf/\n",
       "ACf24oAOHoSW2V6LPxPgC36YxcEAAABJQZu8SahBbJlMCGf//p4QAE9xuOAG5rtMYlNA8iAmyZaO\n",
       "ji0LT0MnvrC0tAdsFx5tq6Gj5qfOrPgPf8XAuxlTreu+c40k/1uEfAAAACBBn9pFFSwj/wAZyd14\n",
       "AW8bzi4sa4nmZEJ9+x5brYuvMAAAAB4Bn/l0R/8AKRMcAB/NNzfx6SOA4Z17GMH+yrXNO4EAAAAc\n",
       "AZ/7akf/ACkTHAAfuPSmMDqawz2KPMduGPO7gAAAAEhBm+BJqEFsmUwIZ//+nhAAT3V/OAImPs0d\n",
       "DYn9L+ZsdTLgO+eUKTO3/F8QMaqc3ALFnA2Uy7po2wVHgTRWHBu4UYT+SYykdUEAAAAUQZ4eRRUs\n",
       "I/8AGbIH1JmDgl/oRRcAAAAQAZ49dEf/ACji5ZnultqVJgAAABABnj9qR/8AKPmtQPFYdtYvAAAA\n",
       "Q0GaJEmoQWyZTAhn//6eEABPdaDgACA4kfIcOVaL2uYdCM04MVhYQFGqWrHWPxDYYXKG4VZCLBpI\n",
       "PcTuxCjBjYOkZcAAAAAcQZ5CRRUsI/8AGd/LgAJxjJVBLpjHpVa7hoJPVQAAABIBnmF0R/8AUf0Z\n",
       "5lYonmUQouEAAAAdAZ5jakf/AFIIH/78ABMrmBvP/O0e4yREKHBhPrgAAABVQZpoSahBbJlMCGf/\n",
       "/p4QAE91VTgBFXJeW9sUL5BNB4H+zmLMEhNb/b9JnH1e5151T/h3B/iihtmbGYodRmrdHdXJbINU\n",
       "eIEbYmP5jFDL5b+WWaR1QAAAAB9BnoZFFSwj/wAzl8zHjtoAJBsNSOel+EhSJImeDuuBAAAAHAGe\n",
       "pXRH/wAoqEgugAgODXRZcqxM4o4ygYcFPuAAAAAUAZ6nakf/AFDiDvQKbcLYQROksg8AAAAxQZqs\n",
       "SahBbJlMCGf//p4QAE91VTgBGQ7f1vQtRyPXyMPSP/pCKLbRN7NcvsZ9o6IGVAAAAB9BnspFFSwj\n",
       "/wAy/3l0EMACdZQLOVbvnXHggeUaq6nXAAAAFgGe6XRH/wBQ4g6l29iQ20HXg2suu4EAAAAVAZ7r\n",
       "akf/AFDiDq5XrDVtajXkqL0TAAAAL0Ga8EmoQWyZTAhn//6eEABPdZPcAIwN4Xm3mZeEJLWV8H4R\n",
       "ut7Xf1atokKQiwdNAAAAEkGfDkUVLCP/AAG2AAWcw8QbYAAAABEBny10R/8AKMuXfj+RtuR1UAAA\n",
       "AA4Bny9qR/8AAsWbGTCI5wAAAD1BmzRJqEFsmUwIZ//+nhAAT3VVOAEO9uRaMG3LbPswBYKS9CmA\n",
       "mGSL9qyHzuG0xlZLBsEwz3uRGpIlCIGVAAAAH0GfUkUVLCP/ADL/eRbMaSuAAuo0i4MKXR+dlZhn\n",
       "OM4AAAASAZ9xdEf/AFDiDurse5IKozRdAAAAEwGfc2pH/wBQ4g7DyvcnAiIV3CkAAAAgQZt4SahB\n",
       "bJlMCGf//p4QAE91ogUAOHyTIu0Pb+aIGVEAAAAUQZ+WRRUsI/8AMv95jPWDLPSb8yoAAAAQAZ+1\n",
       "dEf/AFHFyenultqVJgAAABABn7dqR/8AUfNZYPFYdtYvAAAAVUGbvEmoQWyZTAhn//6eEACjYvRB\n",
       "n3C0jWrvxQFXiYHTA/0hBc/0MoZCtl1q265GqKv4BIwO4DSppg8p5X3aq6vcNFGDStRNrJaeCQ3J\n",
       "Y8gmZ7gLYWcAAAAgQZ/aRRUsI/8ANNMOLNmkC0AJbJHeDwKKLmfTCdvN+KQAAAASAZ/5dEf/ACji\n",
       "5Za66J6AkKLhAAAAFQGf+2pH/wBUMg88QWy+rnZkWWK6qAAAAFFBm+BJqEFsmUwIZ//+nhAAo1rI\n",
       "gw4BNTDWkXPnFxtVkkrwRnzbfq1vs7S7h6l+UF4dxfbAt06IlvjPIGqPSkDMWEjrJzQ8nVrGgF2a\n",
       "utyrYWcAAAAZQZ4eRRUsI/8ANMHiDvNLSIKFLLdin6WM4QAAABQBnj10R/8AVC3arGxhSRp+h2iJ\n",
       "nAAAABEBnj9qR/8AVBP4FPs9WuuIzwAAAElBmiRJqEFsmUwIX//+jLAApOO2wDUrAOLBYmZmw162\n",
       "GCte8pdflde4uFYvytFPtRxgwSfqYdfVEE1ucDXzsloy7Zzfh+q9z4HdAAAAFEGeQkUVLCP/ADTT\n",
       "Hr9/bmaX68M5AAAADgGeYXRH/wACxC6np11dAAAAEwGeY2pH/wApedekNGcioogcMXAAAAA7QZpo\n",
       "SahBbJlMCF///oywAFJ1pIABDvKEw0VTkrpDwQMHe2KFgIgLXl6518u3e9qAQwLIcD3nDIhgz4AA\n",
       "AAAbQZ6GRRUsI/8AGkciEAACzru+TmnXZ7iLJ6TBAAAAEAGepXRH/wACvRjRwagSA0AAAAAVAZ6n\n",
       "akf/AClzIAFQ8xv1yoNwQouBAAAAOEGarEmoQWyZTAhf//6MsABSYMdJd9nTYAZb/WxIUEdjrYtX\n",
       "18QF8oMdCvOW1m+7lurCGyhVGYRcAAAAIUGeykUVLCP/ABp/18gBWqT63oaOM76gSnAkKO4E7wjq\n",
       "oQAAABIBnul0R/8ABYvPdkZl2HilMWkAAAAUAZ7rakf/ACoZrlDF5zPfjOZXokEAAAAsQZrwSahB\n",
       "bJlMCFf//jhAAT28rgADQpNW296RYcwpdf9o0cJWRT7BA7yJA2cAAAAeQZ8ORRUsI/8AGlQl2AAF\n",
       "xWxhWwdJwFCjuBC9KouAAAAAGwGfLXRH/wAqOcYAD2Ja90YKM9A8UcYlcOYH3AAAABQBny9qR/8A\n",
       "KgoEoegL6vkqzKKUgQAAACBBmzRJqEFsmUwIR//94QAE1oMTAASo4Oj2w7ELXIgYEAAAABJBn1JF\n",
       "FSwj/wABtgAFnMPEG2AAAAAOAZ9xdEf/AALELqenXV0AAAAQAZ9zakf/ACoKAnH3lyBmLwAAABtB\n",
       "m3VJqEFsmUwI//yEABLO0VABOIQs1hlYUkEAABXibW9vdgAAAGxtdmhkAAAAAAAAAAAAAAAAAAAD\n",
       "6AAAH0AAAQAAAQAAAAAAAAAAAAAAAAEAAAAAAAAAAAAAAAAAAAABAAAAAAAAAAAAAAAAAABAAAAA\n",
       "AAAAAAAAAAAAAAAAAAAAAAAAAAAAAAAAAAAAAgAAFQx0cmFrAAAAXHRraGQAAAADAAAAAAAAAAAA\n",
       "AAABAAAAAAAAH0AAAAAAAAAAAAAAAAAAAAAAAAEAAAAAAAAAAAAAAAAAAAABAAAAAAAAAAAAAAAA\n",
       "AABAAAAAAbAAAAEgAAAAAAAkZWR0cwAAABxlbHN0AAAAAAAAAAEAAB9AAAACAAABAAAAABSEbWRp\n",
       "YQAAACBtZGhkAAAAAAAAAAAAAAAAAAAyAAABkABVxAAAAAAALWhkbHIAAAAAAAAAAHZpZGUAAAAA\n",
       "AAAAAAAAAABWaWRlb0hhbmRsZXIAAAAUL21pbmYAAAAUdm1oZAAAAAEAAAAAAAAAAAAAACRkaW5m\n",
       "AAAAHGRyZWYAAAAAAAAAAQAAAAx1cmwgAAAAAQAAE+9zdGJsAAAAs3N0c2QAAAAAAAAAAQAAAKNh\n",
       "dmMxAAAAAAAAAAEAAAAAAAAAAAAAAAAAAAAAAbABIABIAAAASAAAAAAAAAABAAAAAAAAAAAAAAAA\n",
       "AAAAAAAAAAAAAAAAAAAAAAAAAAAAGP//AAAAMWF2Y0MBZAAe/+EAGGdkAB6s2UGwloQAAAMABAAA\n",
       "AwGQPFi2WAEABmjr48siwAAAABx1dWlka2hA8l8kT8W6OaUbzwMj8wAAAAAAAAAYc3R0cwAAAAAA\n",
       "AAABAAABkAAAAQAAAAAYc3RzcwAAAAAAAAACAAAAAQAAAPsAAAyAY3R0cwAAAAAAAAGOAAAAAQAA\n",
       "AgAAAAABAAAFAAAAAAEAAAIAAAAAAQAAAAAAAAABAAABAAAAAAEAAAUAAAAAAQAAAgAAAAABAAAA\n",
       "AAAAAAEAAAEAAAAAAQAABQAAAAABAAACAAAAAAEAAAAAAAAAAQAAAQAAAAABAAAFAAAAAAEAAAIA\n",
       "AAAAAQAAAAAAAAABAAABAAAAAAEAAAUAAAAAAQAAAgAAAAABAAAAAAAAAAEAAAEAAAAAAQAABQAA\n",
       "AAABAAACAAAAAAEAAAAAAAAAAQAAAQAAAAABAAACAAAAAAEAAAUAAAAAAQAAAgAAAAABAAAAAAAA\n",
       "AAEAAAEAAAAAAQAABQAAAAABAAACAAAAAAEAAAAAAAAAAQAAAQAAAAABAAAFAAAAAAEAAAIAAAAA\n",
       "AQAAAAAAAAABAAABAAAAAAEAAAUAAAAAAQAAAgAAAAABAAAAAAAAAAEAAAEAAAAAAQAABQAAAAAB\n",
       "AAACAAAAAAEAAAAAAAAAAQAAAQAAAAABAAAFAAAAAAEAAAIAAAAAAQAAAAAAAAABAAABAAAAAAEA\n",
       "AAUAAAAAAQAAAgAAAAABAAAAAAAAAAEAAAEAAAAAAQAABQAAAAABAAACAAAAAAEAAAAAAAAAAQAA\n",
       "AQAAAAABAAAFAAAAAAEAAAIAAAAAAQAAAAAAAAABAAABAAAAAAEAAAUAAAAAAQAAAgAAAAABAAAA\n",
       "AAAAAAEAAAEAAAAAAQAABQAAAAABAAACAAAAAAEAAAAAAAAAAQAAAQAAAAABAAAFAAAAAAEAAAIA\n",
       "AAAAAQAAAAAAAAABAAABAAAAAAEAAAUAAAAAAQAAAgAAAAABAAAAAAAAAAEAAAEAAAAAAQAAAgAA\n",
       "AAABAAAFAAAAAAEAAAIAAAAAAQAAAAAAAAABAAABAAAAAAEAAAUAAAAAAQAAAgAAAAABAAAAAAAA\n",
       "AAEAAAEAAAAAAQAABQAAAAABAAACAAAAAAEAAAAAAAAAAQAAAQAAAAABAAAFAAAAAAEAAAIAAAAA\n",
       "AQAAAAAAAAABAAABAAAAAAEAAAUAAAAAAQAAAgAAAAABAAAAAAAAAAEAAAEAAAAAAQAABQAAAAAB\n",
       "AAACAAAAAAEAAAAAAAAAAQAAAQAAAAABAAAFAAAAAAEAAAIAAAAAAQAAAAAAAAABAAABAAAAAAEA\n",
       "AAIAAAAAAQAABQAAAAABAAACAAAAAAEAAAAAAAAAAQAAAQAAAAABAAAFAAAAAAEAAAIAAAAAAQAA\n",
       "AAAAAAABAAABAAAAAAEAAAUAAAAAAQAAAgAAAAABAAAAAAAAAAEAAAEAAAAAAQAABQAAAAABAAAC\n",
       "AAAAAAEAAAAAAAAAAQAAAQAAAAABAAAFAAAAAAEAAAIAAAAAAQAAAAAAAAABAAABAAAAAAEAAAUA\n",
       "AAAAAQAAAgAAAAABAAAAAAAAAAEAAAEAAAAAAQAABQAAAAABAAACAAAAAAEAAAAAAAAAAQAAAQAA\n",
       "AAABAAAFAAAAAAEAAAIAAAAAAQAAAAAAAAABAAABAAAAAAEAAAUAAAAAAQAAAgAAAAABAAAAAAAA\n",
       "AAEAAAEAAAAAAQAABQAAAAABAAACAAAAAAEAAAAAAAAAAQAAAQAAAAABAAAFAAAAAAEAAAIAAAAA\n",
       "AQAAAAAAAAABAAABAAAAAAEAAAUAAAAAAQAAAgAAAAABAAAAAAAAAAEAAAEAAAAAAQAABQAAAAAB\n",
       "AAACAAAAAAEAAAAAAAAAAQAAAQAAAAABAAAFAAAAAAEAAAIAAAAAAQAAAAAAAAABAAABAAAAAAEA\n",
       "AAUAAAAAAQAAAgAAAAABAAAAAAAAAAEAAAEAAAAAAQAABQAAAAABAAACAAAAAAEAAAAAAAAAAQAA\n",
       "AQAAAAABAAAFAAAAAAEAAAIAAAAAAQAAAAAAAAABAAABAAAAAAEAAAUAAAAAAQAAAgAAAAABAAAA\n",
       "AAAAAAEAAAEAAAAAAQAABQAAAAABAAACAAAAAAEAAAAAAAAAAQAAAQAAAAABAAAFAAAAAAEAAAIA\n",
       "AAAAAQAAAAAAAAABAAABAAAAAAEAAAUAAAAAAQAAAgAAAAABAAAAAAAAAAEAAAEAAAAAAQAABQAA\n",
       "AAABAAACAAAAAAEAAAAAAAAAAQAAAQAAAAABAAAFAAAAAAEAAAIAAAAAAQAAAAAAAAABAAABAAAA\n",
       "AAEAAAUAAAAAAQAAAgAAAAABAAAAAAAAAAEAAAEAAAAAAQAABQAAAAABAAACAAAAAAEAAAAAAAAA\n",
       "AQAAAQAAAAABAAAFAAAAAAEAAAIAAAAAAQAAAAAAAAABAAABAAAAAAEAAAUAAAAAAQAAAgAAAAAB\n",
       "AAAAAAAAAAEAAAEAAAAAAQAABQAAAAABAAACAAAAAAEAAAAAAAAAAQAAAQAAAAABAAAFAAAAAAEA\n",
       "AAIAAAAAAQAAAAAAAAABAAABAAAAAAEAAAUAAAAAAQAAAgAAAAABAAAAAAAAAAEAAAEAAAAAAQAA\n",
       "BQAAAAABAAACAAAAAAEAAAAAAAAAAQAAAQAAAAABAAAFAAAAAAEAAAIAAAAAAQAAAAAAAAABAAAB\n",
       "AAAAAAEAAAUAAAAAAQAAAgAAAAABAAAAAAAAAAEAAAEAAAAAAQAABQAAAAABAAACAAAAAAEAAAAA\n",
       "AAAAAQAAAQAAAAABAAAFAAAAAAEAAAIAAAAAAQAAAAAAAAABAAABAAAAAAMAAAIAAAAAAQAABQAA\n",
       "AAABAAACAAAAAAEAAAAAAAAAAQAAAQAAAAABAAAFAAAAAAEAAAIAAAAAAQAAAAAAAAABAAABAAAA\n",
       "AAEAAAUAAAAAAQAAAgAAAAABAAAAAAAAAAEAAAEAAAAAAQAABQAAAAABAAACAAAAAAEAAAAAAAAA\n",
       "AQAAAQAAAAABAAAFAAAAAAEAAAIAAAAAAQAAAAAAAAABAAABAAAAAAEAAAUAAAAAAQAAAgAAAAAB\n",
       "AAAAAAAAAAEAAAEAAAAAAQAABQAAAAABAAACAAAAAAEAAAAAAAAAAQAAAQAAAAABAAAFAAAAAAEA\n",
       "AAIAAAAAAQAAAAAAAAABAAABAAAAAAEAAAUAAAAAAQAAAgAAAAABAAAAAAAAAAEAAAEAAAAAAQAA\n",
       "BQAAAAABAAACAAAAAAEAAAAAAAAAAQAAAQAAAAABAAAFAAAAAAEAAAIAAAAAAQAAAAAAAAABAAAB\n",
       "AAAAAAEAAAUAAAAAAQAAAgAAAAABAAAAAAAAAAEAAAEAAAAAAQAABQAAAAABAAACAAAAAAEAAAAA\n",
       "AAAAAQAAAQAAAAABAAAFAAAAAAEAAAIAAAAAAQAAAAAAAAABAAABAAAAAAEAAAUAAAAAAQAAAgAA\n",
       "AAABAAAAAAAAAAEAAAEAAAAAAQAABQAAAAABAAACAAAAAAEAAAAAAAAAAQAAAQAAAAABAAAFAAAA\n",
       "AAEAAAIAAAAAAQAAAAAAAAABAAABAAAAAAEAAAUAAAAAAQAAAgAAAAABAAAAAAAAAAEAAAEAAAAA\n",
       "AQAABQAAAAABAAACAAAAAAEAAAAAAAAAAQAAAQAAAAABAAAFAAAAAAEAAAIAAAAAAQAAAAAAAAAB\n",
       "AAABAAAAAAEAAAUAAAAAAQAAAgAAAAABAAAAAAAAAAEAAAEAAAAAAQAABQAAAAABAAACAAAAAAEA\n",
       "AAAAAAAAAQAAAQAAAAABAAAFAAAAAAEAAAIAAAAAAQAAAAAAAAABAAABAAAAAAEAAAUAAAAAAQAA\n",
       "AgAAAAABAAAAAAAAAAEAAAEAAAAAAQAABQAAAAABAAACAAAAAAEAAAAAAAAAAQAAAQAAAAABAAAF\n",
       "AAAAAAEAAAIAAAAAAQAAAAAAAAABAAABAAAAAAEAAAUAAAAAAQAAAgAAAAABAAAAAAAAAAEAAAEA\n",
       "AAAAAQAABQAAAAABAAACAAAAAAEAAAAAAAAAAQAAAQAAAAABAAAFAAAAAAEAAAIAAAAAAQAAAAAA\n",
       "AAABAAABAAAAAAEAAAUAAAAAAQAAAgAAAAABAAAAAAAAAAEAAAEAAAAAAQAABQAAAAABAAACAAAA\n",
       "AAEAAAAAAAAAAQAAAQAAAAABAAAFAAAAAAEAAAIAAAAAAQAAAAAAAAABAAABAAAAAAEAAAUAAAAA\n",
       "AQAAAgAAAAABAAAAAAAAAAEAAAEAAAAAAQAABQAAAAABAAACAAAAAAEAAAAAAAAAAQAAAQAAAAAB\n",
       "AAAFAAAAAAEAAAIAAAAAAQAAAAAAAAABAAABAAAAAAEAAAUAAAAAAQAAAgAAAAABAAAAAAAAAAEA\n",
       "AAEAAAAAAQAABQAAAAABAAACAAAAAAEAAAAAAAAAAQAAAQAAAAABAAACAAAAABxzdHNjAAAAAAAA\n",
       "AAEAAAABAAABkAAAAAEAAAZUc3RzegAAAAAAAAAAAAABkAAANPUAAAKEAAAAVAAAAEUAAAAvAAAA\n",
       "uQAAADkAAAAuAAAAKQAAAHYAAAAkAAAAIwAAABsAAACGAAAAIgAAAB4AAAAVAAAAqwAAAC4AAAAj\n",
       "AAAAIgAAAF4AAAAsAAAAGQAAAB0AAAA+AAAAhgAAADIAAAAfAAAAGwAAAHgAAAAtAAAAHgAAABUA\n",
       "AABfAAAAJwAAABcAAAAVAAAAQwAAACkAAAAUAAAAHQAAAG8AAAAnAAAAFAAAAB8AAAB0AAAALAAA\n",
       "ABoAAAAXAAAAaAAAACUAAAAeAAAAEwAAAEQAAAAnAAAAHQAAABQAAABWAAAAHgAAABYAAAAdAAAA\n",
       "SgAAACkAAAAeAAAAFQAAADIAAAAkAAAAHQAAABQAAAB/AAAAJgAAAB8AAAAaAAAARQAAACEAAAAZ\n",
       "AAAAHAAAAC0AAABaAAAAKwAAABkAAAAYAAAAUQAAACsAAAAXAAAAHgAAADQAAAAfAAAAFgAAABgA\n",
       "AABpAAAAHgAAABYAAAAYAAAAUgAAACkAAAAfAAAAFgAAADsAAAAoAAAAHAAAABYAAABhAAAAHwAA\n",
       "ABUAAAAUAAAAMAAAAEkAAAAoAAAAFgAAABcAAABdAAAALwAAAB4AAAAgAAAAVAAAACAAAAAWAAAA\n",
       "HQAAAFQAAAAnAAAAEgAAAB8AAAA/AAAAJAAAAB8AAAAUAAAAVwAAACgAAAAWAAAAIAAAAGMAAAAq\n",
       "AAAAIQAAAB4AAAAzAAAAHQAAABYAAAATAAAAWgAAAB8AAAAdAAAAFAAAADsAAAAlAAAAEgAAABQA\n",
       "AABJAAAAHgAAABYAAAAUAAAASgAAACQAAAAUAAAAEwAAACsAAAAdAAAAEgAAABQAAABEAAAAKQAA\n",
       "ABQAAAAbAAAAPAAAAB4AAAASAAAAFAAAAC4AAAAeAAAAEgAAABMAAABGAAAAJgAAAB4AAAAUAAAA\n",
       "WwAAAB4AAAASAAAAHgAAAEIAAAAeAAAAEgAAABsAAAA5AAAAJgAAABQAAAAWAAAAJgAAABsAAAAW\n",
       "AAAAFAAAAF0AAAAoAAAAFAAAABkAAABKAAAAKQAAABQAAAAeAAAAUAAAACcAAAAYAAAAFgAAAEEA\n",
       "AAAlAAAAEgAAABMAAAA8AAAAJAAAABQAAAAUAAAAUgAAACQAAAAWAAAAFQAAAHwAAAArAAAAHwAA\n",
       "ACEAAAAtAAAAHQAAABIAAAATAAAALQAAABsAAAAVAAAAEwAAADwAAAAbAAAAEgAAABMAAAAuAAAA\n",
       "HQAAABIAAAATAAAAJQAAABsAAAASAAAAEwAAAFMAAAAlAAAAEgAAAB4AAAA8AAAAJwAAABQAAAAb\n",
       "AAAALwAAACQAAEECAAAB3QAAADEAAAArAAAAGQAAAJEAAAAuAAAAHAAAABsAAABEAAAAIQAAABYA\n",
       "AAAYAAAAOQAAABgAAAASAAAAEgAAAEwAAAAiAAAAFwAAAB4AAAAsAAAAFgAAABIAAAASAAAAMAAA\n",
       "ABUAAAASAAAAFAAAADoAAAAVAAAAEgAAABIAAAAwAAAAFQAAABIAAAAUAAAAQgAAABwAAAAUAAAA\n",
       "FAAAAD0AAAAWAAAAEgAAABIAAABqAAAAIgAAABQAAAAkAAAALAAAABkAAAAWAAAAEgAAAEQAAAAh\n",
       "AAAAFwAAAB4AAAA6AAAAIAAAABUAAAAWAAAAQgAAACQAAAAXAAAAFgAAAEkAAAAbAAAAGAAAABQA\n",
       "AAAxAAAAGAAAABQAAAAUAAAAMAAAABgAAAAVAAAAFAAAADIAAAAXAAAAFQAAABQAAABMAAAAGQAA\n",
       "ABUAAAAYAAAAOAAAACcAAAAgAAAAHgAAAE0AAAAkAAAAIgAAACAAAABMAAAAGAAAABQAAAAUAAAA\n",
       "RwAAACAAAAAWAAAAIQAAAFkAAAAjAAAAIAAAABgAAAA1AAAAIwAAABoAAAAZAAAAMwAAABYAAAAV\n",
       "AAAAEgAAAEEAAAAjAAAAFgAAABcAAAAkAAAAGAAAABQAAAAUAAAAWQAAACQAAAAWAAAAGQAAAFUA\n",
       "AAAdAAAAGAAAABUAAABNAAAAGAAAABIAAAAXAAAAPwAAAB8AAAAUAAAAGQAAADwAAAAlAAAAFgAA\n",
       "ABgAAAAwAAAAIgAAAB8AAAAYAAAAJAAAABYAAAASAAAAFAAAAB8AAAAUc3RjbwAAAAAAAAABAAAA\n",
       "LAAAAGJ1ZHRhAAAAWm1ldGEAAAAAAAAAIWhkbHIAAAAAAAAAAG1kaXJhcHBsAAAAAAAAAAAAAAAA\n",
       "LWlsc3QAAAAlqXRvbwAAAB1kYXRhAAAAAQAAAABMYXZmNTYuNDAuMTAx\n",
       "\">\n",
       "  Your browser does not support the video tag.\n",
       "</video>"
      ]
     },
     "metadata": {},
     "output_type": "display_data"
    }
   ],
   "source": [
    "try:\n",
    "    display_html(HTML(anim.to_html5_video()))\n",
    "# In case the build-in renderers are unaviable, fall back to\n",
    "# a custom one, that doesn't require external libraries\n",
    "except RuntimeError:\n",
    "    anim.save(None, writer=matplotlib_utils.SimpleMovieWriter(0.001))"
   ]
  },
  {
   "cell_type": "markdown",
   "metadata": {},
   "source": [
    "# Logistic regression\n",
    "Your assignment is to implement the logistic regression\n",
    "\n",
    "Plan:\n",
    "* Use a shared variable for weights\n",
    "* Use a matrix placeholder for `X`\n",
    " \n",
    "We shall train on a two-class MNIST dataset\n",
    "* please note that target `y` are `{0,1}` and not `{-1,1}` as in some formulae"
   ]
  },
  {
   "cell_type": "code",
   "execution_count": 45,
   "metadata": {},
   "outputs": [
    {
     "name": "stdout",
     "output_type": "stream",
     "text": [
      "y [shape - (360,)]: [0 1 0 1 0 1 0 0 1 1]\n",
      "X [shape - (360, 64)]:\n"
     ]
    }
   ],
   "source": [
    "from sklearn.datasets import load_digits\n",
    "mnist = load_digits(2)\n",
    "\n",
    "X, y = mnist.data, mnist.target\n",
    "\n",
    "print(\"y [shape - %s]:\" % (str(y.shape)), y[:10])\n",
    "print(\"X [shape - %s]:\" % (str(X.shape)))"
   ]
  },
  {
   "cell_type": "code",
   "execution_count": 46,
   "metadata": {},
   "outputs": [
    {
     "name": "stdout",
     "output_type": "stream",
     "text": [
      "X:\n",
      " [[  0.   0.   5.  13.   9.   1.   0.   0.   0.   0.]\n",
      " [  0.   0.   0.  12.  13.   5.   0.   0.   0.   0.]\n",
      " [  0.   0.   1.   9.  15.  11.   0.   0.   0.   0.]]\n",
      "y:\n",
      " [0 1 0 1 0 1 0 0 1 1]\n"
     ]
    },
    {
     "data": {
      "image/png": "[encoded data removed]",
      "text/plain": [
       "<matplotlib.figure.Figure at 0x7f57e8b456a0>"
      ]
     },
     "metadata": {},
     "output_type": "display_data"
    }
   ],
   "source": [
    "print('X:\\n',X[:3,:10])\n",
    "print('y:\\n',y[:10])\n",
    "plt.imshow(X[0].reshape([8,8]));"
   ]
  },
  {
   "cell_type": "markdown",
   "metadata": {},
   "source": [
    "It's your turn now!\n",
    "Just a small reminder of the relevant math:\n",
    "\n",
    "$$\n",
    "P(y=1|X) = \\sigma(X \\cdot W + b)\n",
    "$$\n",
    "$$\n",
    "\\text{loss} = -\\log\\left(P\\left(y_\\text{predicted} = 1\\right)\\right)\\cdot y_\\text{true} - \\log\\left(1 - P\\left(y_\\text{predicted} = 1\\right)\\right)\\cdot\\left(1 - y_\\text{true}\\right)\n",
    "$$\n",
    "\n",
    "$\\sigma(x)$ is available via `tf.nn.sigmoid` and matrix multiplication via `tf.matmul`"
   ]
  },
  {
   "cell_type": "code",
   "execution_count": 53,
   "metadata": {
    "collapsed": true
   },
   "outputs": [],
   "source": [
    "from sklearn.model_selection import train_test_split\n",
    "X_train, X_test, y_train, y_test = train_test_split(\n",
    "    X, y, random_state=42)"
   ]
  },
  {
   "cell_type": "markdown",
   "metadata": {},
   "source": [
    "__Your code goes here.__ For the training and testing scaffolding to work, please stick to the names in comments."
   ]
  },
  {
   "cell_type": "code",
   "execution_count": 118,
   "metadata": {
    "collapsed": true
   },
   "outputs": [],
   "source": [
    "# Model parameters - weights and bias\n",
    "weights = tf.Variable(np.zeros((X_train.shape[1], 1), dtype='float32'), name='weights') #shape should be (X.shape[1], 1)\n",
    "b = tf.Variable(initial_value= 0.0, name='bias') "
   ]
  },
  {
   "cell_type": "code",
   "execution_count": 119,
   "metadata": {
    "collapsed": true
   },
   "outputs": [],
   "source": [
    "# Placeholders for the input data\n",
    "input_X = tf.placeholder('float32', [None, X_train.shape[1]])\n",
    "input_y = tf.placeholder('float32', shape=None)"
   ]
  },
  {
   "cell_type": "code",
   "execution_count": 121,
   "metadata": {
    "collapsed": true
   },
   "outputs": [],
   "source": [
    "# The model code\n",
    "\n",
    "# Compute a vector of predictions, resulting shape should be [input_X.shape[0],]\n",
    "# This is 1D, if you have extra dimensions, you can  get rid of them with tf.squeeze .\n",
    "# Don't forget the sigmoid.\n",
    "predicted_y = tf.squeeze(tf.sigmoid(tf.matmul(input_X, weights) + b))\n",
    "\n",
    "# Loss. Should be a scalar number - average loss over all the objects\n",
    "# tf.reduce_mean is your friend here\n",
    "loss = tf.reduce_mean(-tf.log(predicted_y) * input_y - tf.log(1-predicted_y) * (1-input_y))\n",
    "\n",
    "# See above for an example. tf.train.*Optimizer\n",
    "optimizer = tf.train.MomentumOptimizer(0.01, 0.5).minimize(\n",
    "    loss, var_list=[weights, b])"
   ]
  },
  {
   "cell_type": "markdown",
   "metadata": {},
   "source": [
    "A test to help with the debugging"
   ]
  },
  {
   "cell_type": "code",
   "execution_count": 123,
   "metadata": {
    "collapsed": true
   },
   "outputs": [],
   "source": [
    "validation_weights = 1e-3 * np.fromiter(map(lambda x:\n",
    "        s.run(weird_psychotic_function, {my_scalar:x, my_vector:[1, 0.1, 2]}),\n",
    "                                   0.15 * np.arange(1, X.shape[1] + 1)),\n",
    "                                   count=X.shape[1], dtype=np.float32)[:, np.newaxis]\n",
    "# Compute predictions for given weights and bias\n",
    "prediction_validation = s.run(\n",
    "    predicted_y, {\n",
    "    input_X: X,\n",
    "    weights: validation_weights,\n",
    "    b: 1e-1})\n",
    "\n",
    "# Load the reference values for the predictions\n",
    "validation_true_values = np.loadtxt(\"validation_predictons.txt\")\n",
    "\n",
    "assert prediction_validation.shape == (X.shape[0],),\\\n",
    "       \"Predictions must be a 1D array with length equal to the number \" \\\n",
    "       \"of examples in input_X\"\n",
    "assert np.allclose(validation_true_values, prediction_validation)\n",
    "loss_validation = s.run(\n",
    "        loss, {\n",
    "            input_X: X[:100],\n",
    "            input_y: y[-100:],\n",
    "            weights: validation_weights+1.21e-3,\n",
    "            b: -1e-1})\n",
    "assert np.allclose(loss_validation, 0.728689)"
   ]
  },
  {
   "cell_type": "code",
   "execution_count": 134,
   "metadata": {},
   "outputs": [
    {
     "name": "stdout",
     "output_type": "stream",
     "text": [
      "float32\n",
      "loss at iter 0:0.1252\n",
      "train auc: 0.999945103206\n",
      "test auc: 1.0\n",
      "float32\n",
      "loss at iter 1:0.0450\n",
      "train auc: 1.0\n",
      "test auc: 1.0\n",
      "float32\n",
      "loss at iter 2:0.0269\n",
      "train auc: 1.0\n",
      "test auc: 1.0\n",
      "float32\n",
      "loss at iter 3:0.0200\n",
      "train auc: 1.0\n",
      "test auc: 1.0\n",
      "float32\n",
      "loss at iter 4:0.0169\n",
      "train auc: 1.0\n",
      "test auc: 1.0\n"
     ]
    }
   ],
   "source": [
    "from sklearn.metrics import roc_auc_score\n",
    "s.run(tf.global_variables_initializer())\n",
    "for i in range(5):\n",
    "    s.run(optimizer, {input_X: X_train, input_y: y_train})\n",
    "    loss_i = s.run(loss, {input_X: X_train, input_y: y_train})\n",
    "    print(loss_i.dtype)\n",
    "    print(\"loss at iter %i:%.4f\" % (i, loss_i))\n",
    "    print(\"train auc:\", roc_auc_score(y_train, s.run(predicted_y, {input_X:X_train})))\n",
    "    print(\"test auc:\", roc_auc_score(y_test, s.run(predicted_y, {input_X:X_test})))"
   ]
  },
  {
   "cell_type": "markdown",
   "metadata": {},
   "source": [
    "### Coursera submission"
   ]
  },
  {
   "cell_type": "code",
   "execution_count": 125,
   "metadata": {
    "collapsed": true
   },
   "outputs": [],
   "source": [
    "grade_submitter = grading.Grader(\"BJCiiY8sEeeCnhKCj4fcOA\")"
   ]
  },
  {
   "cell_type": "code",
   "execution_count": 126,
   "metadata": {
    "collapsed": true
   },
   "outputs": [],
   "source": [
    "test_weights = 1e-3 * np.fromiter(map(lambda x:\n",
    "    s.run(weird_psychotic_function, {my_scalar:x, my_vector:[1, 2, 3]}),\n",
    "                               0.1 * np.arange(1, X.shape[1] + 1)),\n",
    "                               count=X.shape[1], dtype=np.float32)[:, np.newaxis]"
   ]
  },
  {
   "cell_type": "markdown",
   "metadata": {},
   "source": [
    "First, test prediction and loss computation. This part doesn't require a fitted model."
   ]
  },
  {
   "cell_type": "code",
   "execution_count": 127,
   "metadata": {
    "collapsed": true
   },
   "outputs": [],
   "source": [
    "prediction_test = s.run(\n",
    "    predicted_y, {\n",
    "    input_X: X,\n",
    "    weights: test_weights,\n",
    "    b: 1e-1})"
   ]
  },
  {
   "cell_type": "code",
   "execution_count": 128,
   "metadata": {
    "collapsed": true
   },
   "outputs": [],
   "source": [
    "assert prediction_test.shape == (X.shape[0],),\\\n",
    "       \"Predictions must be a 1D array with length equal to the number \" \\\n",
    "       \"of examples in X_test\""
   ]
  },
  {
   "cell_type": "code",
   "execution_count": 129,
   "metadata": {
    "collapsed": true
   },
   "outputs": [],
   "source": [
    "grade_submitter.set_answer(\"0ENlN\", prediction_test)"
   ]
  },
  {
   "cell_type": "code",
   "execution_count": 130,
   "metadata": {
    "collapsed": true
   },
   "outputs": [],
   "source": [
    "loss_test = s.run(\n",
    "    loss, {\n",
    "        input_X: X[:100],\n",
    "        input_y: y[-100:],\n",
    "        weights: test_weights+1.21e-3,\n",
    "        b: -1e-1})\n",
    "# Yes, the X/y indices mistmach is intentional"
   ]
  },
  {
   "cell_type": "code",
   "execution_count": 131,
   "metadata": {
    "collapsed": true
   },
   "outputs": [],
   "source": [
    "grade_submitter.set_answer(\"mMVpM\", loss_test)"
   ]
  },
  {
   "cell_type": "code",
   "execution_count": 132,
   "metadata": {
    "collapsed": true
   },
   "outputs": [],
   "source": [
    "grade_submitter.set_answer(\"D16Rc\", roc_auc_score(y_test, s.run(predicted_y, {input_X:X_test})))"
   ]
  },
  {
   "cell_type": "markdown",
   "metadata": {},
   "source": [
    "Please use the credentials obtained from the Coursera assignment page."
   ]
  },
  {
   "cell_type": "code",
   "execution_count": 133,
   "metadata": {},
   "outputs": [
    {
     "name": "stdout",
     "output_type": "stream",
     "text": [
      "Submitted to Coursera platform. See results on assignment page!\n"
     ]
    }
   ],
   "source": [
    "grade_submitter.submit('arjasethan@gmail.com', 'f9KTJR4tTb9VVv0t')"
   ]
  },
  {
   "cell_type": "code",
   "execution_count": null,
   "metadata": {
    "collapsed": true
   },
   "outputs": [],
   "source": []
  }
 ],
 "metadata": {
  "kernelspec": {
   "display_name": "Python 3",
   "language": "python",
   "name": "python3"
  },
  "language_info": {
   "codemirror_mode": {
    "name": "ipython",
    "version": 3
   },
   "file_extension": ".py",
   "mimetype": "text/x-python",
   "name": "python",
   "nbconvert_exporter": "python",
   "pygments_lexer": "ipython3",
   "version": "3.6.1"
  }
 },
 "nbformat": 4,
 "nbformat_minor": 1
}
