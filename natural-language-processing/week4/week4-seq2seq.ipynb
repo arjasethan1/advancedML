{
 "cells": [
  {
   "cell_type": "markdown",
   "metadata": {},
   "source": [
    "# Learn to calculate with seq2seq model\n",
    "\n",
    "In this assignment, you will learn how to use neural networks to solve sequence-to-sequence prediction tasks. Seq2Seq models are very popular these days because they achieve great results in Machine Translation, Text Summarization, Conversational Modeling and more.\n",
    "\n",
    "Using sequence-to-sequence modeling you are going to build a calculator for evaluating arithmetic expressions, by taking an equation as an input to the neural network and producing an answer as it's output.\n",
    "\n",
    "The resulting solution for this problem will be based on state-of-the-art approaches for sequence-to-sequence learning and you should be able to easily adapt it to solve other tasks. However, if you want to train your own machine translation system or intellectual chat bot, it would be useful to have access to compute resources like GPU, and be patient, because training of such systems is usually time consuming. \n",
    "\n",
    "### Libraries\n",
    "\n",
    "For this task you will need the following libraries:\n",
    " - [TensorFlow](https://www.tensorflow.org) — an open-source software library for Machine Intelligence.\n",
    " - [scikit-learn](http://scikit-learn.org/stable/index.html) — a tool for data mining and data analysis.\n",
    " \n",
    "If you have never worked with TensorFlow, you will probably want to read some tutorials during your work on this assignment, e.g. [Neural Machine Translation](https://www.tensorflow.org/tutorials/seq2seq) tutorial deals with very similar task and can explain some concepts to you. "
   ]
  },
  {
   "cell_type": "markdown",
   "metadata": {},
   "source": [
    "### Data\n",
    "\n",
    "One benefit of this task is that you don't need to download any data — you will generate it on your own! We will use two operators (addition and subtraction) and work with positive integer numbers in some range. Here are examples of correct inputs and outputs:\n",
    "\n",
    "    Input: '1+2'\n",
    "    Output: '3'\n",
    "    \n",
    "    Input: '0-99'\n",
    "    Output: '-99'\n",
    "\n",
    "*Note, that there are no spaces between operators and operands.*\n",
    "\n",
    "\n",
    "Now you need to implement the function *generate_equations*, which will be used to generate the data."
   ]
  },
  {
   "cell_type": "code",
   "execution_count": 1,
   "metadata": {
    "collapsed": true
   },
   "outputs": [],
   "source": [
    "import random"
   ]
  },
  {
   "cell_type": "code",
   "execution_count": 18,
   "metadata": {
    "collapsed": true
   },
   "outputs": [],
   "source": [
    "def generate_equations(allowed_operators, dataset_size, min_value, max_value):\n",
    "    \"\"\"Generates pairs of equations and solutions to them.\n",
    "    \n",
    "       Each equation has a form of two integers with an operator in between.\n",
    "       Each solution is an integer with the result of the operaion.\n",
    "    \n",
    "        allowed_operators: list of strings, allowed operators.\n",
    "        dataset_size: an integer, number of equations to be generated.\n",
    "        min_value: an integer, min value of each operand.\n",
    "        max_value: an integer, max value of each operand.\n",
    "\n",
    "        result: a list of tuples of strings (equation, solution).\n",
    "    \"\"\"\n",
    "    sample = []\n",
    "    for _ in range(dataset_size):\n",
    "        ######################################\n",
    "        ######### YOUR CODE HERE #############\n",
    "        ######################################\n",
    "        left_int = random.randint(min_value, max_value)\n",
    "        right_int = random.randint(min_value, max_value)\n",
    "        opp = random.choice(allowed_operators)\n",
    "        ans = None\n",
    "        if opp == '+' :\n",
    "            ans = left_int + right_int\n",
    "        if opp == '-':\n",
    "            ans = left_int - right_int\n",
    "        if opp == '*':\n",
    "            ans = left_int * right_int\n",
    "        if opp == '/':\n",
    "            ans = left_int / right_int\n",
    "        sample.append((str(left_int) + opp + str(right_int), str(ans)))\n",
    "    return sample"
   ]
  },
  {
   "cell_type": "markdown",
   "metadata": {},
   "source": [
    "To check the correctness of your implementation, use *test_generate_equations* function:"
   ]
  },
  {
   "cell_type": "code",
   "execution_count": 19,
   "metadata": {
    "collapsed": true
   },
   "outputs": [],
   "source": [
    "def test_generate_equations():\n",
    "    allowed_operators = ['+', '-']\n",
    "    dataset_size = 10\n",
    "    for (input_, output_) in generate_equations(allowed_operators, dataset_size, 0, 100):\n",
    "        if not (type(input_) is str and type(output_) is str):\n",
    "            return \"Both parts should be strings.\"\n",
    "        if eval(input_) != int(output_):\n",
    "            return \"The (equation: {!r}, solution: {!r}) pair is incorrect.\".format(input_, output_)\n",
    "    return \"Tests passed.\""
   ]
  },
  {
   "cell_type": "code",
   "execution_count": 20,
   "metadata": {},
   "outputs": [
    {
     "name": "stdout",
     "output_type": "stream",
     "text": [
      "Tests passed.\n"
     ]
    }
   ],
   "source": [
    "print(test_generate_equations())"
   ]
  },
  {
   "cell_type": "markdown",
   "metadata": {},
   "source": [
    "Finally, we are ready to generate the train and test data for the neural network:"
   ]
  },
  {
   "cell_type": "code",
   "execution_count": 21,
   "metadata": {
    "collapsed": true
   },
   "outputs": [],
   "source": [
    "from sklearn.model_selection import train_test_split"
   ]
  },
  {
   "cell_type": "code",
   "execution_count": 22,
   "metadata": {
    "collapsed": true
   },
   "outputs": [],
   "source": [
    "allowed_operators = ['+', '-']\n",
    "dataset_size = 100000\n",
    "data = generate_equations(allowed_operators, dataset_size, min_value=0, max_value=9999)\n",
    "\n",
    "train_set, test_set = train_test_split(data, test_size=0.2, random_state=42)"
   ]
  },
  {
   "cell_type": "markdown",
   "metadata": {},
   "source": [
    "## Prepare data for the neural network\n",
    "\n",
    "The next stage of data preparation is creating mappings of the characters to their indices in some vocabulary. Since in our task we already know which symbols will appear in the inputs and outputs, generating the vocabulary is a simple step.\n",
    "\n",
    "#### How to create dictionaries for other task\n",
    "\n",
    "First of all, you need to understand what is the basic unit of the sequence in your task. In our case, we operate on symbols and the basic unit is a symbol. The number of symbols is small, so we don't need to think about filtering/normalization steps. However, in other tasks, the basic unit is often a word, and in this case the mapping would be *word $\\to$ integer*. The number of words might be huge, so it would be reasonable to filter them, for example, by frequency and leave only the frequent ones. Other strategies that your should consider are: data normalization (lowercasing, tokenization, how to consider punctuation marks), separate vocabulary for input and for output (e.g. for machine translation), some specifics of the task."
   ]
  },
  {
   "cell_type": "code",
   "execution_count": 24,
   "metadata": {
    "collapsed": true
   },
   "outputs": [],
   "source": [
    "word2id = {symbol:i for i, symbol in enumerate('^$#+-1234567890')}\n",
    "id2word = {i:symbol for symbol, i in word2id.items()}"
   ]
  },
  {
   "cell_type": "code",
   "execution_count": 72,
   "metadata": {},
   "outputs": [
    {
     "data": {
      "text/plain": [
       "15"
      ]
     },
     "execution_count": 72,
     "metadata": {},
     "output_type": "execute_result"
    }
   ],
   "source": [
    "len(word2id)"
   ]
  },
  {
   "cell_type": "markdown",
   "metadata": {},
   "source": [
    "#### Special symbols"
   ]
  },
  {
   "cell_type": "code",
   "execution_count": 25,
   "metadata": {
    "collapsed": true
   },
   "outputs": [],
   "source": [
    "start_symbol = '^'\n",
    "end_symbol = '$'\n",
    "padding_symbol = '#'"
   ]
  },
  {
   "cell_type": "markdown",
   "metadata": {},
   "source": [
    "You could notice that we have added 3 special symbols: '^', '\\$' and '#':\n",
    "- '^' symbol will be passed to the network to indicate the beginning of the decoding procedure. We will discuss this one later in more details.\n",
    "- '\\$' symbol will be used to indicate the *end of a string*, both for input and output sequences. \n",
    "- '#' symbol will be used as a *padding* character to make lengths of all strings equal within one training batch.\n",
    "\n",
    "People have a bit different habits when it comes to special symbols in encoder-decoder networks, so don't get too much confused if you come across other variants in tutorials you read. "
   ]
  },
  {
   "cell_type": "markdown",
   "metadata": {},
   "source": [
    "#### Padding"
   ]
  },
  {
   "cell_type": "markdown",
   "metadata": {},
   "source": [
    "When vocabularies are ready, we need to be able to convert a sentence to a list of vocabulary word indices and back. At the same time, let's care about padding. We are going to preprocess each sequence from the input (and output ground truth) in such a way that:\n",
    "- it has a predefined length *padded_len*\n",
    "- it is probably cut off or padded with the *padding symbol* '#'\n",
    "- it *always* ends with the *end symbol* '$'\n",
    "\n",
    "We will treat the original characters of the sequence **and the end symbol** as the valid part of the input. We will store *the actual length* of the sequence, which includes the end symbol, but does not include the padding symbols. "
   ]
  },
  {
   "cell_type": "markdown",
   "metadata": {},
   "source": [
    " Now you need to implement the function *sentence_to_ids* that does the described job. "
   ]
  },
  {
   "cell_type": "code",
   "execution_count": 40,
   "metadata": {
    "collapsed": true
   },
   "outputs": [],
   "source": [
    "def sentence_to_ids(sentence, word2id, padded_len):\n",
    "    \"\"\" Converts a sequence of symbols to a padded sequence of their ids.\n",
    "    \n",
    "      sentence: a string, input/output sequence of symbols.\n",
    "      word2id: a dict, a mapping from original symbols to ids.\n",
    "      padded_len: an integer, a desirable length of the sequence.\n",
    "\n",
    "      result: a tuple of (a list of ids, an actual length of sentence).\n",
    "    \"\"\"\n",
    "    dif_len = 0\n",
    "    if len(sentence) >= padded_len -1:\n",
    "        sent_list = list(sentence[:padded_len-1] + '$')\n",
    "    else:\n",
    "        dif_len = padded_len - len(sentence) -1\n",
    "        sent_list = list(sentence+'$') + ['#'] * dif_len\n",
    "    sent_ids = [word2id[elem] for elem in sent_list] ######### YOUR CODE HERE #############\n",
    "    sent_len = len(sent_list) - dif_len ######### YOUR CODE HERE #############\n",
    "    \n",
    "    return sent_ids, sent_len"
   ]
  },
  {
   "cell_type": "code",
   "execution_count": 41,
   "metadata": {},
   "outputs": [
    {
     "data": {
      "text/plain": [
       "'set'"
      ]
     },
     "execution_count": 41,
     "metadata": {},
     "output_type": "execute_result"
    }
   ],
   "source": [
    "'setence'[:3]"
   ]
  },
  {
   "cell_type": "markdown",
   "metadata": {},
   "source": [
    "Check that your implementation is correct:"
   ]
  },
  {
   "cell_type": "code",
   "execution_count": 46,
   "metadata": {
    "collapsed": true
   },
   "outputs": [],
   "source": [
    "def test_sentence_to_ids():\n",
    "    sentences = [(\"123+123\", 7), (\"123+123\", 8), (\"123+123\", 10)]\n",
    "    expected_output = [([5, 6, 7, 3, 5, 6, 1], 7), \n",
    "                       ([5, 6, 7, 3, 5, 6, 7, 1], 8), \n",
    "                       ([5, 6, 7, 3, 5, 6, 7, 1, 2, 2], 8)] \n",
    "    for (sentence, padded_len), (sentence_ids, expected_length) in zip(sentences, expected_output):\n",
    "        output, length = sentence_to_ids(sentence, word2id, padded_len)\n",
    "        if output != sentence_ids:\n",
    "            return(\"Convertion of '{}' for padded_len={} to {} is incorrect.\".format(\n",
    "                sentence, padded_len, output))\n",
    "        if length != expected_length:\n",
    "            return(\"Convertion of '{}' for padded_len={} has incorrect actual length {}.\".format(\n",
    "                sentence, padded_len, length))\n",
    "    return(\"Tests passed.\")"
   ]
  },
  {
   "cell_type": "code",
   "execution_count": 47,
   "metadata": {},
   "outputs": [
    {
     "name": "stdout",
     "output_type": "stream",
     "text": [
      "Tests passed.\n"
     ]
    }
   ],
   "source": [
    "print(test_sentence_to_ids())"
   ]
  },
  {
   "cell_type": "markdown",
   "metadata": {},
   "source": [
    "We also need to be able to get back from indices to symbols:"
   ]
  },
  {
   "cell_type": "code",
   "execution_count": 45,
   "metadata": {
    "collapsed": true
   },
   "outputs": [],
   "source": [
    "def ids_to_sentence(ids, id2word):\n",
    "    \"\"\" Converts a sequence of ids to a sequence of symbols.\n",
    "    \n",
    "          ids: a list, indices for the padded sequence.\n",
    "          id2word:  a dict, a mapping from ids to original symbols.\n",
    "\n",
    "          result: a list of symbols.\n",
    "    \"\"\"\n",
    " \n",
    "    return [id2word[i] for i in ids] "
   ]
  },
  {
   "cell_type": "markdown",
   "metadata": {},
   "source": [
    "#### Generating batches"
   ]
  },
  {
   "cell_type": "markdown",
   "metadata": {},
   "source": [
    "The final step of data preparation is a function that transforms a batch of sentences to a list of lists of indices. "
   ]
  },
  {
   "cell_type": "code",
   "execution_count": 48,
   "metadata": {
    "collapsed": true
   },
   "outputs": [],
   "source": [
    "def batch_to_ids(sentences, word2id, max_len):\n",
    "    \"\"\"Prepares batches of indices. \n",
    "    \n",
    "       Sequences are padded to match the longest sequence in the batch,\n",
    "       if it's longer than max_len, then max_len is used instead.\n",
    "\n",
    "        sentences: a list of strings, original sequences.\n",
    "        word2id: a dict, a mapping from original symbols to ids.\n",
    "        max_len: an integer, max len of sequences allowed.\n",
    "\n",
    "        result: a list of lists of ids, a list of actual lengths.\n",
    "    \"\"\"\n",
    "    \n",
    "    max_len_in_batch = min(max(len(s) for s in sentences) + 1, max_len)\n",
    "    batch_ids, batch_ids_len = [], []\n",
    "    for sentence in sentences:\n",
    "        ids, ids_len = sentence_to_ids(sentence, word2id, max_len_in_batch)\n",
    "        batch_ids.append(ids)\n",
    "        batch_ids_len.append(ids_len)\n",
    "    return batch_ids, batch_ids_len"
   ]
  },
  {
   "cell_type": "markdown",
   "metadata": {},
   "source": [
    "The function *generate_batches* will help to generate batches with defined size from given samples."
   ]
  },
  {
   "cell_type": "code",
   "execution_count": 49,
   "metadata": {
    "collapsed": true
   },
   "outputs": [],
   "source": [
    "def generate_batches(samples, batch_size=64):\n",
    "    X, Y = [], []\n",
    "    for i, (x, y) in enumerate(samples, 1):\n",
    "        X.append(x)\n",
    "        Y.append(y)\n",
    "        if i % batch_size == 0:\n",
    "            yield X, Y\n",
    "            X, Y = [], []\n",
    "    if X and Y:\n",
    "        yield X, Y"
   ]
  },
  {
   "cell_type": "markdown",
   "metadata": {},
   "source": [
    "To illustrate the result of the implemented functions, run the following cell:"
   ]
  },
  {
   "cell_type": "code",
   "execution_count": 50,
   "metadata": {},
   "outputs": [
    {
     "name": "stdout",
     "output_type": "stream",
     "text": [
      "Input: ('8581-4378', '4203')\n",
      "Ids: [[12, 9, 12, 5, 4, 8, 7, 11, 12, 1], [8, 6, 14, 7, 1, 2, 2, 2, 2, 2]]\n",
      "Sentences lengths: [10, 5]\n"
     ]
    }
   ],
   "source": [
    "sentences = train_set[0]\n",
    "ids, sent_lens = batch_to_ids(sentences, word2id, max_len=10)\n",
    "print('Input:', sentences)\n",
    "print('Ids: {}\\nSentences lengths: {}'.format(ids, sent_lens))"
   ]
  },
  {
   "cell_type": "markdown",
   "metadata": {},
   "source": [
    "## Encoder-Decoder architecture\n",
    "\n",
    "Encoder-Decoder is a successful architecture for Seq2Seq tasks with different lengths of input and output sequences. The main idea is to use two recurrent neural networks, where the first neural network *encodes* the input sequence into a real-valued vector and then the second neural network *decodes* this vector into the output sequence. While building the neural network, we will specify some particular characteristics of this architecture."
   ]
  },
  {
   "cell_type": "code",
   "execution_count": 51,
   "metadata": {},
   "outputs": [
    {
     "name": "stderr",
     "output_type": "stream",
     "text": [
      "/Users/arjasethan/anaconda/lib/python3.6/site-packages/h5py/__init__.py:34: FutureWarning: Conversion of the second argument of issubdtype from `float` to `np.floating` is deprecated. In future, it will be treated as `np.float64 == np.dtype(float).type`.\n",
      "  from ._conv import register_converters as _register_converters\n"
     ]
    }
   ],
   "source": [
    "import tensorflow as tf"
   ]
  },
  {
   "cell_type": "markdown",
   "metadata": {},
   "source": [
    "Let us use TensorFlow building blocks to specify the network architecture."
   ]
  },
  {
   "cell_type": "code",
   "execution_count": 52,
   "metadata": {
    "collapsed": true
   },
   "outputs": [],
   "source": [
    "class Seq2SeqModel(object):\n",
    "    pass"
   ]
  },
  {
   "cell_type": "markdown",
   "metadata": {},
   "source": [
    "First, we need to create [placeholders](https://www.tensorflow.org/api_guides/python/io_ops#Placeholders) to specify what data we are going to feed into the network during the execution time. For this task we will need:\n",
    " - *input_batch* — sequences of sentences (the shape will equal to [batch_size, max_sequence_len_in_batch]);\n",
    " - *input_batch_lengths* — lengths of not padded sequences (the shape equals to [batch_size]);\n",
    " - *ground_truth* — sequences of groundtruth (the shape will equal to [batch_size, max_sequence_len_in_batch]);\n",
    " - *ground_truth_lengths* — lengths of not padded groundtruth sequences (the shape equals to [batch_size]);\n",
    " - *dropout_ph* — dropout keep probability; this placeholder has a predifined value 1;\n",
    " - *learning_rate_ph* — learning rate."
   ]
  },
  {
   "cell_type": "code",
   "execution_count": 76,
   "metadata": {
    "collapsed": true
   },
   "outputs": [],
   "source": [
    "def declare_placeholders(self):\n",
    "    \"\"\"Specifies placeholders for the model.\"\"\"\n",
    "    \n",
    "    # Placeholders for input and its actual lengths.\n",
    "    self.input_batch = tf.placeholder(shape=(None, None), dtype=tf.int32, name='input_batch')\n",
    "    self.input_batch_lengths = tf.placeholder(shape=(None, ), dtype=tf.int32, name='input_batch_lengths')\n",
    "    \n",
    "    # Placeholders for groundtruth and its actual lengths.\n",
    "    self.ground_truth = tf.placeholder(shape=(None, None), dtype=tf.int32, name='ground_truth')######### YOUR CODE HERE #############\n",
    "    self.ground_truth_lengths = tf.placeholder(shape=(None,), dtype=tf.int32, name='ground_truth_lengths')######### YOUR CODE HERE #############\n",
    "        \n",
    "    self.dropout_ph = tf.placeholder_with_default(tf.cast(1.0, tf.float32), shape=[])\n",
    "    self.learning_rate_ph = tf.placeholder_with_default(1e-4, shape=[])######### YOUR CODE HERE ############# "
   ]
  },
  {
   "cell_type": "code",
   "execution_count": 77,
   "metadata": {
    "collapsed": true
   },
   "outputs": [],
   "source": [
    "Seq2SeqModel.__declare_placeholders = classmethod(declare_placeholders)"
   ]
  },
  {
   "cell_type": "markdown",
   "metadata": {},
   "source": [
    "Now, let us specify the layers of the neural network. First, we need to prepare an embedding matrix. Since we use the same vocabulary for input and output, we need only one such matrix. For tasks with different vocabularies there would be multiple embedding layers.\n",
    "- Create embeddings matrix with [tf.Variable](https://www.tensorflow.org/api_docs/python/tf/Variable). Specify its name, type (tf.float32), and initialize with random values.\n",
    "- Perform [embeddings lookup](https://www.tensorflow.org/api_docs/python/tf/nn/embedding_lookup) for a given input batch."
   ]
  },
  {
   "cell_type": "code",
   "execution_count": 78,
   "metadata": {
    "collapsed": true
   },
   "outputs": [],
   "source": [
    "def create_embeddings(self, vocab_size, embeddings_size):\n",
    "    \"\"\"Specifies embeddings layer and embeds an input batch.\"\"\"\n",
    "     \n",
    "    random_initializer = tf.random_uniform((vocab_size, embeddings_size), -1.0, 1.0)\n",
    "    self.embeddings = tf.Variable(random_initializer, name='embedding_layer', dtype=tf.float32) ######### YOUR CODE HERE ############# \n",
    "    \n",
    "    # Perform embeddings lookup for self.input_batch. \n",
    "    self.input_batch_embedded = tf.nn.embedding_lookup(self.embeddings, self.input_batch) ######### YOUR CODE HERE ############# "
   ]
  },
  {
   "cell_type": "code",
   "execution_count": 56,
   "metadata": {
    "collapsed": true
   },
   "outputs": [],
   "source": [
    "Seq2SeqModel.__create_embeddings = classmethod(create_embeddings)"
   ]
  },
  {
   "cell_type": "markdown",
   "metadata": {},
   "source": [
    "#### Encoder\n",
    "\n",
    "The first RNN of the current architecture is called an *encoder* and serves for encoding an input sequence to a real-valued vector. Input of this RNN is an embedded input batch. Since sentences in the same batch could have different actual lengths, we also provide input lengths to avoid unnecessary computations. The final encoder state will be passed to the second RNN (decoder), which we will create soon. \n",
    "\n",
    "- TensorFlow provides a number of [RNN cells](https://www.tensorflow.org/api_guides/python/contrib.rnn#Core_RNN_Cells_for_use_with_TensorFlow_s_core_RNN_methods) ready for use. We suggest that you use [GRU cell](https://www.tensorflow.org/api_docs/python/tf/contrib/rnn/GRUCell), but you can also experiment with other types. \n",
    "- Wrap your cells with [DropoutWrapper](https://www.tensorflow.org/api_docs/python/tf/contrib/rnn/DropoutWrapper). Dropout is an important regularization technique for neural networks. Specify input keep probability using the dropout placeholder that we created before.\n",
    "- Combine the defined encoder cells with [Dynamic RNN](https://www.tensorflow.org/api_docs/python/tf/nn/dynamic_rnn). Use the embedded input batches and their lengths here.\n",
    "- Use *dtype=tf.float32* everywhere."
   ]
  },
  {
   "cell_type": "code",
   "execution_count": 57,
   "metadata": {
    "collapsed": true
   },
   "outputs": [],
   "source": [
    "def build_encoder(self, hidden_size):\n",
    "    \"\"\"Specifies encoder architecture and computes its output.\"\"\"\n",
    "    \n",
    "    # Create GRUCell with dropout.\n",
    "    encoder_cell = tf.nn.rnn_cell.DropoutWrapper(tf.contrib.rnn.GRUCell(num_units=hidden_size),\n",
    "                                                 input_keep_prob=self.dropout_ph,\n",
    "                                                 output_keep_prob=self.dropout_ph,\n",
    "                                                 state_keep_prob=self.dropout_ph) ######### YOUR CODE HERE #############\n",
    "    \n",
    "    # Create RNN with the predefined cell.\n",
    "    _, self.final_encoder_state = tf.nn.dynamic_rnn(encoder_cell, inputs=self.input_batch_embedded, sequence_length=self.input_batch_lengths, dtype=tf.float32) ######### YOUR CODE HERE #############"
   ]
  },
  {
   "cell_type": "code",
   "execution_count": 58,
   "metadata": {
    "collapsed": true
   },
   "outputs": [],
   "source": [
    "Seq2SeqModel.__build_encoder = classmethod(build_encoder)"
   ]
  },
  {
   "cell_type": "markdown",
   "metadata": {},
   "source": [
    "#### Decoder\n",
    "\n",
    "The second RNN is called a *decoder* and serves for generating the output sequence. In the simple seq2seq arcitecture, the input sequence is provided to the decoder only as the final state of the encoder. Obviously, it is a bottleneck and [Attention techniques](https://www.tensorflow.org/tutorials/seq2seq#background_on_the_attention_mechanism) can help to overcome it. So far, we do not need them to make our calculator work, but this would be a necessary ingredient for more advanced tasks. \n",
    "\n",
    "During training, decoder also uses information about the true output. It is feeded in as input symbol by symbol. However, during the prediction stage (which is called *inference* in this architecture), the decoder can only use its own generated output from the previous step to feed it in at the next step. Because of this difference (*training* vs *inference*), we will create two distinct instances, which will serve for the described scenarios.\n",
    "\n",
    "The picture below illustrates the point. It also shows our work with the special characters, e.g. look how the start symbol `^` is used. The transparent parts are ignored. In decoder, it is masked out in the loss computation. In encoder, the green state is considered as final and passed to the decoder. "
   ]
  },
  {
   "cell_type": "markdown",
   "metadata": {},
   "source": [
    "<img src=\"encoder-decoder-pic.png\" style=\"width: 500px;\">"
   ]
  },
  {
   "cell_type": "markdown",
   "metadata": {},
   "source": [
    "Now, it's time to implement the decoder:\n",
    " - First, we should create two [helpers](https://www.tensorflow.org/api_guides/python/contrib.seq2seq#Dynamic_Decoding). These classes help to determine the behaviour of the decoder. During the training time, we will use [TrainingHelper](https://www.tensorflow.org/api_docs/python/tf/contrib/seq2seq/TrainingHelper). For the inference we recommend to use [GreedyEmbeddingHelper](https://www.tensorflow.org/api_docs/python/tf/contrib/seq2seq/GreedyEmbeddingHelper).\n",
    " - To share all parameters during training and inference, we use one scope and set the flag 'reuse' to True at inference time. You might be interested to know more about how [variable scopes](https://www.tensorflow.org/programmers_guide/variables) work in TF. \n",
    " - To create the decoder itself, we will use [BasicDecoder](https://www.tensorflow.org/api_docs/python/tf/contrib/seq2seq/BasicDecoder) class. As previously, you should choose some RNN cell, e.g. GRU cell. To turn hidden states into logits, we will need a projection layer. One of the simple solutions is using [OutputProjectionWrapper](https://www.tensorflow.org/api_docs/python/tf/contrib/rnn/OutputProjectionWrapper).\n",
    " - For getting the predictions, it will be convinient to use [dynamic_decode](https://www.tensorflow.org/api_docs/python/tf/contrib/seq2seq/dynamic_decode). This function uses the provided decoder to perform decoding."
   ]
  },
  {
   "cell_type": "code",
   "execution_count": 82,
   "metadata": {
    "collapsed": true
   },
   "outputs": [],
   "source": [
    "def build_decoder(self, hidden_size, vocab_size, max_iter, start_symbol_id, end_symbol_id):\n",
    "    \"\"\"Specifies decoder architecture and computes the output.\n",
    "    \n",
    "        Uses different helpers:\n",
    "          - for train: feeding ground truth\n",
    "          - for inference: feeding generated output\n",
    "\n",
    "        As a result, self.train_outputs and self.infer_outputs are created. \n",
    "        Each of them contains two fields:\n",
    "          rnn_output (predicted logits)\n",
    "          sample_id (predictions).\n",
    "\n",
    "    \"\"\"\n",
    "    \n",
    "    # Use start symbols as the decoder inputs at the first time step.\n",
    "    batch_size = tf.shape(self.input_batch)[0]\n",
    "    start_tokens = tf.fill([batch_size], start_symbol_id)\n",
    "    ground_truth_as_input = tf.concat([tf.expand_dims(start_tokens, 1), self.ground_truth], 1)\n",
    "    \n",
    "    # Use the embedding layer defined before to lookup embedings for ground_truth_as_input. \n",
    "    self.ground_truth_embedded = tf.nn.embedding_lookup(self.embeddings, ground_truth_as_input) ######### YOUR CODE HERE #############\n",
    "     \n",
    "    # Create TrainingHelper for the train stage.\n",
    "    train_helper = tf.contrib.seq2seq.TrainingHelper(self.ground_truth_embedded, \n",
    "                                                     self.ground_truth_lengths)\n",
    "    \n",
    "    # Create GreedyEmbeddingHelper for the inference stage.\n",
    "    # You should provide the embedding layer, start_tokens and index of the end symbol.\n",
    "    infer_helper = tf.contrib.seq2seq.GreedyEmbeddingHelper(self.embeddings, start_tokens, end_symbol_id) ######### YOUR CODE HERE #############\n",
    "    \n",
    "  \n",
    "    def decode(helper, scope, reuse=None):\n",
    "        \"\"\"Creates decoder and return the results of the decoding with a given helper.\"\"\"\n",
    "        \n",
    "        with tf.variable_scope(scope, reuse=reuse):\n",
    "            # Create GRUCell with dropout. Do not forget to set the reuse flag properly.\n",
    "            decoder_cell = tf.nn.rnn_cell.DropoutWrapper(tf.contrib.rnn.GRUCell(num_units=hidden_size,reuse=reuse),\n",
    "                                                 input_keep_prob=self.dropout_ph,\n",
    "                                                 output_keep_prob=self.dropout_ph,\n",
    "                                                 state_keep_prob=self.dropout_ph)######### YOUR CODE HERE #############\n",
    "            \n",
    "            # Create a projection wrapper.\n",
    "            decoder_cell = tf.contrib.rnn.OutputProjectionWrapper(decoder_cell, vocab_size, reuse=reuse)\n",
    "            \n",
    "            # Create BasicDecoder, pass the defined cell, a helper, and initial state.\n",
    "            # The initial state should be equal to the final state of the encoder!\n",
    "            decoder = tf.contrib.seq2seq.BasicDecoder(cell=decoder_cell, initial_state=self.final_encoder_state, helper=helper) ######### YOUR CODE HERE #############\n",
    "            \n",
    "            # The first returning argument of dynamic_decode contains two fields:\n",
    "            #   rnn_output (predicted logits)\n",
    "            #   sample_id (predictions)\n",
    "            outputs, _, _ = tf.contrib.seq2seq.dynamic_decode(decoder=decoder, maximum_iterations=max_iter, \n",
    "                                                              output_time_major=False, impute_finished=True)\n",
    "\n",
    "            return outputs\n",
    "        \n",
    "    self.train_outputs = decode(train_helper, 'decode')\n",
    "    self.infer_outputs = decode(infer_helper, 'decode', reuse=True)"
   ]
  },
  {
   "cell_type": "code",
   "execution_count": 83,
   "metadata": {
    "collapsed": true
   },
   "outputs": [],
   "source": [
    "Seq2SeqModel.__build_decoder = classmethod(build_decoder)"
   ]
  },
  {
   "cell_type": "markdown",
   "metadata": {},
   "source": [
    "In this task we will use [sequence_loss](https://www.tensorflow.org/api_docs/python/tf/contrib/seq2seq/sequence_loss), which is a weighted cross-entropy loss for a sequence of logits. Take a moment to understand, what is your train logits and targets. Also note, that we do not want to take into account loss terms coming from padding symbols, so we will mask them out using weights.  "
   ]
  },
  {
   "cell_type": "code",
   "execution_count": 87,
   "metadata": {
    "collapsed": true
   },
   "outputs": [],
   "source": [
    "def compute_loss(self):\n",
    "    \"\"\"Computes sequence loss (masked cross-entopy loss with logits).\"\"\"\n",
    "    \n",
    "    weights = tf.cast(tf.sequence_mask(self.ground_truth_lengths), dtype=tf.float32)\n",
    "    \n",
    "    self.loss = tf.contrib.seq2seq.sequence_loss(logits=self.train_outputs.rnn_output,\n",
    "                                                 targets= self.ground_truth,\n",
    "                                                 weights=weights) ######### YOUR CODE HERE #############"
   ]
  },
  {
   "cell_type": "code",
   "execution_count": 88,
   "metadata": {
    "collapsed": true
   },
   "outputs": [],
   "source": [
    "Seq2SeqModel.__compute_loss = classmethod(compute_loss)"
   ]
  },
  {
   "cell_type": "markdown",
   "metadata": {},
   "source": [
    "The last thing to specify is the optimization of the defined loss. \n",
    "We suggest that you use [optimize_loss](https://www.tensorflow.org/api_docs/python/tf/contrib/layers/optimize_loss) with Adam optimizer and a learning rate from the corresponding placeholder. You might also need to pass global step (e.g. as tf.train.get_global_step()) and clip gradients by 1.0."
   ]
  },
  {
   "cell_type": "code",
   "execution_count": 92,
   "metadata": {
    "collapsed": true
   },
   "outputs": [],
   "source": [
    "def perform_optimization(self):\n",
    "    \"\"\"Specifies train_op that optimizes self.loss.\"\"\"\n",
    "    \n",
    "    self.train_op = tf.contrib.layers.optimize_loss(self.loss, \n",
    "                                                    global_step= tf.train.get_global_step(), \n",
    "                                                    learning_rate= self.learning_rate_ph, \n",
    "                                                    clip_gradients= 1.0, \n",
    "                                                    optimizer='Adam') ######### YOUR CODE HERE #############"
   ]
  },
  {
   "cell_type": "code",
   "execution_count": 93,
   "metadata": {
    "collapsed": true
   },
   "outputs": [],
   "source": [
    "Seq2SeqModel.__perform_optimization = classmethod(perform_optimization)"
   ]
  },
  {
   "cell_type": "markdown",
   "metadata": {},
   "source": [
    "Congratulations! You have specified all the parts of your network. You may have noticed, that we didn't deal with any real data yet, so what you have written is just recipies on how the network should function.\n",
    "Now we will put them to the constructor of our Seq2SeqModel class to use it in the next section. "
   ]
  },
  {
   "cell_type": "code",
   "execution_count": 94,
   "metadata": {
    "collapsed": true
   },
   "outputs": [],
   "source": [
    "def init_model(self, vocab_size, embeddings_size, hidden_size, \n",
    "               max_iter, start_symbol_id, end_symbol_id, padding_symbol_id):\n",
    "    \n",
    "    self.__declare_placeholders()\n",
    "    self.__create_embeddings(vocab_size, embeddings_size)\n",
    "    self.__build_encoder(hidden_size)\n",
    "    self.__build_decoder(hidden_size, vocab_size, max_iter, start_symbol_id, end_symbol_id)\n",
    "    \n",
    "    # Compute loss and back-propagate.\n",
    "    self.__compute_loss()\n",
    "    self.__perform_optimization()\n",
    "    \n",
    "    # Get predictions for evaluation.\n",
    "    self.train_predictions = self.train_outputs.sample_id\n",
    "    self.infer_predictions = self.infer_outputs.sample_id"
   ]
  },
  {
   "cell_type": "code",
   "execution_count": 95,
   "metadata": {
    "collapsed": true
   },
   "outputs": [],
   "source": [
    "Seq2SeqModel.__init__ = classmethod(init_model)"
   ]
  },
  {
   "cell_type": "markdown",
   "metadata": {},
   "source": [
    "## Train the network and predict output\n",
    "\n",
    "[Session.run](https://www.tensorflow.org/api_docs/python/tf/Session#run) is a point which initiates computations in the graph that we have defined. To train the network, we need to compute *self.train_op*. To predict output, we just need to compute *self.infer_predictions*. In any case, we need to feed actual data through the placeholders that we defined above. "
   ]
  },
  {
   "cell_type": "code",
   "execution_count": 68,
   "metadata": {
    "collapsed": true
   },
   "outputs": [],
   "source": [
    "def train_on_batch(self, session, X, X_seq_len, Y, Y_seq_len, learning_rate, dropout_keep_probability):\n",
    "    feed_dict = {\n",
    "            self.input_batch: X,\n",
    "            self.input_batch_lengths: X_seq_len,\n",
    "            self.ground_truth: Y,\n",
    "            self.ground_truth_lengths: Y_seq_len,\n",
    "            self.learning_rate_ph: learning_rate,\n",
    "            self.dropout_ph: dropout_keep_probability\n",
    "        }\n",
    "    pred, loss, _ = session.run([\n",
    "            self.train_predictions,\n",
    "            self.loss,\n",
    "            self.train_op], feed_dict=feed_dict)\n",
    "    return pred, loss"
   ]
  },
  {
   "cell_type": "code",
   "execution_count": 69,
   "metadata": {
    "collapsed": true
   },
   "outputs": [],
   "source": [
    "Seq2SeqModel.train_on_batch = classmethod(train_on_batch)"
   ]
  },
  {
   "cell_type": "markdown",
   "metadata": {},
   "source": [
    "We implemented two prediction functions: *predict_for_batch* and *predict_for_batch_with_loss*. The first one allows only to predict output for some input sequence, while the second one could compute loss because we provide also ground truth values. Both these functions might be useful since the first one could be used for predicting only, and the second one is helpful for validating results on not-training data during the training."
   ]
  },
  {
   "cell_type": "code",
   "execution_count": 70,
   "metadata": {
    "collapsed": true
   },
   "outputs": [],
   "source": [
    "def predict_for_batch(self, session, X, X_seq_len):\n",
    "    feed_dict =  {\n",
    "            self.input_batch: X,\n",
    "            self.input_batch_lengths: X_seq_len\n",
    "    }######### YOUR CODE HERE #############\n",
    "    pred = session.run([\n",
    "            self.infer_predictions\n",
    "        ], feed_dict=feed_dict)[0]\n",
    "    return pred\n",
    "\n",
    "def predict_for_batch_with_loss(self, session, X, X_seq_len, Y, Y_seq_len):\n",
    "    feed_dict = {\n",
    "            self.input_batch: X,\n",
    "            self.input_batch_lengths: X_seq_len,\n",
    "            self.ground_truth: Y,\n",
    "            self.ground_truth_lengths: Y_seq_len\n",
    "    }######### YOUR CODE HERE #############\n",
    "    pred, loss = session.run([\n",
    "            self.infer_predictions,\n",
    "            self.loss,\n",
    "        ], feed_dict=feed_dict)\n",
    "    return pred, loss"
   ]
  },
  {
   "cell_type": "code",
   "execution_count": 71,
   "metadata": {
    "collapsed": true
   },
   "outputs": [],
   "source": [
    "Seq2SeqModel.predict_for_batch = classmethod(predict_for_batch)\n",
    "Seq2SeqModel.predict_for_batch_with_loss = classmethod(predict_for_batch_with_loss)"
   ]
  },
  {
   "cell_type": "markdown",
   "metadata": {},
   "source": [
    "## Run your experiment\n",
    "\n",
    "Create *Seq2SeqModel* model with the following parameters:\n",
    " - *vocab_size* — number of tokens;\n",
    " - *embeddings_size* — dimension of embeddings, recommended value: 20;\n",
    " - *max_iter* — maximum number of steps in decoder, recommended value: 7;\n",
    " - *hidden_size* — size of hidden layers for RNN, recommended value: 512;\n",
    " - *start_symbol_id* — an index of the start token (`^`).\n",
    " - *end_symbol_id* — an index of the end token (`$`).\n",
    " - *padding_symbol_id* — an index of the padding token (`#`).\n",
    "\n",
    "Set hyperparameters. You might want to start with the following values and see how it works:\n",
    "- *batch_size*: 128;\n",
    "- at least 10 epochs;\n",
    "- value of *learning_rate*: 0.001\n",
    "- *dropout_keep_probability* equals to 0.5 for training (typical values for dropout probability are ranging from 0.1 to 1.0); larger values correspond smaler number of dropout units;\n",
    "- *max_len*: 20."
   ]
  },
  {
   "cell_type": "code",
   "execution_count": 96,
   "metadata": {
    "collapsed": true
   },
   "outputs": [],
   "source": [
    "tf.reset_default_graph()\n",
    "\n",
    "model = Seq2SeqModel(vocab_size=len(word2id), \n",
    "                     embeddings_size=20, \n",
    "                     max_iter=7, \n",
    "                     hidden_size=512, \n",
    "                     start_symbol_id=word2id['^'],\n",
    "                     end_symbol_id = word2id['$'],\n",
    "                     padding_symbol_id= word2id['#']) ######### YOUR CODE HERE #############\n",
    "\n",
    "batch_size = 128 ######### YOUR CODE HERE #############\n",
    "n_epochs = 20 ######### YOUR CODE HERE #############\n",
    "learning_rate = 0.001 ######### YOUR CODE HERE #############\n",
    "dropout_keep_probability = 0.5 ######### YOUR CODE HERE #############\n",
    "max_len = 20 ######### YOUR CODE HERE #############\n",
    "\n",
    "n_step = int(len(train_set) / batch_size)"
   ]
  },
  {
   "cell_type": "code",
   "execution_count": 99,
   "metadata": {},
   "outputs": [
    {
     "name": "stdout",
     "output_type": "stream",
     "text": [
      "209^$^\n",
      "12009^\n",
      "7+171^\n",
      "50$74-\n",
      "2822##\n",
      "702##^\n",
      "12291^\n",
      "-5114^\n",
      "$66#6^\n",
      "49#^4^\n",
      "-2111^\n",
      "141^#5\n",
      "2887#^\n",
      "66002^\n",
      "6#8#05\n",
      "4-^44^\n",
      "462151\n",
      "1-41^^\n",
      "33211^\n",
      "6#7^2#\n",
      "$97751\n",
      "2+7^1$\n",
      "29666^\n",
      "75+7+^\n",
      "+#^4^^\n",
      "677$$1\n",
      "46#0+^\n",
      "6#49^^\n",
      "42##6^\n",
      "8878+^\n",
      "#19702\n",
      "0-8594\n",
      "5-444^\n",
      "1$266^\n",
      "39178^\n",
      "6#1-2^\n",
      "806168\n",
      "74770^\n",
      "532#23\n",
      "135$#^\n",
      "-4611^\n",
      "#+953^\n",
      "+3888^\n",
      "#5^411\n",
      "58#48^\n",
      "996$-^\n",
      "4960#5\n",
      "6^57$8\n",
      "40551+\n",
      "092668\n",
      "84896#\n",
      "9997^^\n",
      "97#99^\n",
      "2469$^\n",
      "123$3^\n",
      "+7796^\n",
      "3$$30$\n",
      "#1--2^\n",
      "-2-60^\n",
      "94#44^\n",
      "^94902\n",
      "30#^54\n",
      "$4496^\n",
      "^+0^^^\n",
      "991119\n",
      "2$30$0\n",
      "-460^^\n",
      "9828+^\n",
      "9990+^\n",
      "+$71#^\n",
      "7930^^\n",
      "199944\n",
      "888064\n",
      "+1-78^\n",
      "99#393\n",
      "6-64^^\n",
      "-4-1^^\n",
      "22116^\n",
      "000$1^\n",
      "25$2^^\n",
      "198969\n",
      "95+6^^\n",
      "678996\n",
      "2#1#^4\n",
      "7#+90-\n",
      "9$977^\n",
      "9296^^\n",
      "44651^\n",
      "7-696^\n",
      "2444^^\n",
      "57531^\n",
      "9$4+64\n",
      "3505-1\n",
      "38$$6^\n",
      "44#743\n",
      "+35717\n",
      "98^522\n",
      "99159^\n",
      "^22+11\n",
      "373^58\n",
      "97##54\n",
      "4454+1\n",
      "44493^\n",
      "2^6^3#\n",
      "6165^^\n",
      "661374\n",
      "$$1^11\n",
      "49819^\n",
      "644444\n",
      "^##13^\n",
      "178659\n",
      "9$9604\n",
      "^^647^\n",
      "40451^\n",
      "605$4^\n",
      "7$--5^\n",
      "114791\n",
      "+$84^2\n",
      "$0001^\n",
      "^654$3\n",
      "8##90^\n",
      "99666^\n",
      "22#11^\n",
      "6---6^\n",
      "817822\n",
      "664444\n",
      "666-2^\n",
      "15242^\n"
     ]
    }
   ],
   "source": [
    "session = tf.Session()\n",
    "session.run(tf.global_variables_initializer())\n",
    "X_sent, Y_sent = next(generate_batches(test_set, batch_size=batch_size))\n",
    "######################################\n",
    "######### YOUR CODE HERE #############\n",
    "######################################\n",
    "# prepare test data (X_sent and Y_sent) for predicting \n",
    "# quality and computing value of the loss function\n",
    "# using function batch_to_ids\n",
    "X_test_batch, X_seq_test_len = batch_to_ids(X_sent, word2id, max_len=max_len)\n",
    "Y_test_batch, Y_seq_test_len = batch_to_ids(Y_sent, word2id, max_len=max_len)\n",
    "predictions, loss = model.train_on_batch(session, X_test_batch, X_seq_test_len, Y_test_batch, Y_seq_test_len,learning_rate, dropout_keep_probability ) ######### YOUR CODE HERE #############\n",
    "for p in predictions:\n",
    "    print(''.join(ids_to_sentence(p, id2word)))"
   ]
  },
  {
   "cell_type": "markdown",
   "metadata": {},
   "source": [
    "Finally, we are ready to run the training! A good indicator that everything works fine is decreasing loss during the training. You should account on the loss value equal to approximately 2.7 at the beginning of the training and near 1 after the 10th epoch."
   ]
  },
  {
   "cell_type": "code",
   "execution_count": 111,
   "metadata": {
    "scrolled": true
   },
   "outputs": [
    {
     "name": "stdout",
     "output_type": "stream",
     "text": [
      "Start training... \n",
      "\n",
      "Train: epoch 1\n",
      "Epoch: [1/20], step: [1/625], loss: 2.887500\n",
      "Epoch: [1/20], step: [201/625], loss: 2.028436\n",
      "Epoch: [1/20], step: [401/625], loss: 1.900039\n",
      "Epoch: [1/20], step: [601/625], loss: 1.871850\n",
      "Test: epoch 1 loss: 1.7777587\n",
      "X: 9107-25$##\n",
      "Y: 9082$#\n",
      "O: -1080$\n",
      "\n",
      "X: 2504+2499$\n",
      "Y: 5003$#\n",
      "O: 10100$\n",
      "\n",
      "X: 3620+7097$\n",
      "Y: 10717$\n",
      "O: 10100$\n",
      "\n",
      "0\n",
      "Train: epoch 2\n",
      "Epoch: [2/20], step: [1/625], loss: 1.836367\n",
      "Epoch: [2/20], step: [201/625], loss: 1.850332\n",
      "Epoch: [2/20], step: [401/625], loss: 1.785453\n",
      "Epoch: [2/20], step: [601/625], loss: 1.779362\n",
      "Test: epoch 2 loss: 1.6889137\n",
      "X: 4806+4139$\n",
      "Y: 8945$#\n",
      "O: 10005$\n",
      "\n",
      "X: 1564-1106$\n",
      "Y: 458$##\n",
      "O: -1135$\n",
      "\n",
      "X: 6747+1827$\n",
      "Y: 8574$#\n",
      "O: 10095$\n",
      "\n",
      "0\n",
      "Train: epoch 3\n",
      "Epoch: [3/20], step: [1/625], loss: 1.750062\n",
      "Epoch: [3/20], step: [201/625], loss: 1.697893\n",
      "Epoch: [3/20], step: [401/625], loss: 1.682619\n",
      "Epoch: [3/20], step: [601/625], loss: 1.666147\n",
      "Test: epoch 3 loss: 1.59422\n",
      "X: 9511-3004$\n",
      "Y: 6507$#\n",
      "O: 5156$^\n",
      "\n",
      "X: 7748-811$#\n",
      "Y: 6937$#\n",
      "O: 3996$^\n",
      "\n",
      "X: 9319-6688$\n",
      "Y: 2631$#\n",
      "O: 3996$^\n",
      "\n",
      "0\n",
      "Train: epoch 4\n",
      "Epoch: [4/20], step: [1/625], loss: 1.694922\n",
      "Epoch: [4/20], step: [201/625], loss: 1.657941\n",
      "Epoch: [4/20], step: [401/625], loss: 1.641191\n",
      "Epoch: [4/20], step: [601/625], loss: 1.633042\n",
      "Test: epoch 4 loss: 1.5181335\n",
      "X: 105-3058$#\n",
      "Y: -2953$\n",
      "O: -2099$\n",
      "\n",
      "X: 9765-1576$\n",
      "Y: 8189$#\n",
      "O: 7099$^\n",
      "\n",
      "X: 2763+6883$\n",
      "Y: 9646$#\n",
      "O: 10090$\n",
      "\n",
      "0\n",
      "Train: epoch 5\n",
      "Epoch: [5/20], step: [1/625], loss: 1.631838\n",
      "Epoch: [5/20], step: [201/625], loss: 1.637733\n",
      "Epoch: [5/20], step: [401/625], loss: 1.623734\n",
      "Epoch: [5/20], step: [601/625], loss: 1.632654\n",
      "Test: epoch 5 loss: 1.5083827\n",
      "X: 2480+5952$\n",
      "Y: 8432$#\n",
      "O: 9919$^\n",
      "\n",
      "X: 2517+4274$\n",
      "Y: 6791$#\n",
      "O: 7919$^\n",
      "\n",
      "X: 6947+5455$\n",
      "Y: 12402$\n",
      "O: 13949$\n",
      "\n",
      "0\n",
      "Train: epoch 6\n",
      "Epoch: [6/20], step: [1/625], loss: 1.632456\n",
      "Epoch: [6/20], step: [201/625], loss: 1.594581\n",
      "Epoch: [6/20], step: [401/625], loss: 1.589955\n",
      "Epoch: [6/20], step: [601/625], loss: 1.575540\n",
      "Test: epoch 6 loss: 1.4824619\n",
      "X: 9017+9579$\n",
      "Y: 18596$\n",
      "O: 16543$\n",
      "\n",
      "X: 2986-6673$\n",
      "Y: -3687$\n",
      "O: -3543$\n",
      "\n",
      "X: 3830+5825$\n",
      "Y: 9655$#\n",
      "O: 9643$^\n",
      "\n",
      "0\n",
      "Train: epoch 7\n",
      "Epoch: [7/20], step: [1/625], loss: 1.594139\n",
      "Epoch: [7/20], step: [201/625], loss: 1.559122\n",
      "Epoch: [7/20], step: [401/625], loss: 1.597970\n",
      "Epoch: [7/20], step: [601/625], loss: 1.560953\n",
      "Test: epoch 7 loss: 1.4718287\n",
      "X: 1719+9917$\n",
      "Y: 11636$\n",
      "O: 12033$\n",
      "\n",
      "X: 2393-9796$\n",
      "Y: -7403$\n",
      "O: -7735$\n",
      "\n",
      "X: 1342-3557$\n",
      "Y: -2215$\n",
      "O: -1745$\n",
      "\n",
      "0\n",
      "Train: epoch 8\n",
      "Epoch: [8/20], step: [1/625], loss: 1.601591\n",
      "Epoch: [8/20], step: [201/625], loss: 1.591783\n",
      "Epoch: [8/20], step: [401/625], loss: 1.567621\n",
      "Epoch: [8/20], step: [601/625], loss: 1.567458\n",
      "Test: epoch 8 loss: 1.462481\n",
      "X: 957-2634$#\n",
      "Y: -1677$\n",
      "O: -2111$\n",
      "\n",
      "X: 6056-1893$\n",
      "Y: 4163$#\n",
      "O: 3388$^\n",
      "\n",
      "X: 894-5399$#\n",
      "Y: -4505$\n",
      "O: -4388$\n",
      "\n",
      "0\n",
      "Train: epoch 9\n",
      "Epoch: [9/20], step: [1/625], loss: 1.539224\n",
      "Epoch: [9/20], step: [201/625], loss: 1.574163\n",
      "Epoch: [9/20], step: [401/625], loss: 1.598680\n",
      "Epoch: [9/20], step: [601/625], loss: 1.519674\n",
      "Test: epoch 9 loss: 1.4491895\n",
      "X: 9729-9717$\n",
      "Y: 12$###\n",
      "O: -102$^\n",
      "\n",
      "X: 7238+3631$\n",
      "Y: 10869$\n",
      "O: 10140$\n",
      "\n",
      "X: 2054+7315$\n",
      "Y: 9369$#\n",
      "O: 10140$\n",
      "\n",
      "0\n",
      "Train: epoch 10\n",
      "Epoch: [10/20], step: [1/625], loss: 1.566901\n",
      "Epoch: [10/20], step: [201/625], loss: 1.543354\n",
      "Epoch: [10/20], step: [401/625], loss: 1.506284\n",
      "Epoch: [10/20], step: [601/625], loss: 1.523993\n",
      "Test: epoch 10 loss: 1.4325645\n",
      "X: 6787-8957$\n",
      "Y: -2170$\n",
      "O: -2077$\n",
      "\n",
      "X: 4977+2175$\n",
      "Y: 7152$#\n",
      "O: 7875$^\n",
      "\n",
      "X: 7667-9012$\n",
      "Y: -1345$\n",
      "O: -1194$\n",
      "\n",
      "0\n",
      "Train: epoch 11\n",
      "Epoch: [11/20], step: [1/625], loss: 1.508701\n",
      "Epoch: [11/20], step: [201/625], loss: 1.513926\n",
      "Epoch: [11/20], step: [401/625], loss: 1.538271\n",
      "Epoch: [11/20], step: [601/625], loss: 1.526877\n",
      "Test: epoch 11 loss: 1.4388915\n",
      "X: 2696-8049$\n",
      "Y: -5353$\n",
      "O: -6054$\n",
      "\n",
      "X: 1309+4549$\n",
      "Y: 5858$#\n",
      "O: 6054$^\n",
      "\n",
      "X: 5062+2248$\n",
      "Y: 7310$#\n",
      "O: 7654$^\n",
      "\n",
      "0\n",
      "Train: epoch 12\n",
      "Epoch: [12/20], step: [1/625], loss: 1.524732\n",
      "Epoch: [12/20], step: [201/625], loss: 1.553662\n",
      "Epoch: [12/20], step: [401/625], loss: 1.525613\n",
      "Epoch: [12/20], step: [601/625], loss: 1.527852\n",
      "Test: epoch 12 loss: 1.448782\n",
      "X: 7173-1426$\n",
      "Y: 5747$#\n",
      "O: 5522$^\n",
      "\n",
      "X: 3296+128$#\n",
      "Y: 3424$#\n",
      "O: 2022$^\n",
      "\n",
      "X: 9990+253$#\n",
      "Y: 10243$\n",
      "O: 9527$^\n",
      "\n",
      "0\n",
      "Train: epoch 13\n",
      "Epoch: [13/20], step: [1/625], loss: 1.654783\n",
      "Epoch: [13/20], step: [201/625], loss: 1.582414\n",
      "Epoch: [13/20], step: [401/625], loss: 1.515686\n",
      "Epoch: [13/20], step: [601/625], loss: 1.566355\n",
      "Test: epoch 13 loss: 1.446065\n",
      "X: 7773+2178$\n",
      "Y: 9951$#\n",
      "O: 10143$\n",
      "\n",
      "X: 3449-1832$\n",
      "Y: 1617$#\n",
      "O: 1746$^\n",
      "\n",
      "X: 3915+1341$\n",
      "Y: 5256$#\n",
      "O: 5333$^\n",
      "\n",
      "0\n",
      "Train: epoch 14\n",
      "Epoch: [14/20], step: [1/625], loss: 1.505921\n",
      "Epoch: [14/20], step: [201/625], loss: 1.546854\n",
      "Epoch: [14/20], step: [401/625], loss: 1.495162\n",
      "Epoch: [14/20], step: [601/625], loss: 1.568256\n",
      "Test: epoch 14 loss: 1.4277636\n",
      "X: 3437-4945$\n",
      "Y: -1508$\n",
      "O: -1542$\n",
      "\n",
      "X: 4722-7986$\n",
      "Y: -3264$\n",
      "O: -2802$\n",
      "\n",
      "X: 4681+545$#\n",
      "Y: 5226$#\n",
      "O: 5122$^\n",
      "\n",
      "0\n",
      "Train: epoch 15\n",
      "Epoch: [15/20], step: [1/625], loss: 1.512846\n",
      "Epoch: [15/20], step: [201/625], loss: 1.555753\n",
      "Epoch: [15/20], step: [401/625], loss: 1.541341\n",
      "Epoch: [15/20], step: [601/625], loss: 1.546025\n",
      "Test: epoch 15 loss: 1.4053663\n",
      "X: 6480-3807$\n",
      "Y: 2673$#\n",
      "O: 2749$^\n",
      "\n",
      "X: 383-3145$#\n",
      "Y: -2762$\n",
      "O: -2779$\n",
      "\n",
      "X: 3248-4154$\n",
      "Y: -906$#\n",
      "O: -1033$\n",
      "\n",
      "0\n",
      "Train: epoch 16\n",
      "Epoch: [16/20], step: [1/625], loss: 1.530454\n",
      "Epoch: [16/20], step: [201/625], loss: 1.517776\n",
      "Epoch: [16/20], step: [401/625], loss: 1.543457\n",
      "Epoch: [16/20], step: [601/625], loss: 1.504016\n",
      "Test: epoch 16 loss: 1.4399145\n",
      "X: 6938+1442$\n",
      "Y: 8380$#\n",
      "O: 8533$^\n",
      "\n",
      "X: 2013+6084$\n",
      "Y: 8097$#\n",
      "O: 8533$^\n",
      "\n",
      "X: 1186+7600$\n",
      "Y: 8786$#\n",
      "O: 9523$^\n",
      "\n",
      "0\n",
      "Train: epoch 17\n",
      "Epoch: [17/20], step: [1/625], loss: 1.525547\n",
      "Epoch: [17/20], step: [201/625], loss: 1.502152\n",
      "Epoch: [17/20], step: [401/625], loss: 1.533792\n",
      "Epoch: [17/20], step: [601/625], loss: 1.490399\n",
      "Test: epoch 17 loss: 1.44518\n",
      "X: 2166+5782$\n",
      "Y: 7948$#\n",
      "O: 8619$^\n",
      "\n",
      "X: 8719-4065$\n",
      "Y: 4654$#\n",
      "O: 4019$^\n",
      "\n",
      "X: 568-7761$#\n",
      "Y: -7193$\n",
      "O: -8619$\n",
      "\n",
      "0\n",
      "Train: epoch 18\n",
      "Epoch: [18/20], step: [1/625], loss: 1.533280\n",
      "Epoch: [18/20], step: [201/625], loss: 1.527642\n",
      "Epoch: [18/20], step: [401/625], loss: 1.542146\n",
      "Epoch: [18/20], step: [601/625], loss: 1.492350\n",
      "Test: epoch 18 loss: 1.4296776\n",
      "X: 5867-7670$\n",
      "Y: -1803$\n",
      "O: -2070$\n",
      "\n",
      "X: 7469-7682$\n",
      "Y: -213$#\n",
      "O: -1090$\n",
      "\n",
      "X: 755+3522$#\n",
      "Y: 4277$#\n",
      "O: 4070$^\n",
      "\n",
      "0\n",
      "Train: epoch 19\n",
      "Epoch: [19/20], step: [1/625], loss: 1.501099\n",
      "Epoch: [19/20], step: [201/625], loss: 1.509988\n",
      "Epoch: [19/20], step: [401/625], loss: 1.522581\n",
      "Epoch: [19/20], step: [601/625], loss: 1.550123\n",
      "Test: epoch 19 loss: 1.4126444\n",
      "X: 9594-8062$\n",
      "Y: 1532$#\n",
      "O: 1120$^\n",
      "\n",
      "X: 9302-5834$\n",
      "Y: 3468$#\n",
      "O: 3120$^\n",
      "\n",
      "X: 9971-477$#\n",
      "Y: 9494$#\n",
      "O: 8710$^\n",
      "\n",
      "0\n",
      "Train: epoch 20\n",
      "Epoch: [20/20], step: [1/625], loss: 1.499075\n",
      "Epoch: [20/20], step: [201/625], loss: 1.535099\n",
      "Epoch: [20/20], step: [401/625], loss: 1.470842\n",
      "Epoch: [20/20], step: [601/625], loss: 1.528298\n",
      "Test: epoch 20 loss: 1.4100363\n",
      "X: 9026+9510$\n",
      "Y: 18536$\n",
      "O: 18522$\n",
      "\n",
      "X: 3360-709$#\n",
      "Y: 2651$#\n",
      "O: 3022$^\n",
      "\n",
      "X: 9876-1360$\n",
      "Y: 8516$#\n",
      "O: 7522$^\n",
      "\n",
      "0\n",
      "\n",
      "...training finished.\n"
     ]
    }
   ],
   "source": [
    "# session = tf.Session()\n",
    "# session.run(tf.global_variables_initializer())\n",
    "            \n",
    "# invalid_number_prediction_counts = []\n",
    "# all_model_predictions = []\n",
    "# all_ground_truth = []\n",
    "\n",
    "# print('Start training... \\n')\n",
    "# for epoch in range(n_epochs):  \n",
    "#     random.shuffle(train_set)\n",
    "#     random.shuffle(test_set)\n",
    "    \n",
    "#     print('Train: epoch', epoch + 1)\n",
    "#     for n_iter, (X_batch, Y_batch) in enumerate(generate_batches(train_set, batch_size=batch_size)):\n",
    "#         ######################################\n",
    "#         ######### YOUR CODE HERE #############\n",
    "#         ######################################\n",
    "#         # prepare the data (X_batch and Y_batch) for training\n",
    "#         # using function batch_to_ids\n",
    "#         X_input_batch, X_seq_len = batch_to_ids(X_batch, word2id, max_len=max_len)\n",
    "#         Y_input_batch, Y_seq_len = batch_to_ids(Y_batch, word2id, max_len=max_len)\n",
    "#         predictions, loss = model.train_on_batch(session=session, X= X_input_batch, X_seq_len=X_seq_len, Y=Y_input_batch, Y_seq_len=Y_seq_len, learning_rate=learning_rate, dropout_keep_probability=dropout_keep_probability) ######### YOUR CODE HERE #############\n",
    "        \n",
    "#         if n_iter % 200 == 0:\n",
    "#             print(\"Epoch: [%d/%d], step: [%d/%d], loss: %f\" % (epoch + 1, n_epochs, n_iter + 1, n_step, loss))\n",
    "                \n",
    "#     X_sent, Y_sent = next(generate_batches(test_set, batch_size=batch_size))\n",
    "#     ######################################\n",
    "#     ######### YOUR CODE HERE #############\n",
    "#     ######################################\n",
    "#     # prepare test data (X_sent and Y_sent) for predicting \n",
    "#     # quality and computing value of the loss function\n",
    "#     # using function batch_to_ids\n",
    "#     X, X_seq_len = batch_to_ids(X_sent, word2id, max_len=max_len)\n",
    "#     Y, Y_seq_len = batch_to_ids(Y_sent, word2id, max_len=max_len)\n",
    "#     predictions, loss = model.train_on_batch(session, X_test_batch, X_seq_test_len, Y_test_batch, Y_seq_test_len,learning_rate, dropout_keep_probability ) ######### YOUR CODE HERE #############\n",
    "#     print('Test: epoch', epoch + 1, 'loss:', loss,)\n",
    "#     for x, y, p  in list(zip(X, Y, predictions))[:3]:\n",
    "#         print('X:',''.join(ids_to_sentence(x, id2word)))\n",
    "#         print('Y:',''.join(ids_to_sentence(y, id2word)))\n",
    "#         print('O:',''.join(ids_to_sentence(p, id2word)))\n",
    "#         print('')\n",
    "\n",
    "#     model_predictions = []\n",
    "#     ground_truth = []\n",
    "#     invalid_number_prediction_count = 0\n",
    "#     # For the whole test set calculate ground-truth values (as integer numbers)\n",
    "#     # and prediction values (also as integers) to calculate metrics.\n",
    "#     # If generated by model number is not correct (e.g. '1-1'), \n",
    "#     # increase invalid_number_prediction_count and don't append this and corresponding\n",
    "#     # ground-truth value to the arrays.\n",
    "#     for X_batch, Y_batch in generate_batches(test_set, batch_size=batch_size):\n",
    "#         ######################################\n",
    "#         ######### YOUR CODE HERE #############\n",
    "#         ######################################\n",
    "# #         X_batch_ids, X_seq_len = batch_to_ids(X_batch, word2id, max_len)\n",
    "# #         Y_batch_ids, Y_seq_len = batch_to_ids(Y_batch, word2id, max_len)\n",
    "# #         predictions, loss = model.train_on_batch(session, X_batch_ids, X_seq_len, Y_batch_ids, Y_seq_len, learning_rate, dropout_keep_probability)\n",
    "# #         for p in predictions:\n",
    "# #             x = ''.join(ids_to_sentence(p,id2word))\n",
    "# #             if not x.startswith('-') and not x.startswith('+') and (x.contains('+') or x.contains('-')):\n",
    "# #                 invalid_number_prediction_counts += 1\n",
    "# #             else:\n",
    "# #                 ground_truth.append()\n",
    "#         X_ids, X_sent_lens = batch_to_ids(X_batch, word2id, max_len=max_len)\n",
    "#         Y_ids, Y_sent_lens = batch_to_ids(Y_batch, word2id, max_len=max_len)\n",
    "#         predictions = model.predict_for_batch(session, X_ids, X_sent_lens)\n",
    "#         for y, p in zip(Y_ids, predictions):\n",
    "#             y_sent = ''.join(ids_to_sentence(y, id2word))\n",
    "#             y_sent = y_sent[:y_sent.find('$')]\n",
    "#             p_sent = ''.join(ids_to_sentence(p, id2word))\n",
    "#             p_sent = p_sent[:p_sent.find('$')]\n",
    "#             if p_sent.isdigit() or (p_sent.startswith('-') and p_sent[1:].isdigit()):\n",
    "#                 model_predictions.append(int(p_sent))\n",
    "#                 ground_truth.append(int(y_sent))\n",
    "#             else:\n",
    "#                 invalid_number_prediction_count += 1\n",
    "    \n",
    "#     all_model_predictions.append(model_predictions)\n",
    "#     all_ground_truth.append(ground_truth)\n",
    "#     invalid_number_prediction_counts.append(invalid_number_prediction_count)\n",
    "            \n",
    "# print('\\n...training finished.')\n",
    "\n",
    "session = tf.Session()\n",
    "session.run(tf.global_variables_initializer())\n",
    "            \n",
    "invalid_number_prediction_counts = []\n",
    "all_model_predictions = []\n",
    "all_ground_truth = []\n",
    "\n",
    "print('Start training... \\n')\n",
    "for epoch in range(n_epochs):  \n",
    "    random.shuffle(train_set)\n",
    "    random.shuffle(test_set)\n",
    "    \n",
    "    print('Train: epoch', epoch + 1)\n",
    "    for n_iter, (X_batch, Y_batch) in enumerate(generate_batches(train_set, batch_size=batch_size)):\n",
    "        ######################################\n",
    "        ######### YOUR CODE HERE #############\n",
    "        ######################################\n",
    "        # prepare the data (X_batch and Y_batch) for training\n",
    "        X_ids, X_sent_lens = batch_to_ids(X_batch, word2id, max_len=max_len)\n",
    "        Y_ids, Y_sent_lens = batch_to_ids(Y_batch, word2id, max_len=max_len)\n",
    "        # using function batch_to_ids\n",
    "        predictions, loss = model.train_on_batch(\n",
    "            session,\n",
    "            X_ids,\n",
    "            X_sent_lens,\n",
    "            Y_ids,\n",
    "            Y_sent_lens,\n",
    "            learning_rate,\n",
    "            dropout_keep_probability\n",
    "        )\n",
    "        \n",
    "        if n_iter % 200 == 0:\n",
    "            print(\"Epoch: [%d/%d], step: [%d/%d], loss: %f\" % (epoch + 1, n_epochs, n_iter + 1, n_step, loss))\n",
    "                \n",
    "    X_sent, Y_sent = next(generate_batches(test_set, batch_size=batch_size))\n",
    "    ######################################\n",
    "    ######### YOUR CODE HERE #############\n",
    "    ######################################\n",
    "    # prepare test data (X_sent and Y_sent) for predicting \n",
    "    X, X_sent_lens = batch_to_ids(X_sent, word2id, max_len=max_len)\n",
    "    Y, Y_sent_lens = batch_to_ids(Y_sent, word2id, max_len=max_len)\n",
    "    # quality and computing value of the loss function\n",
    "    # using function batch_to_ids\n",
    "    \n",
    "    predictions, loss = model.predict_for_batch_with_loss(\n",
    "        session,\n",
    "        X,\n",
    "        X_sent_lens,\n",
    "        Y,\n",
    "        Y_sent_lens\n",
    "    )\n",
    "    print('Test: epoch', epoch + 1, 'loss:', loss,)\n",
    "    for x, y, p  in list(zip(X, Y, predictions))[:3]:\n",
    "        print('X:',''.join(ids_to_sentence(x, id2word)))\n",
    "        print('Y:',''.join(ids_to_sentence(y, id2word)))\n",
    "        print('O:',''.join(ids_to_sentence(p, id2word)))\n",
    "        print('')\n",
    "\n",
    "    model_predictions = []\n",
    "    ground_truth = []\n",
    "    invalid_number_prediction_count = 0\n",
    "    # For the whole test set calculate ground-truth values (as integer numbers)\n",
    "    # and prediction values (also as integers) to calculate metrics.\n",
    "    # If generated by model number is not correct (e.g. '1-1'), \n",
    "    # increase invalid_number_prediction_count and don't append this and corresponding\n",
    "    # ground-truth value to the arrays.\n",
    "    for X_batch, Y_batch in generate_batches(test_set, batch_size=batch_size):\n",
    "        ######################################\n",
    "        ######### YOUR CODE HERE #############\n",
    "        ######################################\n",
    "        X_ids, X_sent_lens = batch_to_ids(X_batch, word2id, max_len=max_len)\n",
    "        Y_ids, Y_sent_lens = batch_to_ids(Y_batch, word2id, max_len=max_len)\n",
    "        predictions = model.predict_for_batch(session, X_ids, X_sent_lens)\n",
    "        for y, p in zip(Y_ids, predictions):\n",
    "            y_sent = ''.join(ids_to_sentence(y, id2word))\n",
    "            y_sent = y_sent[:y_sent.find('$')]\n",
    "            p_sent = ''.join(ids_to_sentence(p, id2word))\n",
    "            p_sent = p_sent[:p_sent.find('$')]\n",
    "            if p_sent.isdigit() or (p_sent.startswith('-') and p_sent[1:].isdigit()):\n",
    "                model_predictions.append(int(p_sent))\n",
    "                ground_truth.append(int(y_sent))\n",
    "            else:\n",
    "                invalid_number_prediction_count += 1\n",
    "    all_model_predictions.append(model_predictions)\n",
    "    all_ground_truth.append(ground_truth)\n",
    "    invalid_number_prediction_counts.append(invalid_number_prediction_count)\n",
    "    print(invalid_number_prediction_count)\n",
    "            \n",
    "print('\\n...training finished.')"
   ]
  },
  {
   "cell_type": "code",
   "execution_count": 107,
   "metadata": {
    "collapsed": true
   },
   "outputs": [],
   "source": [
    "x = 'string'"
   ]
  },
  {
   "cell_type": "code",
   "execution_count": 108,
   "metadata": {},
   "outputs": [
    {
     "data": {
      "text/plain": [
       "<function str.startswith>"
      ]
     },
     "execution_count": 108,
     "metadata": {},
     "output_type": "execute_result"
    }
   ],
   "source": [
    "x.startswith"
   ]
  },
  {
   "cell_type": "markdown",
   "metadata": {},
   "source": [
    "## Evaluate results\n",
    "\n",
    "Because our task is simple and the output is straight-forward, we will use [MAE](https://en.wikipedia.org/wiki/Mean_absolute_error) metric to evaluate the trained model during the epochs. Compute the value of the metric for the output from each epoch."
   ]
  },
  {
   "cell_type": "code",
   "execution_count": 109,
   "metadata": {
    "collapsed": true
   },
   "outputs": [],
   "source": [
    "from sklearn.metrics import mean_absolute_error"
   ]
  },
  {
   "cell_type": "code",
   "execution_count": 112,
   "metadata": {},
   "outputs": [
    {
     "name": "stdout",
     "output_type": "stream",
     "text": [
      "Epoch: 1, MAE: 3307.354750, Invalid numbers: 0\n",
      "Epoch: 2, MAE: 1581.083150, Invalid numbers: 0\n",
      "Epoch: 3, MAE: 1018.378400, Invalid numbers: 0\n",
      "Epoch: 4, MAE: 756.154150, Invalid numbers: 0\n",
      "Epoch: 5, MAE: 892.981400, Invalid numbers: 0\n",
      "Epoch: 6, MAE: 517.425100, Invalid numbers: 0\n",
      "Epoch: 7, MAE: 514.793450, Invalid numbers: 0\n",
      "Epoch: 8, MAE: 466.305150, Invalid numbers: 0\n",
      "Epoch: 9, MAE: 422.849050, Invalid numbers: 0\n",
      "Epoch: 10, MAE: 483.841800, Invalid numbers: 0\n",
      "Epoch: 11, MAE: 365.853050, Invalid numbers: 0\n",
      "Epoch: 12, MAE: 398.084100, Invalid numbers: 0\n",
      "Epoch: 13, MAE: 379.208650, Invalid numbers: 0\n",
      "Epoch: 14, MAE: 424.160050, Invalid numbers: 0\n",
      "Epoch: 15, MAE: 366.910250, Invalid numbers: 0\n",
      "Epoch: 16, MAE: 338.161150, Invalid numbers: 0\n",
      "Epoch: 17, MAE: 428.537000, Invalid numbers: 0\n",
      "Epoch: 18, MAE: 362.378450, Invalid numbers: 0\n",
      "Epoch: 19, MAE: 416.520500, Invalid numbers: 0\n",
      "Epoch: 20, MAE: 369.366600, Invalid numbers: 0\n"
     ]
    }
   ],
   "source": [
    "for i, (gts, predictions, invalid_number_prediction_count) in enumerate(zip(all_ground_truth,\n",
    "                                                                            all_model_predictions,\n",
    "                                                                            invalid_number_prediction_counts), 1):\n",
    "    mae = mean_absolute_error(gts, predictions) ######### YOUR CODE HERE #############\n",
    "    print(\"Epoch: %i, MAE: %f, Invalid numbers: %i\" % (i, mae, invalid_number_prediction_count))"
   ]
  },
  {
   "cell_type": "code",
   "execution_count": null,
   "metadata": {
    "collapsed": true
   },
   "outputs": [],
   "source": []
  }
 ],
 "metadata": {
  "kernelspec": {
   "display_name": "Python 3",
   "language": "python",
   "name": "python3"
  },
  "language_info": {
   "codemirror_mode": {
    "name": "ipython",
    "version": 3
   },
   "file_extension": ".py",
   "mimetype": "text/x-python",
   "name": "python",
   "nbconvert_exporter": "python",
   "pygments_lexer": "ipython3",
   "version": "3.6.1"
  }
 },
 "nbformat": 4,
 "nbformat_minor": 2
}
